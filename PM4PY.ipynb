{
  "nbformat": 4,
  "nbformat_minor": 0,
  "metadata": {
    "colab": {
      "provenance": [],
      "collapsed_sections": [
        "W6jZ4XfcAnok",
        "NHCYTl9xAOuG",
        "IfiMI_hFAKTt"
      ],
      "include_colab_link": true
    },
    "kernelspec": {
      "name": "python3",
      "display_name": "Python 3"
    },
    "language_info": {
      "name": "python"
    }
  },
  "cells": [
    {
      "cell_type": "markdown",
      "metadata": {
        "id": "view-in-github",
        "colab_type": "text"
      },
      "source": [
        "<a href=\"https://colab.research.google.com/github/brokentwigs/Colab-Analysis/blob/main/PM4PY.ipynb\" target=\"_parent\"><img src=\"https://colab.research.google.com/assets/colab-badge.svg\" alt=\"Open In Colab\"/></a>"
      ]
    },
    {
      "cell_type": "markdown",
      "source": [
        "## Package Installation"
      ],
      "metadata": {
        "id": "W6jZ4XfcAnok"
      }
    },
    {
      "cell_type": "code",
      "execution_count": null,
      "metadata": {
        "colab": {
          "base_uri": "https://localhost:8080/"
        },
        "id": "tdUlIoeSg2wn",
        "outputId": "59fc67cd-246c-4bf0-bcfd-28f4a74663d2"
      },
      "outputs": [
        {
          "output_type": "stream",
          "name": "stdout",
          "text": [
            "Requirement already satisfied: pm4py in /usr/local/lib/python3.7/dist-packages (2.2.19.2)\n",
            "Requirement already satisfied: deprecation in /usr/local/lib/python3.7/dist-packages (from pm4py) (2.1.0)\n",
            "Requirement already satisfied: numpy>=1.19.5 in /usr/local/lib/python3.7/dist-packages (from pm4py) (1.21.5)\n",
            "Requirement already satisfied: matplotlib in /usr/local/lib/python3.7/dist-packages (from pm4py) (3.2.2)\n",
            "Requirement already satisfied: sympy in /usr/local/lib/python3.7/dist-packages (from pm4py) (1.7.1)\n",
            "Requirement already satisfied: cvxopt in /usr/local/lib/python3.7/dist-packages (from pm4py) (1.2.7)\n",
            "Requirement already satisfied: pydotplus in /usr/local/lib/python3.7/dist-packages (from pm4py) (2.0.2)\n",
            "Requirement already satisfied: pyvis in /usr/local/lib/python3.7/dist-packages (from pm4py) (0.1.9)\n",
            "Requirement already satisfied: tqdm in /usr/local/lib/python3.7/dist-packages (from pm4py) (4.63.0)\n",
            "Requirement already satisfied: networkx in /usr/local/lib/python3.7/dist-packages (from pm4py) (2.6.3)\n",
            "Requirement already satisfied: pandas>=1.1.5 in /usr/local/lib/python3.7/dist-packages (from pm4py) (1.3.5)\n",
            "Requirement already satisfied: graphviz in /usr/local/lib/python3.7/dist-packages (from pm4py) (0.10.1)\n",
            "Requirement already satisfied: pytz in /usr/local/lib/python3.7/dist-packages (from pm4py) (2018.9)\n",
            "Requirement already satisfied: scipy in /usr/local/lib/python3.7/dist-packages (from pm4py) (1.4.1)\n",
            "Requirement already satisfied: intervaltree in /usr/local/lib/python3.7/dist-packages (from pm4py) (2.1.0)\n",
            "Requirement already satisfied: lxml in /usr/local/lib/python3.7/dist-packages (from pm4py) (4.2.6)\n",
            "Requirement already satisfied: jsonpickle in /usr/local/lib/python3.7/dist-packages (from pm4py) (2.1.0)\n",
            "Requirement already satisfied: stringdist in /usr/local/lib/python3.7/dist-packages (from pm4py) (1.0.9)\n",
            "Requirement already satisfied: python-dateutil>=2.7.3 in /usr/local/lib/python3.7/dist-packages (from pandas>=1.1.5->pm4py) (2.8.2)\n",
            "Requirement already satisfied: six>=1.5 in /usr/local/lib/python3.7/dist-packages (from python-dateutil>=2.7.3->pandas>=1.1.5->pm4py) (1.15.0)\n",
            "Requirement already satisfied: packaging in /usr/local/lib/python3.7/dist-packages (from deprecation->pm4py) (21.3)\n",
            "Requirement already satisfied: sortedcontainers in /usr/local/lib/python3.7/dist-packages (from intervaltree->pm4py) (2.4.0)\n",
            "Requirement already satisfied: importlib-metadata in /usr/local/lib/python3.7/dist-packages (from jsonpickle->pm4py) (4.11.2)\n",
            "Requirement already satisfied: typing-extensions>=3.6.4 in /usr/local/lib/python3.7/dist-packages (from importlib-metadata->jsonpickle->pm4py) (3.10.0.2)\n",
            "Requirement already satisfied: zipp>=0.5 in /usr/local/lib/python3.7/dist-packages (from importlib-metadata->jsonpickle->pm4py) (3.7.0)\n",
            "Requirement already satisfied: pyparsing!=2.0.4,!=2.1.2,!=2.1.6,>=2.0.1 in /usr/local/lib/python3.7/dist-packages (from matplotlib->pm4py) (3.0.7)\n",
            "Requirement already satisfied: cycler>=0.10 in /usr/local/lib/python3.7/dist-packages (from matplotlib->pm4py) (0.11.0)\n",
            "Requirement already satisfied: kiwisolver>=1.0.1 in /usr/local/lib/python3.7/dist-packages (from matplotlib->pm4py) (1.3.2)\n",
            "Requirement already satisfied: jinja2>=2.9.6 in /usr/local/lib/python3.7/dist-packages (from pyvis->pm4py) (2.11.3)\n",
            "Requirement already satisfied: ipython>=5.3.0 in /usr/local/lib/python3.7/dist-packages (from pyvis->pm4py) (5.5.0)\n",
            "Requirement already satisfied: pexpect in /usr/local/lib/python3.7/dist-packages (from ipython>=5.3.0->pyvis->pm4py) (4.8.0)\n",
            "Requirement already satisfied: traitlets>=4.2 in /usr/local/lib/python3.7/dist-packages (from ipython>=5.3.0->pyvis->pm4py) (5.1.1)\n",
            "Requirement already satisfied: prompt-toolkit<2.0.0,>=1.0.4 in /usr/local/lib/python3.7/dist-packages (from ipython>=5.3.0->pyvis->pm4py) (1.0.18)\n",
            "Requirement already satisfied: setuptools>=18.5 in /usr/local/lib/python3.7/dist-packages (from ipython>=5.3.0->pyvis->pm4py) (57.4.0)\n",
            "Requirement already satisfied: pickleshare in /usr/local/lib/python3.7/dist-packages (from ipython>=5.3.0->pyvis->pm4py) (0.7.5)\n",
            "Requirement already satisfied: pygments in /usr/local/lib/python3.7/dist-packages (from ipython>=5.3.0->pyvis->pm4py) (2.6.1)\n",
            "Requirement already satisfied: simplegeneric>0.8 in /usr/local/lib/python3.7/dist-packages (from ipython>=5.3.0->pyvis->pm4py) (0.8.1)\n",
            "Requirement already satisfied: decorator in /usr/local/lib/python3.7/dist-packages (from ipython>=5.3.0->pyvis->pm4py) (4.4.2)\n",
            "Requirement already satisfied: MarkupSafe>=0.23 in /usr/local/lib/python3.7/dist-packages (from jinja2>=2.9.6->pyvis->pm4py) (2.0.1)\n",
            "Requirement already satisfied: wcwidth in /usr/local/lib/python3.7/dist-packages (from prompt-toolkit<2.0.0,>=1.0.4->ipython>=5.3.0->pyvis->pm4py) (0.2.5)\n",
            "Requirement already satisfied: ptyprocess>=0.5 in /usr/local/lib/python3.7/dist-packages (from pexpect->ipython>=5.3.0->pyvis->pm4py) (0.7.0)\n",
            "Requirement already satisfied: mpmath>=0.19 in /usr/local/lib/python3.7/dist-packages (from sympy->pm4py) (1.2.1)\n"
          ]
        }
      ],
      "source": [
        "pip install pm4py"
      ]
    },
    {
      "cell_type": "markdown",
      "source": [
        "## All Imports"
      ],
      "metadata": {
        "id": "NHCYTl9xAOuG"
      }
    },
    {
      "cell_type": "code",
      "source": [
        "import pm4py"
      ],
      "metadata": {
        "id": "zwjLKABZhB6n"
      },
      "execution_count": null,
      "outputs": []
    },
    {
      "cell_type": "code",
      "source": [
        "import pandas as pd\n",
        "import numpy as np\n",
        "from datetime import datetime\n",
        "from datetime import timedelta\n",
        "import matplotlib.pyplot as plt\n",
        "import os"
      ],
      "metadata": {
        "id": "xABZUeBohDnb"
      },
      "execution_count": null,
      "outputs": []
    },
    {
      "cell_type": "code",
      "source": [
        "from pm4py.objects.log.util import dataframe_utils\n",
        "from pm4py.objects.conversion.log import converter as log_converter\n",
        "from pm4py.objects.log.importer.xes import importer as xes_importer\n",
        "from pm4py.objects.log.util import func as functools\n",
        "from pm4py.algo.discovery.alpha import algorithm as alpha_miner"
      ],
      "metadata": {
        "id": "HR0DVe02hR_H"
      },
      "execution_count": null,
      "outputs": []
    },
    {
      "cell_type": "code",
      "source": [
        "from pm4py.algo.conformance.tokenreplay import algorithm as token_replay\n",
        "from pm4py.algo.discovery.inductive import algorithm as inductive_miner"
      ],
      "metadata": {
        "id": "EGErdDqJBTIE"
      },
      "execution_count": null,
      "outputs": []
    },
    {
      "cell_type": "code",
      "source": [
        "import time"
      ],
      "metadata": {
        "id": "VTwn4tPfD2tS"
      },
      "execution_count": null,
      "outputs": []
    },
    {
      "cell_type": "code",
      "source": [
        "import pandas as pd\n",
        "\n",
        "import numpy as np\n",
        "\n",
        "import sklearn\n",
        "\n",
        "from sklearn.model_selection import train_test_split\n",
        "\n",
        "from sklearn.metrics import classification_report,roc_auc_score,confusion_matrix,accuracy_score,f1_score,roc_curve\n",
        "\n",
        "from sklearn.preprocessing import LabelEncoder\n",
        "\n",
        "from keras.preprocessing.sequence import pad_sequences\n",
        "\n",
        "from keras.models import Sequential\n",
        "\n",
        "from keras.callbacks import ReduceLROnPlateau, EarlyStopping\n",
        "\n",
        "from keras.layers import Activation, Dense, Dropout, Embedding, LSTM\n",
        "\n",
        "import re\n",
        "\n",
        "from IPython.display import display\n",
        "\n",
        "import os\n",
        "\n",
        "import string\n",
        "\n",
        "import time\n",
        "\n",
        "import random\n",
        "\n",
        "import matplotlib.pyplot as plt\n",
        "\n",
        "from tensorflow.keras.datasets import imdb"
      ],
      "metadata": {
        "id": "PKfIrNZKyd5q"
      },
      "execution_count": null,
      "outputs": []
    },
    {
      "cell_type": "markdown",
      "source": [
        "## Temporal Splitting"
      ],
      "metadata": {
        "id": "Z7feb-n1X0ZA"
      }
    },
    {
      "cell_type": "code",
      "source": [
        "testing_length = len(df_bpi['case'].unique())//10\n",
        "training_length = len(df_bpi['case'].unique()) - (len(df_bpi['case'].unique())//10)\n",
        "training_cases = df_bpi['case'].unique()[0:training_length]\n",
        "testing_cases = df_bpi['case'].unique()[training_length:]\n",
        "df_bpi_train = df_bpi[df_bpi['case'].isin(training_cases)]\n",
        "df_bpi_train\n",
        "df_bpi_test = df_bpi[df_bpi['case'].isin(testing_cases)]"
      ],
      "metadata": {
        "colab": {
          "base_uri": "https://localhost:8080/",
          "height": 467
        },
        "id": "EVDmwElDX6qh",
        "outputId": "dced03d8-8494-44a8-e0c4-a92d0d9605db"
      },
      "execution_count": null,
      "outputs": [
        {
          "output_type": "execute_result",
          "data": {
            "text/html": [
              "\n",
              "  <div id=\"df-4999a006-b7db-4d17-beda-3b5fde3e6f2a\">\n",
              "    <div class=\"colab-df-container\">\n",
              "      <div>\n",
              "<style scoped>\n",
              "    .dataframe tbody tr th:only-of-type {\n",
              "        vertical-align: middle;\n",
              "    }\n",
              "\n",
              "    .dataframe tbody tr th {\n",
              "        vertical-align: top;\n",
              "    }\n",
              "\n",
              "    .dataframe thead th {\n",
              "        text-align: right;\n",
              "    }\n",
              "</style>\n",
              "<table border=\"1\" class=\"dataframe\">\n",
              "  <thead>\n",
              "    <tr style=\"text-align: right;\">\n",
              "      <th></th>\n",
              "      <th>\"case\"</th>\n",
              "      <th>\"event\"</th>\n",
              "      <th>\"startTime\"</th>\n",
              "      <th>\"completeTime\"</th>\n",
              "      <th>\"AMOUNT_REQ\"</th>\n",
              "      <th>\"REG_DATE\"</th>\n",
              "      <th>\"org:resource\"</th>\n",
              "    </tr>\n",
              "  </thead>\n",
              "  <tbody>\n",
              "    <tr>\n",
              "      <th>0</th>\n",
              "      <td>\"173688\"</td>\n",
              "      <td>\"A_SUBMITTED\"</td>\n",
              "      <td>\"2011/10/01 00:38:44.546\"</td>\n",
              "      <td>\"2011/10/01 00:38:44.546\"</td>\n",
              "      <td>\"20000\"</td>\n",
              "      <td>\"2011/10/01 00:38:44.546\"</td>\n",
              "      <td>\"112\"</td>\n",
              "    </tr>\n",
              "    <tr>\n",
              "      <th>1</th>\n",
              "      <td>\"173688\"</td>\n",
              "      <td>\"A_PARTLYSUBMITTED\"</td>\n",
              "      <td>\"2011/10/01 00:38:44.880\"</td>\n",
              "      <td>\"2011/10/01 00:38:44.880\"</td>\n",
              "      <td>\"20000\"</td>\n",
              "      <td>\"2011/10/01 00:38:44.546\"</td>\n",
              "      <td>\"112\"</td>\n",
              "    </tr>\n",
              "    <tr>\n",
              "      <th>2</th>\n",
              "      <td>\"173688\"</td>\n",
              "      <td>\"A_PREACCEPTED\"</td>\n",
              "      <td>\"2011/10/01 00:39:37.906\"</td>\n",
              "      <td>\"2011/10/01 00:39:37.906\"</td>\n",
              "      <td>\"20000\"</td>\n",
              "      <td>\"2011/10/01 00:38:44.546\"</td>\n",
              "      <td>\"112\"</td>\n",
              "    </tr>\n",
              "    <tr>\n",
              "      <th>3</th>\n",
              "      <td>\"173688\"</td>\n",
              "      <td>\"A_PREACCEPTED\"</td>\n",
              "      <td>\"2011/10/01 00:39:37.906\"</td>\n",
              "      <td>\"2011/10/01 00:39:37.906\"</td>\n",
              "      <td>\"20000\"</td>\n",
              "      <td>\"2011/10/01 00:38:44.546\"</td>\n",
              "      <td>\"112\"</td>\n",
              "    </tr>\n",
              "    <tr>\n",
              "      <th>4</th>\n",
              "      <td>\"173688\"</td>\n",
              "      <td>\"W_Completeren aanvraag\"</td>\n",
              "      <td>\"2011/10/01 11:36:46.437\"</td>\n",
              "      <td>\"2011/10/01 11:45:13.917\"</td>\n",
              "      <td>\"20000\"</td>\n",
              "      <td>\"2011/10/01 00:38:44.546\"</td>\n",
              "      <td>\"112\"</td>\n",
              "    </tr>\n",
              "    <tr>\n",
              "      <th>...</th>\n",
              "      <td>...</td>\n",
              "      <td>...</td>\n",
              "      <td>...</td>\n",
              "      <td>...</td>\n",
              "      <td>...</td>\n",
              "      <td>...</td>\n",
              "      <td>...</td>\n",
              "    </tr>\n",
              "    <tr>\n",
              "      <th>139409</th>\n",
              "      <td>\"203179\"</td>\n",
              "      <td>\"W_Nabellen offertes\"</td>\n",
              "      <td>\"2012/01/25 09:44:54.430\"</td>\n",
              "      <td>\"2012/01/25 09:45:26.288\"</td>\n",
              "      <td>\"20000\"</td>\n",
              "      <td>\"2012/01/23 11:36:27.591\"</td>\n",
              "      <td>\"10982\"</td>\n",
              "    </tr>\n",
              "    <tr>\n",
              "      <th>139410</th>\n",
              "      <td>\"203179\"</td>\n",
              "      <td>\"W_Nabellen offertes\"</td>\n",
              "      <td>\"2012/02/01 09:37:47.809\"</td>\n",
              "      <td>\"2012/02/01 09:40:39.661\"</td>\n",
              "      <td>\"20000\"</td>\n",
              "      <td>\"2012/01/23 11:36:27.591\"</td>\n",
              "      <td>\"10861\"</td>\n",
              "    </tr>\n",
              "    <tr>\n",
              "      <th>139411</th>\n",
              "      <td>\"203179\"</td>\n",
              "      <td>\"W_Nabellen offertes\"</td>\n",
              "      <td>\"2012/02/02 19:00:45.678\"</td>\n",
              "      <td>\"2012/02/02 19:02:22.452\"</td>\n",
              "      <td>\"20000\"</td>\n",
              "      <td>\"2012/01/23 11:36:27.591\"</td>\n",
              "      <td>\"11180\"</td>\n",
              "    </tr>\n",
              "    <tr>\n",
              "      <th>139412</th>\n",
              "      <td>\"203179\"</td>\n",
              "      <td>\"O_CANCELLED\"</td>\n",
              "      <td>\"2012/02/02 19:02:20.159\"</td>\n",
              "      <td>\"2012/02/02 19:02:20.159\"</td>\n",
              "      <td>\"20000\"</td>\n",
              "      <td>\"2012/01/23 11:36:27.591\"</td>\n",
              "      <td>\"11180\"</td>\n",
              "    </tr>\n",
              "    <tr>\n",
              "      <th>139413</th>\n",
              "      <td>\"203179\"</td>\n",
              "      <td>\"A_CANCELLED\"</td>\n",
              "      <td>\"2012/02/02 19:02:20.159\"</td>\n",
              "      <td>\"2012/02/02 19:02:20.159\"</td>\n",
              "      <td>\"20000\"</td>\n",
              "      <td>\"2012/01/23 11:36:27.591\"</td>\n",
              "      <td>\"11180\"</td>\n",
              "    </tr>\n",
              "  </tbody>\n",
              "</table>\n",
              "<p>139414 rows × 7 columns</p>\n",
              "</div>\n",
              "      <button class=\"colab-df-convert\" onclick=\"convertToInteractive('df-4999a006-b7db-4d17-beda-3b5fde3e6f2a')\"\n",
              "              title=\"Convert this dataframe to an interactive table.\"\n",
              "              style=\"display:none;\">\n",
              "        \n",
              "  <svg xmlns=\"http://www.w3.org/2000/svg\" height=\"24px\"viewBox=\"0 0 24 24\"\n",
              "       width=\"24px\">\n",
              "    <path d=\"M0 0h24v24H0V0z\" fill=\"none\"/>\n",
              "    <path d=\"M18.56 5.44l.94 2.06.94-2.06 2.06-.94-2.06-.94-.94-2.06-.94 2.06-2.06.94zm-11 1L8.5 8.5l.94-2.06 2.06-.94-2.06-.94L8.5 2.5l-.94 2.06-2.06.94zm10 10l.94 2.06.94-2.06 2.06-.94-2.06-.94-.94-2.06-.94 2.06-2.06.94z\"/><path d=\"M17.41 7.96l-1.37-1.37c-.4-.4-.92-.59-1.43-.59-.52 0-1.04.2-1.43.59L10.3 9.45l-7.72 7.72c-.78.78-.78 2.05 0 2.83L4 21.41c.39.39.9.59 1.41.59.51 0 1.02-.2 1.41-.59l7.78-7.78 2.81-2.81c.8-.78.8-2.07 0-2.86zM5.41 20L4 18.59l7.72-7.72 1.47 1.35L5.41 20z\"/>\n",
              "  </svg>\n",
              "      </button>\n",
              "      \n",
              "  <style>\n",
              "    .colab-df-container {\n",
              "      display:flex;\n",
              "      flex-wrap:wrap;\n",
              "      gap: 12px;\n",
              "    }\n",
              "\n",
              "    .colab-df-convert {\n",
              "      background-color: #E8F0FE;\n",
              "      border: none;\n",
              "      border-radius: 50%;\n",
              "      cursor: pointer;\n",
              "      display: none;\n",
              "      fill: #1967D2;\n",
              "      height: 32px;\n",
              "      padding: 0 0 0 0;\n",
              "      width: 32px;\n",
              "    }\n",
              "\n",
              "    .colab-df-convert:hover {\n",
              "      background-color: #E2EBFA;\n",
              "      box-shadow: 0px 1px 2px rgba(60, 64, 67, 0.3), 0px 1px 3px 1px rgba(60, 64, 67, 0.15);\n",
              "      fill: #174EA6;\n",
              "    }\n",
              "\n",
              "    [theme=dark] .colab-df-convert {\n",
              "      background-color: #3B4455;\n",
              "      fill: #D2E3FC;\n",
              "    }\n",
              "\n",
              "    [theme=dark] .colab-df-convert:hover {\n",
              "      background-color: #434B5C;\n",
              "      box-shadow: 0px 1px 3px 1px rgba(0, 0, 0, 0.15);\n",
              "      filter: drop-shadow(0px 1px 2px rgba(0, 0, 0, 0.3));\n",
              "      fill: #FFFFFF;\n",
              "    }\n",
              "  </style>\n",
              "\n",
              "      <script>\n",
              "        const buttonEl =\n",
              "          document.querySelector('#df-4999a006-b7db-4d17-beda-3b5fde3e6f2a button.colab-df-convert');\n",
              "        buttonEl.style.display =\n",
              "          google.colab.kernel.accessAllowed ? 'block' : 'none';\n",
              "\n",
              "        async function convertToInteractive(key) {\n",
              "          const element = document.querySelector('#df-4999a006-b7db-4d17-beda-3b5fde3e6f2a');\n",
              "          const dataTable =\n",
              "            await google.colab.kernel.invokeFunction('convertToInteractive',\n",
              "                                                     [key], {});\n",
              "          if (!dataTable) return;\n",
              "\n",
              "          const docLinkHtml = 'Like what you see? Visit the ' +\n",
              "            '<a target=\"_blank\" href=https://colab.research.google.com/notebooks/data_table.ipynb>data table notebook</a>'\n",
              "            + ' to learn more about interactive tables.';\n",
              "          element.innerHTML = '';\n",
              "          dataTable['output_type'] = 'display_data';\n",
              "          await google.colab.output.renderOutput(dataTable, element);\n",
              "          const docLink = document.createElement('div');\n",
              "          docLink.innerHTML = docLinkHtml;\n",
              "          element.appendChild(docLink);\n",
              "        }\n",
              "      </script>\n",
              "    </div>\n",
              "  </div>\n",
              "  "
            ],
            "text/plain": [
              "          \"case\"                   \"event\"                \"startTime\"  \\\n",
              "0       \"173688\"             \"A_SUBMITTED\"  \"2011/10/01 00:38:44.546\"   \n",
              "1       \"173688\"       \"A_PARTLYSUBMITTED\"  \"2011/10/01 00:38:44.880\"   \n",
              "2       \"173688\"           \"A_PREACCEPTED\"  \"2011/10/01 00:39:37.906\"   \n",
              "3       \"173688\"           \"A_PREACCEPTED\"  \"2011/10/01 00:39:37.906\"   \n",
              "4       \"173688\"  \"W_Completeren aanvraag\"  \"2011/10/01 11:36:46.437\"   \n",
              "...          ...                       ...                        ...   \n",
              "139409  \"203179\"     \"W_Nabellen offertes\"  \"2012/01/25 09:44:54.430\"   \n",
              "139410  \"203179\"     \"W_Nabellen offertes\"  \"2012/02/01 09:37:47.809\"   \n",
              "139411  \"203179\"     \"W_Nabellen offertes\"  \"2012/02/02 19:00:45.678\"   \n",
              "139412  \"203179\"             \"O_CANCELLED\"  \"2012/02/02 19:02:20.159\"   \n",
              "139413  \"203179\"             \"A_CANCELLED\"  \"2012/02/02 19:02:20.159\"   \n",
              "\n",
              "                   \"completeTime\" \"AMOUNT_REQ\"                 \"REG_DATE\"  \\\n",
              "0       \"2011/10/01 00:38:44.546\"      \"20000\"  \"2011/10/01 00:38:44.546\"   \n",
              "1       \"2011/10/01 00:38:44.880\"      \"20000\"  \"2011/10/01 00:38:44.546\"   \n",
              "2       \"2011/10/01 00:39:37.906\"      \"20000\"  \"2011/10/01 00:38:44.546\"   \n",
              "3       \"2011/10/01 00:39:37.906\"      \"20000\"  \"2011/10/01 00:38:44.546\"   \n",
              "4       \"2011/10/01 11:45:13.917\"      \"20000\"  \"2011/10/01 00:38:44.546\"   \n",
              "...                           ...          ...                        ...   \n",
              "139409  \"2012/01/25 09:45:26.288\"      \"20000\"  \"2012/01/23 11:36:27.591\"   \n",
              "139410  \"2012/02/01 09:40:39.661\"      \"20000\"  \"2012/01/23 11:36:27.591\"   \n",
              "139411  \"2012/02/02 19:02:22.452\"      \"20000\"  \"2012/01/23 11:36:27.591\"   \n",
              "139412  \"2012/02/02 19:02:20.159\"      \"20000\"  \"2012/01/23 11:36:27.591\"   \n",
              "139413  \"2012/02/02 19:02:20.159\"      \"20000\"  \"2012/01/23 11:36:27.591\"   \n",
              "\n",
              "       \"org:resource\"  \n",
              "0               \"112\"  \n",
              "1               \"112\"  \n",
              "2               \"112\"  \n",
              "3               \"112\"  \n",
              "4               \"112\"  \n",
              "...               ...  \n",
              "139409        \"10982\"  \n",
              "139410        \"10861\"  \n",
              "139411        \"11180\"  \n",
              "139412        \"11180\"  \n",
              "139413        \"11180\"  \n",
              "\n",
              "[139414 rows x 7 columns]"
            ]
          },
          "metadata": {},
          "execution_count": 62
        }
      ]
    },
    {
      "cell_type": "code",
      "source": [],
      "metadata": {
        "id": "A3cucTF68kT_"
      },
      "execution_count": null,
      "outputs": []
    },
    {
      "cell_type": "markdown",
      "source": [
        "## Playing Around with Pm4py"
      ],
      "metadata": {
        "id": "IfiMI_hFAKTt"
      }
    },
    {
      "cell_type": "code",
      "source": [
        "log_csv = pd.read_csv('RoadFines.csv', sep=',')\n",
        "#log_csv.rename(columns={'case': 'case:clientID'}, inplace=True)\n",
        "parameters = {log_converter.Variants.TO_EVENT_LOG.value.Parameters.CASE_ID_KEY: 'case'}\n",
        "event_log = log_converter.apply(log_csv, parameters=parameters, variant=log_converter.Variants.TO_EVENT_LOG)"
      ],
      "metadata": {
        "id": "Dyeh3R5ohWbP",
        "colab": {
          "base_uri": "https://localhost:8080/",
          "height": 276
        },
        "outputId": "781c0c9e-443f-4e8d-cef1-8e0340ad3b65"
      },
      "execution_count": null,
      "outputs": [
        {
          "output_type": "error",
          "ename": "ParserError",
          "evalue": "ignored",
          "traceback": [
            "\u001b[0;31m---------------------------------------------------------------------------\u001b[0m",
            "\u001b[0;31mParserError\u001b[0m                               Traceback (most recent call last)",
            "\u001b[0;32m<ipython-input-15-4ce08dcc8abc>\u001b[0m in \u001b[0;36m<module>\u001b[0;34m()\u001b[0m\n\u001b[0;32m----> 1\u001b[0;31m \u001b[0mlog_csv\u001b[0m \u001b[0;34m=\u001b[0m \u001b[0mpd\u001b[0m\u001b[0;34m.\u001b[0m\u001b[0mread_csv\u001b[0m\u001b[0;34m(\u001b[0m\u001b[0;34m'RoadFines.csv'\u001b[0m\u001b[0;34m,\u001b[0m \u001b[0msep\u001b[0m\u001b[0;34m=\u001b[0m\u001b[0;34m','\u001b[0m\u001b[0;34m)\u001b[0m\u001b[0;34m\u001b[0m\u001b[0;34m\u001b[0m\u001b[0m\n\u001b[0m\u001b[1;32m      2\u001b[0m \u001b[0;31m#log_csv.rename(columns={'case': 'case:clientID'}, inplace=True)\u001b[0m\u001b[0;34m\u001b[0m\u001b[0;34m\u001b[0m\u001b[0;34m\u001b[0m\u001b[0m\n\u001b[1;32m      3\u001b[0m \u001b[0mparameters\u001b[0m \u001b[0;34m=\u001b[0m \u001b[0;34m{\u001b[0m\u001b[0mlog_converter\u001b[0m\u001b[0;34m.\u001b[0m\u001b[0mVariants\u001b[0m\u001b[0;34m.\u001b[0m\u001b[0mTO_EVENT_LOG\u001b[0m\u001b[0;34m.\u001b[0m\u001b[0mvalue\u001b[0m\u001b[0;34m.\u001b[0m\u001b[0mParameters\u001b[0m\u001b[0;34m.\u001b[0m\u001b[0mCASE_ID_KEY\u001b[0m\u001b[0;34m:\u001b[0m \u001b[0;34m'case'\u001b[0m\u001b[0;34m}\u001b[0m\u001b[0;34m\u001b[0m\u001b[0;34m\u001b[0m\u001b[0m\n\u001b[1;32m      4\u001b[0m \u001b[0mevent_log\u001b[0m \u001b[0;34m=\u001b[0m \u001b[0mlog_converter\u001b[0m\u001b[0;34m.\u001b[0m\u001b[0mapply\u001b[0m\u001b[0;34m(\u001b[0m\u001b[0mlog_csv\u001b[0m\u001b[0;34m,\u001b[0m \u001b[0mparameters\u001b[0m\u001b[0;34m=\u001b[0m\u001b[0mparameters\u001b[0m\u001b[0;34m,\u001b[0m \u001b[0mvariant\u001b[0m\u001b[0;34m=\u001b[0m\u001b[0mlog_converter\u001b[0m\u001b[0;34m.\u001b[0m\u001b[0mVariants\u001b[0m\u001b[0;34m.\u001b[0m\u001b[0mTO_EVENT_LOG\u001b[0m\u001b[0;34m)\u001b[0m\u001b[0;34m\u001b[0m\u001b[0;34m\u001b[0m\u001b[0m\n",
            "\u001b[0;32m/usr/local/lib/python3.7/dist-packages/pandas/util/_decorators.py\u001b[0m in \u001b[0;36mwrapper\u001b[0;34m(*args, **kwargs)\u001b[0m\n\u001b[1;32m    309\u001b[0m                     \u001b[0mstacklevel\u001b[0m\u001b[0;34m=\u001b[0m\u001b[0mstacklevel\u001b[0m\u001b[0;34m,\u001b[0m\u001b[0;34m\u001b[0m\u001b[0;34m\u001b[0m\u001b[0m\n\u001b[1;32m    310\u001b[0m                 )\n\u001b[0;32m--> 311\u001b[0;31m             \u001b[0;32mreturn\u001b[0m \u001b[0mfunc\u001b[0m\u001b[0;34m(\u001b[0m\u001b[0;34m*\u001b[0m\u001b[0margs\u001b[0m\u001b[0;34m,\u001b[0m \u001b[0;34m**\u001b[0m\u001b[0mkwargs\u001b[0m\u001b[0;34m)\u001b[0m\u001b[0;34m\u001b[0m\u001b[0;34m\u001b[0m\u001b[0m\n\u001b[0m\u001b[1;32m    312\u001b[0m \u001b[0;34m\u001b[0m\u001b[0m\n\u001b[1;32m    313\u001b[0m         \u001b[0;32mreturn\u001b[0m \u001b[0mwrapper\u001b[0m\u001b[0;34m\u001b[0m\u001b[0;34m\u001b[0m\u001b[0m\n",
            "\u001b[0;32m/usr/local/lib/python3.7/dist-packages/pandas/io/parsers/readers.py\u001b[0m in \u001b[0;36mread_csv\u001b[0;34m(filepath_or_buffer, sep, delimiter, header, names, index_col, usecols, squeeze, prefix, mangle_dupe_cols, dtype, engine, converters, true_values, false_values, skipinitialspace, skiprows, skipfooter, nrows, na_values, keep_default_na, na_filter, verbose, skip_blank_lines, parse_dates, infer_datetime_format, keep_date_col, date_parser, dayfirst, cache_dates, iterator, chunksize, compression, thousands, decimal, lineterminator, quotechar, quoting, doublequote, escapechar, comment, encoding, encoding_errors, dialect, error_bad_lines, warn_bad_lines, on_bad_lines, delim_whitespace, low_memory, memory_map, float_precision, storage_options)\u001b[0m\n\u001b[1;32m    584\u001b[0m     \u001b[0mkwds\u001b[0m\u001b[0;34m.\u001b[0m\u001b[0mupdate\u001b[0m\u001b[0;34m(\u001b[0m\u001b[0mkwds_defaults\u001b[0m\u001b[0;34m)\u001b[0m\u001b[0;34m\u001b[0m\u001b[0;34m\u001b[0m\u001b[0m\n\u001b[1;32m    585\u001b[0m \u001b[0;34m\u001b[0m\u001b[0m\n\u001b[0;32m--> 586\u001b[0;31m     \u001b[0;32mreturn\u001b[0m \u001b[0m_read\u001b[0m\u001b[0;34m(\u001b[0m\u001b[0mfilepath_or_buffer\u001b[0m\u001b[0;34m,\u001b[0m \u001b[0mkwds\u001b[0m\u001b[0;34m)\u001b[0m\u001b[0;34m\u001b[0m\u001b[0;34m\u001b[0m\u001b[0m\n\u001b[0m\u001b[1;32m    587\u001b[0m \u001b[0;34m\u001b[0m\u001b[0m\n\u001b[1;32m    588\u001b[0m \u001b[0;34m\u001b[0m\u001b[0m\n",
            "\u001b[0;32m/usr/local/lib/python3.7/dist-packages/pandas/io/parsers/readers.py\u001b[0m in \u001b[0;36m_read\u001b[0;34m(filepath_or_buffer, kwds)\u001b[0m\n\u001b[1;32m    486\u001b[0m \u001b[0;34m\u001b[0m\u001b[0m\n\u001b[1;32m    487\u001b[0m     \u001b[0;32mwith\u001b[0m \u001b[0mparser\u001b[0m\u001b[0;34m:\u001b[0m\u001b[0;34m\u001b[0m\u001b[0;34m\u001b[0m\u001b[0m\n\u001b[0;32m--> 488\u001b[0;31m         \u001b[0;32mreturn\u001b[0m \u001b[0mparser\u001b[0m\u001b[0;34m.\u001b[0m\u001b[0mread\u001b[0m\u001b[0;34m(\u001b[0m\u001b[0mnrows\u001b[0m\u001b[0;34m)\u001b[0m\u001b[0;34m\u001b[0m\u001b[0;34m\u001b[0m\u001b[0m\n\u001b[0m\u001b[1;32m    489\u001b[0m \u001b[0;34m\u001b[0m\u001b[0m\n\u001b[1;32m    490\u001b[0m \u001b[0;34m\u001b[0m\u001b[0m\n",
            "\u001b[0;32m/usr/local/lib/python3.7/dist-packages/pandas/io/parsers/readers.py\u001b[0m in \u001b[0;36mread\u001b[0;34m(self, nrows)\u001b[0m\n\u001b[1;32m   1045\u001b[0m     \u001b[0;32mdef\u001b[0m \u001b[0mread\u001b[0m\u001b[0;34m(\u001b[0m\u001b[0mself\u001b[0m\u001b[0;34m,\u001b[0m \u001b[0mnrows\u001b[0m\u001b[0;34m=\u001b[0m\u001b[0;32mNone\u001b[0m\u001b[0;34m)\u001b[0m\u001b[0;34m:\u001b[0m\u001b[0;34m\u001b[0m\u001b[0;34m\u001b[0m\u001b[0m\n\u001b[1;32m   1046\u001b[0m         \u001b[0mnrows\u001b[0m \u001b[0;34m=\u001b[0m \u001b[0mvalidate_integer\u001b[0m\u001b[0;34m(\u001b[0m\u001b[0;34m\"nrows\"\u001b[0m\u001b[0;34m,\u001b[0m \u001b[0mnrows\u001b[0m\u001b[0;34m)\u001b[0m\u001b[0;34m\u001b[0m\u001b[0;34m\u001b[0m\u001b[0m\n\u001b[0;32m-> 1047\u001b[0;31m         \u001b[0mindex\u001b[0m\u001b[0;34m,\u001b[0m \u001b[0mcolumns\u001b[0m\u001b[0;34m,\u001b[0m \u001b[0mcol_dict\u001b[0m \u001b[0;34m=\u001b[0m \u001b[0mself\u001b[0m\u001b[0;34m.\u001b[0m\u001b[0m_engine\u001b[0m\u001b[0;34m.\u001b[0m\u001b[0mread\u001b[0m\u001b[0;34m(\u001b[0m\u001b[0mnrows\u001b[0m\u001b[0;34m)\u001b[0m\u001b[0;34m\u001b[0m\u001b[0;34m\u001b[0m\u001b[0m\n\u001b[0m\u001b[1;32m   1048\u001b[0m \u001b[0;34m\u001b[0m\u001b[0m\n\u001b[1;32m   1049\u001b[0m         \u001b[0;32mif\u001b[0m \u001b[0mindex\u001b[0m \u001b[0;32mis\u001b[0m \u001b[0;32mNone\u001b[0m\u001b[0;34m:\u001b[0m\u001b[0;34m\u001b[0m\u001b[0;34m\u001b[0m\u001b[0m\n",
            "\u001b[0;32m/usr/local/lib/python3.7/dist-packages/pandas/io/parsers/c_parser_wrapper.py\u001b[0m in \u001b[0;36mread\u001b[0;34m(self, nrows)\u001b[0m\n\u001b[1;32m    222\u001b[0m         \u001b[0;32mtry\u001b[0m\u001b[0;34m:\u001b[0m\u001b[0;34m\u001b[0m\u001b[0;34m\u001b[0m\u001b[0m\n\u001b[1;32m    223\u001b[0m             \u001b[0;32mif\u001b[0m \u001b[0mself\u001b[0m\u001b[0;34m.\u001b[0m\u001b[0mlow_memory\u001b[0m\u001b[0;34m:\u001b[0m\u001b[0;34m\u001b[0m\u001b[0;34m\u001b[0m\u001b[0m\n\u001b[0;32m--> 224\u001b[0;31m                 \u001b[0mchunks\u001b[0m \u001b[0;34m=\u001b[0m \u001b[0mself\u001b[0m\u001b[0;34m.\u001b[0m\u001b[0m_reader\u001b[0m\u001b[0;34m.\u001b[0m\u001b[0mread_low_memory\u001b[0m\u001b[0;34m(\u001b[0m\u001b[0mnrows\u001b[0m\u001b[0;34m)\u001b[0m\u001b[0;34m\u001b[0m\u001b[0;34m\u001b[0m\u001b[0m\n\u001b[0m\u001b[1;32m    225\u001b[0m                 \u001b[0;31m# destructive to chunks\u001b[0m\u001b[0;34m\u001b[0m\u001b[0;34m\u001b[0m\u001b[0;34m\u001b[0m\u001b[0m\n\u001b[1;32m    226\u001b[0m                 \u001b[0mdata\u001b[0m \u001b[0;34m=\u001b[0m \u001b[0m_concatenate_chunks\u001b[0m\u001b[0;34m(\u001b[0m\u001b[0mchunks\u001b[0m\u001b[0;34m)\u001b[0m\u001b[0;34m\u001b[0m\u001b[0;34m\u001b[0m\u001b[0m\n",
            "\u001b[0;32m/usr/local/lib/python3.7/dist-packages/pandas/_libs/parsers.pyx\u001b[0m in \u001b[0;36mpandas._libs.parsers.TextReader.read_low_memory\u001b[0;34m()\u001b[0m\n",
            "\u001b[0;32m/usr/local/lib/python3.7/dist-packages/pandas/_libs/parsers.pyx\u001b[0m in \u001b[0;36mpandas._libs.parsers.TextReader._read_rows\u001b[0;34m()\u001b[0m\n",
            "\u001b[0;32m/usr/local/lib/python3.7/dist-packages/pandas/_libs/parsers.pyx\u001b[0m in \u001b[0;36mpandas._libs.parsers.TextReader._tokenize_rows\u001b[0;34m()\u001b[0m\n",
            "\u001b[0;32m/usr/local/lib/python3.7/dist-packages/pandas/_libs/parsers.pyx\u001b[0m in \u001b[0;36mpandas._libs.parsers.raise_parser_error\u001b[0;34m()\u001b[0m\n",
            "\u001b[0;31mParserError\u001b[0m: Error tokenizing data. C error: EOF inside string starting at row 226733"
          ]
        }
      ]
    },
    {
      "cell_type": "code",
      "source": [],
      "metadata": {
        "id": "9m7D8PAsH6uK"
      },
      "execution_count": null,
      "outputs": []
    },
    {
      "cell_type": "code",
      "source": [
        "trace_list = list(filter(lambda i:len(i)<5,event_log))\n",
        "trace_list"
      ],
      "metadata": {
        "id": "E5uFJ4gdh0nI"
      },
      "execution_count": null,
      "outputs": []
    },
    {
      "cell_type": "code",
      "source": [
        "def import_csv(csv_path):\n",
        "  event_log_csv = pd.read_csv(csv_path,sep = ',')\n",
        "  event_log_csv = pm4py.format_dataframe(event_log_csv,case_id = 'case', activity_key = 'event', timestamp_key = 'startTime',timest_format='%Y/%m/%d %H:%M:%S.%f')\n",
        "  start_activities = pm4py.get_start_activities(event_log_csv)\n",
        "  end_activities = pm4py.get_end_activities(event_log_csv)\n",
        "  print('Start_activities:{}\\n End_activites:{}'.format(start_activities, end_activities))"
      ],
      "metadata": {
        "id": "6kJNUdhcqw8X"
      },
      "execution_count": null,
      "outputs": []
    },
    {
      "cell_type": "markdown",
      "source": [
        "## BPMN Model Creation"
      ],
      "metadata": {
        "id": "ba5xMkqI_8je"
      }
    },
    {
      "cell_type": "code",
      "source": [
        "import_csv('RoadFines.csv')"
      ],
      "metadata": {
        "id": "YqPxYWDHr17G"
      },
      "execution_count": null,
      "outputs": []
    },
    {
      "cell_type": "code",
      "source": [
        "df = pm4py.format_dataframe(pd.read_csv('RoadFines.csv',sep = ','),case_id = 'case', activity_key = 'event', timestamp_key = 'startTime')"
      ],
      "metadata": {
        "id": "7VqIzTpo1ymv"
      },
      "execution_count": null,
      "outputs": []
    },
    {
      "cell_type": "code",
      "source": [
        "#The estimated runtime of the process for the given dataset was: 32 seconds\n",
        "\n",
        "bpmn_model = pm4py.discover_bpmn_inductive(df)\n",
        "\n",
        "#print(\"The Average Time taken for constructing the bpmn model on the given database:\",sum(l)/len(l) ,'seconds')\n",
        "pm4py.view_bpmn(bpmn_model)"
      ],
      "metadata": {
        "id": "6ZeSN9eI2KVk"
      },
      "execution_count": null,
      "outputs": []
    },
    {
      "cell_type": "markdown",
      "source": [
        "## BPMN Conformance Checking"
      ],
      "metadata": {
        "id": "TEkIoDdVAA2a"
      }
    },
    {
      "cell_type": "markdown",
      "source": [
        "### Token Based Replay"
      ],
      "metadata": {
        "id": "UnreGQQXALKs"
      }
    },
    {
      "cell_type": "code",
      "source": [
        "log_xes = xes_importer.apply(os.path.join(\"RoadFines.xes\"))\n",
        "net, initial_marking, final_marking = alpha_miner.apply(log_xes)\n",
        "replayed_traces = token_replay.apply(log_xes, net, initial_marking, final_marking)"
      ],
      "metadata": {
        "id": "3n06XolF33dr"
      },
      "execution_count": null,
      "outputs": []
    },
    {
      "cell_type": "code",
      "source": [
        "replayed_traces"
      ],
      "metadata": {
        "id": "lk-ru5whoLjv"
      },
      "execution_count": null,
      "outputs": []
    },
    {
      "cell_type": "markdown",
      "source": [
        "### Alignments"
      ],
      "metadata": {
        "id": "8nug9fjSATRS"
      }
    },
    {
      "cell_type": "code",
      "source": [
        "log_xes = xes_importer.apply(os.path.join(\"RoadFines.xes\"))\n",
        "net_al, initial_marking_al, final_marking_al = inductive_miner.apply(log_xes)\n",
        "\n",
        "from pm4py.algo.conformance.alignments.petri_net import algorithm as alignments\n",
        "aligned_traces = alignments.apply_log(log_xes, net_al, initial_marking_al, final_marking_al)"
      ],
      "metadata": {
        "id": "XIFNrD79AaqD"
      },
      "execution_count": null,
      "outputs": []
    },
    {
      "cell_type": "code",
      "source": [
        "net_al\n",
        "from pm4py.visualization.petri_net import visualizer as pn_visualizer\n",
        "gviz = pn_visualizer.apply(net_al, initial_marking_al, final_marking_al)\n",
        "pn_visualizer.view(gviz)"
      ],
      "metadata": {
        "id": "2ZkS7RdbYXSV"
      },
      "execution_count": null,
      "outputs": []
    },
    {
      "cell_type": "code",
      "source": [],
      "metadata": {
        "id": "deCYp_PaFQYp"
      },
      "execution_count": null,
      "outputs": []
    },
    {
      "cell_type": "markdown",
      "source": [
        "# LSTM Research"
      ],
      "metadata": {
        "id": "hfEtJWNFxXQy"
      }
    },
    {
      "cell_type": "code",
      "source": [
        "#fix random seed for reproducibility\n",
        "numpy.random.seed(7)"
      ],
      "metadata": {
        "id": "1_guIjEdxdju"
      },
      "execution_count": null,
      "outputs": []
    },
    {
      "cell_type": "code",
      "source": [
        "import numpy as np\n",
        "import matplotlib.pyplot as plt\n",
        "from pandas import read_csv\n",
        "import math\n",
        "\n",
        "from keras.models import Sequential\n",
        "from keras.layers import Dense\n",
        "from keras.layers import LSTM, Flatten\n",
        "from sklearn.preprocessing import MinMaxScaler\n",
        "from sklearn.metrics import mean_squared_error\n",
        "#from keras.callbacks import EarlyStopping\n",
        "from keras.layers import ConvLSTM2D\n",
        "from sklearn.preprocessing import StandardScaler\n",
        "\n",
        "df_lstm = pd.read_csv('RoadFines.csv')"
      ],
      "metadata": {
        "id": "3iB_efexzY-a"
      },
      "execution_count": null,
      "outputs": []
    },
    {
      "cell_type": "code",
      "source": [
        "train_dates = pd.to_datetime(df_lstm['startTime'])"
      ],
      "metadata": {
        "id": "MtZcK7PWKQcD"
      },
      "execution_count": null,
      "outputs": []
    },
    {
      "cell_type": "code",
      "source": [
        "cols = list(df_lstm)[0:2]+list(df_lstm)[3:]"
      ],
      "metadata": {
        "id": "bMSMysqqLsT8"
      },
      "execution_count": null,
      "outputs": []
    },
    {
      "cell_type": "code",
      "source": [
        "df_for_training =  df_lstm[cols]\n",
        "df_for_plot = df_for_training\n",
        "df_for_plot.plot.line()"
      ],
      "metadata": {
        "id": "bk1NLhp5Mh0y"
      },
      "execution_count": null,
      "outputs": []
    },
    {
      "cell_type": "code",
      "source": [],
      "metadata": {
        "id": "Xe5yA6PbM2YJ"
      },
      "execution_count": null,
      "outputs": []
    }
  ]
}