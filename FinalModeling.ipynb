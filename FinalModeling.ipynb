{
  "cells": [
    {
      "cell_type": "markdown",
      "metadata": {
        "id": "view-in-github",
        "colab_type": "text"
      },
      "source": [
        "<a href=\"https://colab.research.google.com/github/brokentwigs/Colab-Analysis/blob/main/FinalModeling.ipynb\" target=\"_parent\"><img src=\"https://colab.research.google.com/assets/colab-badge.svg\" alt=\"Open In Colab\"/></a>"
      ]
    },
    {
      "cell_type": "code",
      "execution_count": null,
      "metadata": {
        "id": "_cE4gmxjK6L2"
      },
      "outputs": [],
      "source": [
        "import time\n",
        "\n",
        "# visualizatoin\n",
        "import matplotlib.pyplot as plt\n",
        "import seaborn as sns\n",
        "\n",
        "# data wrangling\n",
        "import pandas as pd\n",
        "import numpy as np\n",
        "\n",
        "# data preprocessing\n",
        "from sklearn.model_selection import train_test_split\n",
        "from sklearn.pipeline import Pipeline\n",
        "from sklearn.compose import ColumnTransformer, make_column_selector\n",
        "from sklearn.preprocessing import OneHotEncoder\n",
        "from sklearn.feature_selection import VarianceThreshold\n",
        "from sklearn.impute import SimpleImputer\n",
        "from sklearn.experimental import enable_iterative_imputer\n",
        "from sklearn.impute import IterativeImputer\n",
        "from sklearn.linear_model import LinearRegression\n",
        "from sklearn.compose import make_column_transformer\n",
        "import category_encoders as ce\n",
        "\n",
        "#feature selection algorithms\n",
        "from sklearn.feature_selection import VarianceThreshold\n",
        "from sklearn.feature_selection import mutual_info_classif\n",
        "from sklearn.metrics import roc_auc_score, roc_curve\n",
        "\n",
        "#validation\n",
        "from sklearn.model_selection import cross_val_score\n",
        "\n",
        "\n",
        "\n",
        "\n",
        "#machine learning algorithms\n",
        "from sklearn.tree import DecisionTreeClassifier\n",
        "from sklearn.ensemble import RandomForestClassifier\n",
        "from sklearn.linear_model import LogisticRegression\n",
        "from xgboost import XGBClassifier\n",
        "\n",
        "#evaluation metrics for machine learning algorithms\n",
        "from sklearn import metrics\n",
        "from sklearn.metrics import precision_recall_fscore_support\n",
        "from sklearn.metrics import balanced_accuracy_score\n",
        "from sklearn.metrics import roc_auc_score, roc_curve\n",
        "from sklearn.metrics import confusion_matrix\n",
        "\n",
        "from sklearn.model_selection import train_test_split, cross_val_score, RepeatedStratifiedKFold, KFold, RandomizedSearchCV,GridSearchCV\n",
        "\n",
        "#optimization\n",
        "from numpy import argmax\n",
        "\n",
        "\n",
        "\n",
        "\n",
        "\n",
        "\n",
        "import warnings\n",
        "warnings.filterwarnings(\"ignore\")"
      ]
    },
    {
      "cell_type": "code",
      "execution_count": null,
      "metadata": {
        "id": "QdzOfa5zOCX1"
      },
      "outputs": [],
      "source": [
        "#!pip install category_encoders run this first\n"
      ]
    },
    {
      "cell_type": "code",
      "execution_count": null,
      "metadata": {
        "colab": {
          "base_uri": "https://localhost:8080/",
          "height": 299
        },
        "id": "3jH35pcJOgbM",
        "outputId": "0f85f93e-aceb-4f85-e726-eb468c782ca7"
      },
      "outputs": [
        {
          "data": {
            "text/html": [
              "\n",
              "  <div id=\"df-2c0e93d1-0947-4710-a05b-74a90e8f8d46\">\n",
              "    <div class=\"colab-df-container\">\n",
              "      <div>\n",
              "<style scoped>\n",
              "    .dataframe tbody tr th:only-of-type {\n",
              "        vertical-align: middle;\n",
              "    }\n",
              "\n",
              "    .dataframe tbody tr th {\n",
              "        vertical-align: top;\n",
              "    }\n",
              "\n",
              "    .dataframe thead th {\n",
              "        text-align: right;\n",
              "    }\n",
              "</style>\n",
              "<table border=\"1\" class=\"dataframe\">\n",
              "  <thead>\n",
              "    <tr style=\"text-align: right;\">\n",
              "      <th></th>\n",
              "      <th>encounter_id</th>\n",
              "      <th>patient_id</th>\n",
              "      <th>hospital_id</th>\n",
              "      <th>hospital_death</th>\n",
              "      <th>age</th>\n",
              "      <th>bmi</th>\n",
              "      <th>elective_surgery</th>\n",
              "      <th>ethnicity</th>\n",
              "      <th>gender</th>\n",
              "      <th>height</th>\n",
              "      <th>...</th>\n",
              "      <th>aids</th>\n",
              "      <th>cirrhosis</th>\n",
              "      <th>diabetes_mellitus</th>\n",
              "      <th>hepatic_failure</th>\n",
              "      <th>immunosuppression</th>\n",
              "      <th>leukemia</th>\n",
              "      <th>lymphoma</th>\n",
              "      <th>solid_tumor_with_metastasis</th>\n",
              "      <th>apache_3j_bodysystem</th>\n",
              "      <th>apache_2_bodysystem</th>\n",
              "    </tr>\n",
              "  </thead>\n",
              "  <tbody>\n",
              "    <tr>\n",
              "      <th>0</th>\n",
              "      <td>66154</td>\n",
              "      <td>25312</td>\n",
              "      <td>118</td>\n",
              "      <td>0</td>\n",
              "      <td>68.0</td>\n",
              "      <td>22.73</td>\n",
              "      <td>0</td>\n",
              "      <td>Caucasian</td>\n",
              "      <td>M</td>\n",
              "      <td>180.3</td>\n",
              "      <td>...</td>\n",
              "      <td>0.0</td>\n",
              "      <td>0.0</td>\n",
              "      <td>1.0</td>\n",
              "      <td>0.0</td>\n",
              "      <td>0.0</td>\n",
              "      <td>0.0</td>\n",
              "      <td>0.0</td>\n",
              "      <td>0.0</td>\n",
              "      <td>Sepsis</td>\n",
              "      <td>Cardiovascular</td>\n",
              "    </tr>\n",
              "    <tr>\n",
              "      <th>1</th>\n",
              "      <td>114252</td>\n",
              "      <td>59342</td>\n",
              "      <td>81</td>\n",
              "      <td>0</td>\n",
              "      <td>77.0</td>\n",
              "      <td>27.42</td>\n",
              "      <td>0</td>\n",
              "      <td>Caucasian</td>\n",
              "      <td>F</td>\n",
              "      <td>160.0</td>\n",
              "      <td>...</td>\n",
              "      <td>0.0</td>\n",
              "      <td>0.0</td>\n",
              "      <td>1.0</td>\n",
              "      <td>0.0</td>\n",
              "      <td>0.0</td>\n",
              "      <td>0.0</td>\n",
              "      <td>0.0</td>\n",
              "      <td>0.0</td>\n",
              "      <td>Respiratory</td>\n",
              "      <td>Respiratory</td>\n",
              "    </tr>\n",
              "    <tr>\n",
              "      <th>2</th>\n",
              "      <td>119783</td>\n",
              "      <td>50777</td>\n",
              "      <td>118</td>\n",
              "      <td>0</td>\n",
              "      <td>25.0</td>\n",
              "      <td>31.95</td>\n",
              "      <td>0</td>\n",
              "      <td>Caucasian</td>\n",
              "      <td>F</td>\n",
              "      <td>172.7</td>\n",
              "      <td>...</td>\n",
              "      <td>0.0</td>\n",
              "      <td>0.0</td>\n",
              "      <td>0.0</td>\n",
              "      <td>0.0</td>\n",
              "      <td>0.0</td>\n",
              "      <td>0.0</td>\n",
              "      <td>0.0</td>\n",
              "      <td>0.0</td>\n",
              "      <td>Metabolic</td>\n",
              "      <td>Metabolic</td>\n",
              "    </tr>\n",
              "    <tr>\n",
              "      <th>3</th>\n",
              "      <td>79267</td>\n",
              "      <td>46918</td>\n",
              "      <td>118</td>\n",
              "      <td>0</td>\n",
              "      <td>81.0</td>\n",
              "      <td>22.64</td>\n",
              "      <td>1</td>\n",
              "      <td>Caucasian</td>\n",
              "      <td>F</td>\n",
              "      <td>165.1</td>\n",
              "      <td>...</td>\n",
              "      <td>0.0</td>\n",
              "      <td>0.0</td>\n",
              "      <td>0.0</td>\n",
              "      <td>0.0</td>\n",
              "      <td>0.0</td>\n",
              "      <td>0.0</td>\n",
              "      <td>0.0</td>\n",
              "      <td>0.0</td>\n",
              "      <td>Cardiovascular</td>\n",
              "      <td>Cardiovascular</td>\n",
              "    </tr>\n",
              "    <tr>\n",
              "      <th>4</th>\n",
              "      <td>92056</td>\n",
              "      <td>34377</td>\n",
              "      <td>33</td>\n",
              "      <td>0</td>\n",
              "      <td>19.0</td>\n",
              "      <td>NaN</td>\n",
              "      <td>0</td>\n",
              "      <td>Caucasian</td>\n",
              "      <td>M</td>\n",
              "      <td>188.0</td>\n",
              "      <td>...</td>\n",
              "      <td>0.0</td>\n",
              "      <td>0.0</td>\n",
              "      <td>0.0</td>\n",
              "      <td>0.0</td>\n",
              "      <td>0.0</td>\n",
              "      <td>0.0</td>\n",
              "      <td>0.0</td>\n",
              "      <td>0.0</td>\n",
              "      <td>Trauma</td>\n",
              "      <td>Trauma</td>\n",
              "    </tr>\n",
              "  </tbody>\n",
              "</table>\n",
              "<p>5 rows × 186 columns</p>\n",
              "</div>\n",
              "      <button class=\"colab-df-convert\" onclick=\"convertToInteractive('df-2c0e93d1-0947-4710-a05b-74a90e8f8d46')\"\n",
              "              title=\"Convert this dataframe to an interactive table.\"\n",
              "              style=\"display:none;\">\n",
              "        \n",
              "  <svg xmlns=\"http://www.w3.org/2000/svg\" height=\"24px\"viewBox=\"0 0 24 24\"\n",
              "       width=\"24px\">\n",
              "    <path d=\"M0 0h24v24H0V0z\" fill=\"none\"/>\n",
              "    <path d=\"M18.56 5.44l.94 2.06.94-2.06 2.06-.94-2.06-.94-.94-2.06-.94 2.06-2.06.94zm-11 1L8.5 8.5l.94-2.06 2.06-.94-2.06-.94L8.5 2.5l-.94 2.06-2.06.94zm10 10l.94 2.06.94-2.06 2.06-.94-2.06-.94-.94-2.06-.94 2.06-2.06.94z\"/><path d=\"M17.41 7.96l-1.37-1.37c-.4-.4-.92-.59-1.43-.59-.52 0-1.04.2-1.43.59L10.3 9.45l-7.72 7.72c-.78.78-.78 2.05 0 2.83L4 21.41c.39.39.9.59 1.41.59.51 0 1.02-.2 1.41-.59l7.78-7.78 2.81-2.81c.8-.78.8-2.07 0-2.86zM5.41 20L4 18.59l7.72-7.72 1.47 1.35L5.41 20z\"/>\n",
              "  </svg>\n",
              "      </button>\n",
              "      \n",
              "  <style>\n",
              "    .colab-df-container {\n",
              "      display:flex;\n",
              "      flex-wrap:wrap;\n",
              "      gap: 12px;\n",
              "    }\n",
              "\n",
              "    .colab-df-convert {\n",
              "      background-color: #E8F0FE;\n",
              "      border: none;\n",
              "      border-radius: 50%;\n",
              "      cursor: pointer;\n",
              "      display: none;\n",
              "      fill: #1967D2;\n",
              "      height: 32px;\n",
              "      padding: 0 0 0 0;\n",
              "      width: 32px;\n",
              "    }\n",
              "\n",
              "    .colab-df-convert:hover {\n",
              "      background-color: #E2EBFA;\n",
              "      box-shadow: 0px 1px 2px rgba(60, 64, 67, 0.3), 0px 1px 3px 1px rgba(60, 64, 67, 0.15);\n",
              "      fill: #174EA6;\n",
              "    }\n",
              "\n",
              "    [theme=dark] .colab-df-convert {\n",
              "      background-color: #3B4455;\n",
              "      fill: #D2E3FC;\n",
              "    }\n",
              "\n",
              "    [theme=dark] .colab-df-convert:hover {\n",
              "      background-color: #434B5C;\n",
              "      box-shadow: 0px 1px 3px 1px rgba(0, 0, 0, 0.15);\n",
              "      filter: drop-shadow(0px 1px 2px rgba(0, 0, 0, 0.3));\n",
              "      fill: #FFFFFF;\n",
              "    }\n",
              "  </style>\n",
              "\n",
              "      <script>\n",
              "        const buttonEl =\n",
              "          document.querySelector('#df-2c0e93d1-0947-4710-a05b-74a90e8f8d46 button.colab-df-convert');\n",
              "        buttonEl.style.display =\n",
              "          google.colab.kernel.accessAllowed ? 'block' : 'none';\n",
              "\n",
              "        async function convertToInteractive(key) {\n",
              "          const element = document.querySelector('#df-2c0e93d1-0947-4710-a05b-74a90e8f8d46');\n",
              "          const dataTable =\n",
              "            await google.colab.kernel.invokeFunction('convertToInteractive',\n",
              "                                                     [key], {});\n",
              "          if (!dataTable) return;\n",
              "\n",
              "          const docLinkHtml = 'Like what you see? Visit the ' +\n",
              "            '<a target=\"_blank\" href=https://colab.research.google.com/notebooks/data_table.ipynb>data table notebook</a>'\n",
              "            + ' to learn more about interactive tables.';\n",
              "          element.innerHTML = '';\n",
              "          dataTable['output_type'] = 'display_data';\n",
              "          await google.colab.output.renderOutput(dataTable, element);\n",
              "          const docLink = document.createElement('div');\n",
              "          docLink.innerHTML = docLinkHtml;\n",
              "          element.appendChild(docLink);\n",
              "        }\n",
              "      </script>\n",
              "    </div>\n",
              "  </div>\n",
              "  "
            ],
            "text/plain": [
              "   encounter_id  patient_id  hospital_id  hospital_death   age    bmi  \\\n",
              "0         66154       25312          118               0  68.0  22.73   \n",
              "1        114252       59342           81               0  77.0  27.42   \n",
              "2        119783       50777          118               0  25.0  31.95   \n",
              "3         79267       46918          118               0  81.0  22.64   \n",
              "4         92056       34377           33               0  19.0    NaN   \n",
              "\n",
              "   elective_surgery  ethnicity gender  height  ... aids cirrhosis  \\\n",
              "0                 0  Caucasian      M   180.3  ...  0.0       0.0   \n",
              "1                 0  Caucasian      F   160.0  ...  0.0       0.0   \n",
              "2                 0  Caucasian      F   172.7  ...  0.0       0.0   \n",
              "3                 1  Caucasian      F   165.1  ...  0.0       0.0   \n",
              "4                 0  Caucasian      M   188.0  ...  0.0       0.0   \n",
              "\n",
              "   diabetes_mellitus hepatic_failure immunosuppression  leukemia  lymphoma  \\\n",
              "0                1.0             0.0               0.0       0.0       0.0   \n",
              "1                1.0             0.0               0.0       0.0       0.0   \n",
              "2                0.0             0.0               0.0       0.0       0.0   \n",
              "3                0.0             0.0               0.0       0.0       0.0   \n",
              "4                0.0             0.0               0.0       0.0       0.0   \n",
              "\n",
              "   solid_tumor_with_metastasis  apache_3j_bodysystem  apache_2_bodysystem  \n",
              "0                          0.0                Sepsis       Cardiovascular  \n",
              "1                          0.0           Respiratory          Respiratory  \n",
              "2                          0.0             Metabolic            Metabolic  \n",
              "3                          0.0        Cardiovascular       Cardiovascular  \n",
              "4                          0.0                Trauma               Trauma  \n",
              "\n",
              "[5 rows x 186 columns]"
            ]
          },
          "execution_count": 3,
          "metadata": {},
          "output_type": "execute_result"
        }
      ],
      "source": [
        "# description\n",
        "description = pd.read_csv('WiDS_Datathon_2020_Dictionary.csv') #read data\n",
        "description_dict = description.set_index('Variable Name').to_dict(orient='index')\n",
        "# data\n",
        "df = pd.read_csv('training_v2.csv')\n",
        "\n",
        "#print_full(description)\n",
        "df.head()"
      ]
    },
    {
      "cell_type": "code",
      "execution_count": null,
      "metadata": {
        "id": "ByY6pQ-gO4hQ"
      },
      "outputs": [],
      "source": [
        "# Returns category description\n",
        "\n",
        "def category(description, string):\n",
        "\n",
        "    return description[description.Category==string]\n",
        "\n",
        "# Returns highly correlated features\n",
        "def correlation(dataset, threshold):\n",
        "    col_corr = set()  # Set of all the names of correlated columns\n",
        "    corr_matrix = dataset.corr()\n",
        "    for i in range(len(corr_matrix.columns)):\n",
        "        for j in range(i):\n",
        "            if abs(corr_matrix.iloc[i, j]) > threshold: # we are interested in absolute coeff value\n",
        "                colname = corr_matrix.columns[i]  # getting the name of column\n",
        "                col_corr.add(colname)\n",
        "    return col_corr"
      ]
    },
    {
      "cell_type": "code",
      "execution_count": null,
      "metadata": {
        "id": "3_MtOn54RuTo"
      },
      "outputs": [],
      "source": [
        "# Parameter definitions\n",
        "test_size = 0.2 # proportion for train versus test+val split\n",
        "val_size = 0.5 # proportion for test versus val split\n",
        "random_state = 42  # random state is used to set a seed for randomness, which is only relevant for reproducibility purposes\n",
        "max_missing = 0.8  # maximum percentage of missing values for a column to be dropped"
      ]
    },
    {
      "cell_type": "code",
      "execution_count": null,
      "metadata": {
        "id": "Nrq9GjppRyXp"
      },
      "outputs": [],
      "source": [
        "X = df.copy().drop(['hospital_death'], axis=1)\n",
        "y = df['hospital_death'].copy()\n",
        "y_apache = df['apache_4a_hospital_death_prob'].copy()\n",
        "\n",
        "\"\"\" SPLIT DATA SET \"\"\"\n",
        "# split the dataset into train and test+validation set\n",
        "(\n",
        "    X_train,\n",
        "    X_test,\n",
        "    y_train,\n",
        "    y_test,\n",
        "    y_apache_train,\n",
        "    y_apache_test,\n",
        "    ) = train_test_split(X, y, y_apache,\n",
        "                         test_size=test_size, # used for testing and validation\n",
        "                         random_state=random_state # for reproducibility\n",
        "                        )\n",
        "# split the test set into test + validation set\n",
        "(\n",
        "    X_val,\n",
        "    X_test,\n",
        "    y_val,\n",
        "    y_test,\n",
        "    y_apache_val,\n",
        "    y_apache_test,\n",
        "    ) = train_test_split(X_test, y_test, y_apache_test,\n",
        "                         test_size=val_size, # used for testing and validation\n",
        "                         random_state=random_state # for reproducibility\n",
        "                        )"
      ]
    },
    {
      "cell_type": "code",
      "execution_count": null,
      "metadata": {
        "id": "WgCWCtkQR5iF"
      },
      "outputs": [],
      "source": [
        "apache_cov = category(description,\"APACHE covariate\")\n",
        "vitals = category(description,\"vitals\")\n",
        "labs = category(description,\"labs\")\n",
        "\n",
        "corr_features_apache_cov = correlation(X_train[apache_cov[\"Variable Name\"]], 0.85)\n",
        "corr_features_vitals = correlation(X_train[vitals[\"Variable Name\"]], 0.85)\n",
        "corr_features_labs = correlation(X_train[labs[\"Variable Name\"]], 0.85)"
      ]
    },
    {
      "cell_type": "code",
      "execution_count": null,
      "metadata": {
        "id": "EOZR3R0UWm2x"
      },
      "outputs": [],
      "source": [
        "to_drop = set()\n",
        "to_drop.update(['apache_2_bodysystem', 'apache_4a_icu_death_prob', 'encounter_id', 'patient_id', 'weight', 'height',\n",
        "                'icu_stay_type', 'readmission_status', 'hospital_id', 'icu_id',\n",
        "                'apache_4a_hospital_death_prob', 'apache_4a_icu_death_prob'])\n",
        "to_drop.update(corr_features_apache_cov)\n",
        "to_drop.update(corr_features_vitals)\n",
        "to_drop.update(corr_features_labs)"
      ]
    },
    {
      "cell_type": "code",
      "execution_count": null,
      "metadata": {
        "id": "I-vh2z7XY-kW"
      },
      "outputs": [],
      "source": [
        "X_train = X_train.drop(to_drop, axis=1)\n",
        "X_val = X_val.drop(to_drop, axis=1)\n",
        "X_test = X_test.drop(to_drop, axis=1)"
      ]
    },
    {
      "cell_type": "code",
      "execution_count": null,
      "metadata": {
        "id": "EuTsdjJdZBpe"
      },
      "outputs": [],
      "source": [
        " \"\"\"MISSING VALUES\"\"\"\n",
        "# drop columns with many missing values\n",
        "missing = X_train.isna().sum() > max_missing * len(X_train)\n",
        "missing = missing[missing].index\n",
        "X_train = X_train.drop(missing, axis=1)\n",
        "X_val = X_val.drop(missing, axis=1)\n",
        "X_test = X_test.drop(missing, axis=1)"
      ]
    },
    {
      "cell_type": "code",
      "execution_count": null,
      "metadata": {
        "id": "BfJNd9GLZEg4"
      },
      "outputs": [],
      "source": [
        "def customprocessor(X, y):\n",
        "    num = [col for col in X.columns if X[col].dtypes != 'O' and ~X[col].isin([0.0,1.0,np.nan]).all()]\n",
        "    cat = [col for col in X.columns if X[col].dtypes == 'O' or X[col].isin([0.0,1.0,np.nan]).all()]\n",
        "\n",
        "    # Imputing numerical values\n",
        "    linearreg = LinearRegression()\n",
        "    imp = IterativeImputer(estimator=linearreg, missing_values=np.nan, max_iter=5, imputation_order='roman', verbose=2, random_state=42)\n",
        "    X[num] = imp.fit_transform(X[num])\n",
        "\n",
        "    # Imputing categorical values\n",
        "    impcat = SimpleImputer(strategy=\"most_frequent\")\n",
        "    X[cat] = impcat.fit_transform(X[cat])\n",
        "\n",
        "    # Turn 'gender' column into a binary column\n",
        "    gender = {'M': 1,'F': 0}\n",
        "    X.gender = [gender[item] for item in X.gender]\n",
        "\n",
        "    # Target encoding with additive smoothing\n",
        "    def calc_smooth_mean(X, y, by, on, m):\n",
        "        df = pd.concat([X, y], axis=1)\n",
        "\n",
        "        # Compute the global mean\n",
        "        mean = df[on].mean()\n",
        "\n",
        "        # Compute the number of values and the mean of each group\n",
        "        agg = df.groupby(by)[on].agg(['count', 'mean'])\n",
        "        counts = agg['count']\n",
        "        means = agg['mean']\n",
        "\n",
        "        # Compute the \"smoothed\" means\n",
        "        smooth = (counts * means + m * mean) / (counts + m)\n",
        "\n",
        "        # Replace each value by the according smoothed mean\n",
        "        return X[by].map(smooth)\n",
        "\n",
        "    X['ethnicity'] = calc_smooth_mean(X, y, by='ethnicity', on='hospital_death', m=10)\n",
        "    X['hospital_admit_source'] = calc_smooth_mean(X, y, by='hospital_admit_source', on='hospital_death', m=10)\n",
        "    X['icu_admit_source'] = calc_smooth_mean(X, y, by='icu_admit_source', on='hospital_death', m=10)\n",
        "    X['icu_type'] = calc_smooth_mean(X, y, by='icu_type', on='hospital_death', m=10)\n",
        "    X['apache_3j_bodysystem'] = calc_smooth_mean(X, y, by='apache_3j_bodysystem', on='hospital_death', m=10)\n",
        "\n",
        "    return X\n"
      ]
    },
    {
      "cell_type": "code",
      "execution_count": null,
      "metadata": {
        "colab": {
          "base_uri": "https://localhost:8080/"
        },
        "id": "7Agk6RZMZl85",
        "outputId": "66aa9f0e-3f00-4c16-8f1b-1f929ce61e33"
      },
      "outputs": [
        {
          "name": "stdout",
          "output_type": "stream",
          "text": [
            "[IterativeImputer] Completing matrix with shape (5967, 87)\n",
            "[IterativeImputer] Ending imputation round 1/5, elapsed time 6.27\n",
            "[IterativeImputer] Change: 1338.9726263772034, scaled tolerance: 2.2010500000000004 \n",
            "[IterativeImputer] Ending imputation round 2/5, elapsed time 10.78\n",
            "[IterativeImputer] Change: 1128.4065242372099, scaled tolerance: 2.2010500000000004 \n",
            "[IterativeImputer] Ending imputation round 3/5, elapsed time 17.33\n",
            "[IterativeImputer] Change: 623.6599703844029, scaled tolerance: 2.2010500000000004 \n",
            "[IterativeImputer] Ending imputation round 4/5, elapsed time 26.07\n",
            "[IterativeImputer] Change: 227.16640307930595, scaled tolerance: 2.2010500000000004 \n",
            "[IterativeImputer] Ending imputation round 5/5, elapsed time 35.96\n",
            "[IterativeImputer] Change: 133.46599021591373, scaled tolerance: 2.2010500000000004 \n",
            "[IterativeImputer] Completing matrix with shape (746, 87)\n",
            "[IterativeImputer] Ending imputation round 1/5, elapsed time 2.19\n",
            "[IterativeImputer] Change: 758.0426237393476, scaled tolerance: 2.20102 \n",
            "[IterativeImputer] Ending imputation round 2/5, elapsed time 4.24\n",
            "[IterativeImputer] Change: 171.6180548251531, scaled tolerance: 2.20102 \n",
            "[IterativeImputer] Ending imputation round 3/5, elapsed time 7.73\n",
            "[IterativeImputer] Change: 18.89395982585276, scaled tolerance: 2.20102 \n",
            "[IterativeImputer] Ending imputation round 4/5, elapsed time 10.51\n",
            "[IterativeImputer] Change: 3.3784543985813116, scaled tolerance: 2.20102 \n",
            "[IterativeImputer] Ending imputation round 5/5, elapsed time 12.91\n",
            "[IterativeImputer] Change: 0.7069053407360002, scaled tolerance: 2.20102 \n",
            "[IterativeImputer] Early stopping criterion reached.\n",
            "[IterativeImputer] Completing matrix with shape (746, 87)\n",
            "[IterativeImputer] Ending imputation round 1/5, elapsed time 2.46\n",
            "[IterativeImputer] Change: 861.7115759026259, scaled tolerance: 1.90401 \n",
            "[IterativeImputer] Ending imputation round 2/5, elapsed time 5.45\n",
            "[IterativeImputer] Change: 91.50400244837698, scaled tolerance: 1.90401 \n",
            "[IterativeImputer] Ending imputation round 3/5, elapsed time 9.12\n",
            "[IterativeImputer] Change: 4.246388576597818, scaled tolerance: 1.90401 \n",
            "[IterativeImputer] Ending imputation round 4/5, elapsed time 11.30\n",
            "[IterativeImputer] Change: 1.1190825955399353, scaled tolerance: 1.90401 \n",
            "[IterativeImputer] Early stopping criterion reached.\n"
          ]
        }
      ],
      "source": [
        "# Applying pre-processing steps\n",
        "X_train = customprocessor(X_train, y_train)\n",
        "X_val = customprocessor(X_val, y_val)\n",
        "X_test = customprocessor(X_test, y_test)"
      ]
    },
    {
      "cell_type": "markdown",
      "metadata": {
        "id": "HR7SqkNPa54w"
      },
      "source": [
        "Hyperparamter tuning, model selection, tresholds, ROC curve, Evaluation Metrics"
      ]
    },
    {
      "cell_type": "code",
      "execution_count": null,
      "metadata": {
        "id": "-gGrKO-sbEli"
      },
      "outputs": [],
      "source": [
        " def random_search(model, X, Y, n_splits=10, n_repeats=3):\n",
        "\n",
        "    \"\"\"\n",
        "  Random search for hyperparameter tuning:\n",
        "  model - Random Forest classifier, DecisionTrees\n",
        "  X - Data matrix X, typically training data\n",
        "  Y - Target vector Y, typically training labels/binary\n",
        "  n_splits - splits to be made in repeated stratified kfold cv\n",
        "  n_repeats - number of times to repeat stratified kfold cv\n",
        "  Note --> The Search spaces are preset/defined randomly\n",
        "      \"\"\"\n",
        "    if type(model) == type(RandomForestClassifier()):\n",
        "        params = dict(\n",
        "        n_estimators= [100,150],\n",
        "        criterion = ['gini', 'entropy'],\n",
        "        min_samples_split = [2, 3, 4],\n",
        "        min_samples_leaf = [1, 2, 3, 4, 5],\n",
        "        max_features = ['auto', 'sqrt'],\n",
        "        max_depth = [5, 6, 7]\n",
        "        )\n",
        "\n",
        "    elif type(model) == type(DecisionTreeClassifier()):\n",
        "        params = dict(\n",
        "        criterion = ['gini', 'entropy'],\n",
        "        min_samples_split = [2, 3, 4],\n",
        "        min_samples_leaf = [1, 2, 3, 4, 5],\n",
        "        max_depth = [5, 6, 7])\n",
        "\n",
        "\n",
        "\n",
        "    elif type(model) == type(xgboost.XGBClassifier()):\n",
        "        params = dict(gamma = [0.1, 0.5, 2, 6, 25, 100],\n",
        "                      learning_rate = [0.01, 0.03, 0.06, 0.1, 0.2, 0.3],\n",
        "                      max_depth = [5, 10, 15, 20],\n",
        "                      n_estimators = [50, 80, 115, 150],\n",
        "                      reg_alpha = [0.1, 0.5, 2, 6, 25, 100],\n",
        "                      reg_lambda = [0.1, 0.5, 2, 6, 25, 100])\n",
        "\n",
        "\n",
        "\n",
        "      # define evaluation\n",
        "    cv = RepeatedStratifiedKFold(n_splits=n_splits, n_repeats=n_repeats, random_state=random_state)\n",
        "\n",
        "\n",
        "    #random search\n",
        "\n",
        "    search = RandomizedSearchCV(model, params,  n_iter=100, scoring='accuracy', n_jobs=-1, cv=cv)\n",
        "\n",
        "\n",
        "    # execute search\n",
        "    result = search.fit(X, Y)\n",
        "    print('SEARCH COMPLETE')\n",
        "\n",
        "\n",
        "\n",
        "    # return the best result\n",
        "    return result.best_score_ , result.best_params_\n"
      ]
    },
    {
      "cell_type": "code",
      "execution_count": null,
      "metadata": {
        "colab": {
          "base_uri": "https://localhost:8080/"
        },
        "id": "tlJ0CNYqbw4t",
        "outputId": "2aee49c5-ff6b-4427-e800-fef5eaf7f496"
      },
      "outputs": [
        {
          "name": "stdout",
          "output_type": "stream",
          "text": [
            "Accuracy TEST SET: 0.7855227882037533\n",
            "The precision, recall and f1 score: (0.1724137931034483, 0.6521739130434783, 0.27272727272727276, None)\n",
            "The balanced accuracy: 0.7232298136645963\n"
          ]
        }
      ],
      "source": [
        " def decision_classifier(X_train,y_train):\n",
        "    params={\n",
        "    'min_samples_split':3,\n",
        "    'min_samples_leaf':3,\n",
        "    'max_depth':6,\n",
        "    'criterion':'gini'}\n",
        "\n",
        "    w = {0:9, 1:91}\n",
        "\n",
        "\n",
        "    dt = DecisionTreeClassifier(**params, class_weight = w)\n",
        "    dt.fit(X_train, y_train)\n",
        "    dt_preds = dt.predict(X_test)\n",
        "\n",
        "    print(\"Accuracy TEST SET:\",metrics.accuracy_score(y_test, dt_preds))\n",
        "\n",
        "\n",
        "    print(\"The precision, recall and f1 score:\", precision_recall_fscore_support(y_test, dt_preds, average='binary'))\n",
        "    print('The balanced accuracy:',balanced_accuracy_score(y_test, dt_preds))\n",
        "\n",
        "decision_classifier(X_train,y_train)"
      ]
    },
    {
      "cell_type": "code",
      "execution_count": null,
      "metadata": {
        "colab": {
          "base_uri": "https://localhost:8080/"
        },
        "id": "MuzJwpo8b138",
        "outputId": "4aa799be-8bae-4bf2-f390-142cb6380568"
      },
      "outputs": [
        {
          "name": "stdout",
          "output_type": "stream",
          "text": [
            "Accuracy TEST SET: 0.9168900804289544\n",
            "The precision, recall and f1 score: (0.38235294117647056, 0.5652173913043478, 0.45614035087719296, None)\n",
            "The balanced accuracy: 0.7526086956521738\n"
          ]
        }
      ],
      "source": [
        " #sum of weight for the xgboost classifier, he does not have the class weight\n",
        "y_train_0 = []\n",
        "y_train_1 = []\n",
        "for i in y_train:\n",
        "    if i == 0:\n",
        "        y_train_0.append(i)\n",
        "    elif i == 1:\n",
        "        y_train_1.append(i)\n",
        "\n",
        "weight = len(y_train_0) / len(y_train_1)\n",
        "weight\n",
        "\n",
        "def xg_boost(X_train,y_train):\n",
        "    params = params={\n",
        "    'reg_lambda':25,\n",
        "    'reg_alpha':2,\n",
        "    'n_estimators':115,\n",
        "    'max_depth': 20,\n",
        "    'learning_rate':0.1,\n",
        "    'gamma':6}\n",
        "\n",
        "\n",
        "    xg = XGBClassifier(**params, scale_pos_weight=weight) # Init model\n",
        "    xg.fit(X_train, y_train) # Fit model\n",
        "    xg_preds = xg.predict(X_test.astype(int)) # Get model inference\n",
        "\n",
        "    print(\"Accuracy TEST SET:\",metrics.accuracy_score(y_test, xg_preds))\n",
        "\n",
        "\n",
        "    print(\"The precision, recall and f1 score:\", precision_recall_fscore_support(y_test, xg_preds, average='binary'))\n",
        "    print('The balanced accuracy:',balanced_accuracy_score(y_test, xg_preds))\n",
        "\n",
        "\n",
        "\n",
        "\n",
        "xg_boost(X_train.astype(int),y_train)"
      ]
    },
    {
      "cell_type": "code",
      "execution_count": null,
      "metadata": {
        "colab": {
          "base_uri": "https://localhost:8080/"
        },
        "id": "ChSm_IuCb6S3",
        "outputId": "b5c04e44-62ee-4c74-b3f8-444dcfd07dcb"
      },
      "outputs": [
        {
          "name": "stdout",
          "output_type": "stream",
          "text": [
            "Accuracy TEST SET: 0.9410187667560321\n",
            "The precision, recall and f1 score: (0.5357142857142857, 0.32608695652173914, 0.40540540540540543, None)\n",
            "The balanced accuracy: 0.6537577639751553\n"
          ]
        }
      ],
      "source": [
        "def random_forest(X_train,y_train):\n",
        "  params = {'n_estimators': 150,\n",
        "  'min_samples_split': 2,\n",
        "  'min_samples_leaf': 4,\n",
        "  'max_features': 'auto',\n",
        "  'max_depth': 7,\n",
        "  'criterion': 'gini'}\n",
        "\n",
        "  w = {0:9, 1:91}\n",
        "\n",
        "\n",
        "  rf = RandomForestClassifier(**params, class_weight = w)\n",
        "  rf.fit(X_train, y_train)\n",
        "  rf_preds = rf.predict(X_test)\n",
        "\n",
        "  print(\"Accuracy TEST SET:\",metrics.accuracy_score(y_test, rf_preds))\n",
        "\n",
        "\n",
        "  print(\"The precision, recall and f1 score:\", precision_recall_fscore_support(y_test, rf_preds, average='binary'))\n",
        "  print('The balanced accuracy:',balanced_accuracy_score(y_test, rf_preds))\n",
        "\n",
        "\n",
        "\n",
        "random_forest(X_train,y_train)\n"
      ]
    },
    {
      "cell_type": "code",
      "execution_count": null,
      "metadata": {
        "id": "bl7vKrxvb9Hn"
      },
      "outputs": [],
      "source": [
        "#ROC Curve for every trained model, and possibly adjusting the decision treshold\n",
        "params={\n",
        "    'min_samples_split':3,\n",
        "    'min_samples_leaf':3,\n",
        "    'max_depth':6,\n",
        "    'criterion':'gini'}\n",
        "\n",
        "w = {0:9, 1:91}\n",
        "\n",
        "\n",
        "dt = DecisionTreeClassifier(**params, class_weight = w)\n",
        "dt.fit(X_train, y_train)\n",
        "probs_dt = dt.predict_proba(X_test)[:, 1]\n"
      ]
    },
    {
      "cell_type": "code",
      "execution_count": null,
      "metadata": {
        "colab": {
          "background_save": true
        },
        "id": "r450NRgxcF4m"
      },
      "outputs": [],
      "source": [
        "params = {'n_estimators': 150,\n",
        "  'min_samples_split': 2,\n",
        "  'min_samples_leaf': 4,\n",
        "  'max_features': 'auto',\n",
        "  'max_depth': 7,\n",
        "  'criterion': 'gini'}\n",
        "\n",
        "w = {0:9, 1:91}\n",
        "\n",
        "\n",
        "rf = RandomForestClassifier(**params, class_weight = w)\n",
        "rf.fit(X_train, y_train)\n",
        "probs_rf = rf.predict_proba(X_test)[:,1]"
      ]
    },
    {
      "cell_type": "code",
      "execution_count": null,
      "metadata": {
        "id": "2PSQEu3NcIX_"
      },
      "outputs": [],
      "source": [
        "params={\n",
        "    'reg_lambda':25,\n",
        "    'reg_alpha':2,\n",
        "    'n_estimators':115,\n",
        "    'max_depth': 20,\n",
        "    'learning_rate':0.1,\n",
        "    'gamma':6}\n",
        "\n",
        "\n",
        "#scale_pos_ = 10.594500632111252\n",
        "xg = XGBClassifier(**params, scale_pos_weight=weight) # Init model\n",
        "xg.fit(X_train.astype(int), y_train) # Fit model\n",
        "probs_xg = xg.predict_proba(X_test.astype(int))[:,1] # Get model prob"
      ]
    },
    {
      "cell_type": "code",
      "execution_count": null,
      "metadata": {
        "id": "s0NNWHzncLrO"
      },
      "outputs": [],
      "source": [
        "w = {0:9, 1:91}\n",
        "lr = LogisticRegression(random_state=random_state, class_weight=w)\n",
        "lr.fit(X_train, y_train)\n",
        "probs_lr = lr.predict_proba(X_test)[:, 1]"
      ]
    },
    {
      "cell_type": "code",
      "execution_count": null,
      "metadata": {
        "id": "hvAaaHV7cN1G"
      },
      "outputs": [],
      "source": [
        "auc_lr = roc_auc_score(y_test, probs_lr)\n",
        "fpr_lr, tpr_lr, thresholds_lr = roc_curve(y_test, probs_lr)\n",
        "\n",
        "auc_dt = roc_auc_score(y_test, probs_dt)\n",
        "fpr_dt, tpr_dt, thresholds_dt = roc_curve(y_test, probs_dt)\n",
        "\n",
        "auc_rf = roc_auc_score(y_test, probs_rf)\n",
        "fpr_rf, tpr_rf, thresholds_rf = roc_curve(y_test, probs_rf)\n",
        "\n",
        "auc_xg = roc_auc_score(y_test, probs_xg)\n",
        "fpr_xg, tpr_xg, thresholds_xg = roc_curve(y_test, probs_xg)\n",
        "\n",
        "plt.figure(figsize=(12, 7))\n",
        "plt.plot(fpr_lr, tpr_lr, label=f'AUC (Logistic Regression) = {auc_lr:.2f}')\n",
        "plt.plot(fpr_dt, tpr_dt, label=f'AUC (Decision Tree) = {auc_dt:.2f}')\n",
        "plt.plot(fpr_rf, tpr_rf, label=f'AUC (Random Forests) = {auc_rf:.2f}')\n",
        "plt.plot(fpr_xg, tpr_xg, label=f'AUC (XGBoost) = {auc_xg:.2f}')\n",
        "plt.plot([0, 1], [0, 1], color='blue', linestyle='--', label='Baseline')\n",
        "plt.title('ROC Curve', size=20)\n",
        "plt.xlabel('False Positive Rate', size=14)\n",
        "plt.ylabel('True Positive Rate', size=14)\n",
        "plt.legend();"
      ]
    },
    {
      "cell_type": "code",
      "execution_count": null,
      "metadata": {
        "colab": {
          "background_save": true
        },
        "id": "g1JCYlfmfkVA"
      },
      "outputs": [],
      "source": [
        "#compute the cross val score for every different trained model\n",
        "\n",
        "scores_lm = cross_val_score(lr, X_val, y_val, cv=10)\n",
        "\n",
        "scores_xg = cross_val_score(xg, X_val.astype(int), y_val.astype(int), cv=10)\n",
        "scores_rf = cross_val_score(rf, X_val, y_val, cv=10)\n",
        "scores_dt = cross_val_score(dt, X_val, y_val, cv=10)\n"
      ]
    },
    {
      "cell_type": "code",
      "execution_count": null,
      "metadata": {
        "colab": {
          "background_save": true
        },
        "id": "Hyd3QRn9nN-3",
        "outputId": "73f26b68-ba20-4207-fc06-53add0875d0b"
      },
      "outputs": [
        {
          "name": "stdout",
          "output_type": "stream",
          "text": [
            "[0.85333333 0.82666667 0.81333333 0.82666667 0.86666667 0.85333333\n",
            " 0.85135135 0.90540541 0.87837838 0.77027027]\n",
            "[0.92       0.94666667 0.93333333 0.90666667 0.92       0.90666667\n",
            " 0.90540541 0.90540541 0.98648649 0.94594595]\n",
            "[0.94666667 0.94666667 0.94666667 0.93333333 0.96       0.93333333\n",
            " 0.93243243 0.95945946 0.95945946 0.95945946]\n",
            "[0.89333333 0.90666667 0.86666667 0.90666667 0.89333333 0.81333333\n",
            " 0.91891892 0.87837838 0.87837838 0.87837838]\n"
          ]
        }
      ],
      "source": [
        "print(scores_lm)\n",
        "print(scores_xg)\n",
        "print(scores_rf)\n",
        "print(scores_dt)"
      ]
    },
    {
      "cell_type": "code",
      "execution_count": null,
      "metadata": {
        "colab": {
          "background_save": true
        },
        "id": "KhH1OfnGnWJ_"
      },
      "outputs": [],
      "source": [
        "#Function for the confusion matrix\n",
        "\n",
        "def confustion_matrix(y_true, y_pred):\n",
        "  \"\"\"\n",
        "  Input data: y_true: the true values =  y_test\n",
        "              y_pred: the predicted values based on the 4 different models\n",
        "  Output: a confusion matrix\n",
        "  \"\"\"\n",
        "\n",
        "  cm = confusion_matrix(y_true, y_pred)\n",
        "  plot.figure(figsize=(15,14))\n",
        "  sb.heatmap(cm, annot=True, fmt='g')\n",
        "  plot.title('Confusion Matrix')\n",
        "  plot.ylabel('Actual Values')\n",
        "  plot.xlabel('Predicted Values')\n",
        "  plot.show()\n"
      ]
    },
    {
      "cell_type": "markdown",
      "metadata": {
        "id": "lg9U1yRjcTXu"
      },
      "source": [
        "Fairness\n",
        "*Check*"
      ]
    },
    {
      "cell_type": "code",
      "execution_count": null,
      "metadata": {
        "colab": {
          "background_save": true
        },
        "id": "FYKtYdFncbHL",
        "outputId": "4c50fc33-b21e-4ad2-a82d-53052ec4213a"
      },
      "outputs": [
        {
          "data": {
            "text/plain": [
              "Text(0.5, 1.0, 'Percentage')"
            ]
          },
          "execution_count": 25,
          "metadata": {},
          "output_type": "execute_result"
        },
        {
          "data": {
            "image/png": "[encoded data removed]",
            "text/plain": [
              "<Figure size 640x480 with 1 Axes>"
            ]
          },
          "metadata": {},
          "output_type": "display_data"
        }
      ],
      "source": [
        "k = list(X_train.columns.copy())\n",
        "sensitive_features = k[3:5]\n",
        "sensitive_features\n",
        "\n",
        "counts = X_train['ethnicity'].value_counts()\n",
        "labels = counts.index\n",
        "\n",
        "#Plot pie chart\n",
        "plt.pie(counts, startangle=90)\n",
        "plt.legend(labels, loc=2,fontsize=15)\n",
        "plt.title(\"Percentage\",size=20)\n",
        "\n"
      ]
    },
    {
      "cell_type": "code",
      "execution_count": null,
      "metadata": {
        "colab": {
          "background_save": true
        },
        "id": "wK1H_Ayon5wq",
        "outputId": "d51a8009-dae3-4641-dbf6-cebdbfe425fa"
      },
      "outputs": [
        {
          "data": {
            "text/plain": [
              "Text(0.5, 1.0, 'Percentage')"
            ]
          },
          "execution_count": 26,
          "metadata": {},
          "output_type": "execute_result"
        },
        {
          "data": {
            "image/png": "[encoded data removed]",
            "text/plain": [
              "<Figure size 640x480 with 1 Axes>"
            ]
          },
          "metadata": {},
          "output_type": "display_data"
        }
      ],
      "source": [
        "counts_g = X_train['gender'].value_counts()\n",
        "labels_g = counts_g.index\n",
        "\n",
        "#Plot pie chart\n",
        "plt.pie(counts_g, startangle=90)\n",
        "plt.legend(labels_g, loc=2,fontsize=15)\n",
        "plt.title(\"Percentage\",size=20)"
      ]
    },
    {
      "cell_type": "code",
      "execution_count": null,
      "metadata": {
        "colab": {
          "background_save": true
        },
        "id": "Fw28GFnpoGhr"
      },
      "outputs": [],
      "source": [
        "df_fair = X_train[['ethnicity','gender']]\n",
        "k = X_train['ethnicity'][3314]\n",
        "#Define protected features\n",
        "##\n",
        "##ISSUE WITH EQUALITY OPERATOR; RESOLVE AS SOON AS POSSIBLE\n",
        "##\n",
        "\n",
        "df_fair['priv_race'] = [1 if r== k else 0 for r in df_fair['ethnicity']]\n",
        "df_fair['priv_sex'] = [1 if s== 1 else 0 for s in df_fair['gender']]\n",
        "\n",
        "#Define target variable\n",
        "df_fair['y'] = y_train"
      ]
    },
    {
      "cell_type": "code",
      "execution_count": null,
      "metadata": {
        "colab": {
          "background_save": true
        },
        "id": "u_y4r5z3oJUZ"
      },
      "outputs": [],
      "source": [
        "y_fair_xg = xg.predict(X_train.astype(int))\n"
      ]
    },
    {
      "cell_type": "code",
      "execution_count": null,
      "metadata": {
        "colab": {
          "background_save": true
        },
        "id": "ia9TB2TtoucF",
        "outputId": "0c4cfdb1-aa6b-4b95-f23c-7aeb850d092d"
      },
      "outputs": [
        {
          "data": {
            "text/plain": [
              "5967"
            ]
          },
          "execution_count": 29,
          "metadata": {},
          "output_type": "execute_result"
        }
      ],
      "source": [
        "len(y_fair_xg)"
      ]
    },
    {
      "cell_type": "code",
      "execution_count": null,
      "metadata": {
        "colab": {
          "background_save": true
        },
        "id": "MKYKjpXZod2Z"
      },
      "outputs": [],
      "source": [
        "y_fair_lr = lr.predict(X_train)\n"
      ]
    },
    {
      "cell_type": "code",
      "execution_count": null,
      "metadata": {
        "colab": {
          "background_save": true
        },
        "id": "o4UvZ-0DolDH"
      },
      "outputs": [],
      "source": [
        "y_fair_dt = dt.predict(X_train)\n"
      ]
    },
    {
      "cell_type": "code",
      "execution_count": null,
      "metadata": {
        "colab": {
          "background_save": true
        },
        "id": "jNqiFWKxomWE"
      },
      "outputs": [],
      "source": [
        "y_fair_rf = rf.predict(X_train)"
      ]
    },
    {
      "cell_type": "code",
      "execution_count": null,
      "metadata": {
        "colab": {
          "background_save": true
        },
        "id": "pgdpwZQPo903"
      },
      "outputs": [],
      "source": [
        "#Calculate prevelance\n",
        "prev = df_fair['y'].mean()\n",
        "prev_race = df_fair.groupby('priv_race')['y'].mean()\n",
        "prev_sex = df_fair.groupby('priv_sex')['y'].mean()\n",
        "prev_comb = df_fair.groupby(['priv_race','priv_sex'])['y'].mean()"
      ]
    },
    {
      "cell_type": "code",
      "execution_count": null,
      "metadata": {
        "colab": {
          "background_save": true
        },
        "id": "_w5b4iIMpFKp"
      },
      "outputs": [],
      "source": [
        "df_fair['y_pred_xg'] =  y_fair_xg\n",
        "df_fair['y_pred_lr'] =  y_fair_lr\n",
        "df_fair['y_pred_dt'] =  y_fair_dt\n",
        "df_fair['y_pred_rf'] =  y_fair_rf"
      ]
    },
    {
      "cell_type": "code",
      "execution_count": null,
      "metadata": {
        "colab": {
          "background_save": true
        },
        "id": "GqQ0TOqfpsUE"
      },
      "outputs": [],
      "source": [
        "def fairness_metrics(df):\n",
        "  \"\"\"\n",
        "  Calculate fairness for subgroup of population\n",
        "  \"\"\"\n",
        "\n",
        "  cm = confusion_matrix(df['y'], df['y_pred_xg']) #change the y_pred to the corresponding model\n",
        "  TN, FP, FN, TP = cm.ravel()\n",
        "  N = TP+FP+FN+TN #Total population\n",
        "  ACC = (TP+TN)/N #Accuracy\n",
        "  TPR = TP/(TP+FN) # True positive rate\n",
        "  FPR = FP/(FP+TN) # False positive rate\n",
        "  FNR = FN/(TP+FN) # False negative rate\n",
        "  PPP = (TP + FP)/N # % predicted as positive\n",
        "  return np.array([ACC, TPR, FPR, FNR, PPP])\n",
        "\n",
        "\n"
      ]
    },
    {
      "cell_type": "code",
      "execution_count": null,
      "metadata": {
        "colab": {
          "background_save": true
        },
        "id": "wZVPXxMhq033"
      },
      "outputs": [],
      "source": [
        "#Calculate fairness metrics for race => equalized odds\n",
        "fm_race_1 = fairness_metrics(df_fair[df_fair.priv_race==1])\n",
        "fm_race_0 = fairness_metrics(df_fair[df_fair.priv_race==0])\n",
        "\n",
        "#Get ratio of fairness metrics\n",
        "fm_race = fm_race_0/fm_race_1"
      ]
    },
    {
      "cell_type": "code",
      "execution_count": null,
      "metadata": {
        "colab": {
          "background_save": true
        },
        "id": "XXP8f5uErq4f"
      },
      "outputs": [],
      "source": [
        "#Calculate fairness metrics for gender => equalized odds\n",
        "fm_gender_1 = fairness_metrics(df_fair[df_fair.priv_sex==1])\n",
        "fm_gender_0 = fairness_metrics(df_fair[df_fair.priv_sex==0])\n",
        "\n",
        "#Get ratio of fairness metrics\n",
        "fm_gender = fm_gender_0/fm_gender_1"
      ]
    },
    {
      "cell_type": "code",
      "execution_count": null,
      "metadata": {
        "colab": {
          "background_save": true
        },
        "id": "uz0p5RexruEY",
        "outputId": "ab2749fc-47bb-4ec4-e6e4-5ba3be48fae9"
      },
      "outputs": [
        {
          "data": {
            "text/plain": [
              "(array([0.97805255, 1.        , 0.02324059, 0.        , 0.07758887]),\n",
              " array([0.98096633, 1.        , 0.02040816, 0.        , 0.0863836 ]))"
            ]
          },
          "execution_count": 38,
          "metadata": {},
          "output_type": "execute_result"
        }
      ],
      "source": [
        "fm_gender_1, fm_gender_0"
      ]
    },
    {
      "cell_type": "code",
      "execution_count": null,
      "metadata": {
        "colab": {
          "background_save": true
        },
        "id": "qDTSHQQNrv1w",
        "outputId": "5a41cf1e-f89a-43c9-b723-c43937b1d887"
      },
      "outputs": [
        {
          "data": {
            "text/plain": [
              "(array([0.97951879, 1.        , 0.02176669, 0.        , 0.07953868]),\n",
              " array([0.97867804, 1.        , 0.02296211, 0.        , 0.09275053]))"
            ]
          },
          "execution_count": 39,
          "metadata": {},
          "output_type": "execute_result"
        }
      ],
      "source": [
        "fm_race_1, fm_race_0"
      ]
    },
    {
      "cell_type": "markdown",
      "metadata": {
        "id": "hlufEIuHMD1L"
      },
      "source": [
        "Apache"
      ]
    },
    {
      "cell_type": "code",
      "execution_count": null,
      "metadata": {
        "colab": {
          "background_save": true
        },
        "id": "PkEGFXa1MIsu",
        "outputId": "1209a11a-7c09-4400-c4ff-aa30abb0540a"
      },
      "outputs": [
        {
          "data": {
            "image/png": "[encoded data removed]",
            "text/plain": [
              "<Figure size 640x480 with 1 Axes>"
            ]
          },
          "metadata": {},
          "output_type": "display_data"
        }
      ],
      "source": [
        " # histogram\n",
        "y_apache_train.hist()\n",
        "plt.title(\"APACHE scores (train)\")\n",
        "plt.show()"
      ]
    },
    {
      "cell_type": "code",
      "execution_count": null,
      "metadata": {
        "colab": {
          "background_save": true
        },
        "id": "LT1FuMD0MV4L",
        "outputId": "8326d007-d678-4732-a785-9ec22b8e8f39"
      },
      "outputs": [
        {
          "data": {
            "image/png": "[encoded data removed]",
            "text/plain": [
              "<Figure size 640x480 with 1 Axes>"
            ]
          },
          "metadata": {},
          "output_type": "display_data"
        }
      ],
      "source": [
        " # histogram\n",
        "y_apache_train.hist()\n",
        "plt.title(\"APACHE scores (train)\")\n",
        "plt.show()"
      ]
    },
    {
      "cell_type": "code",
      "execution_count": null,
      "metadata": {
        "colab": {
          "background_save": true
        },
        "id": "JIW4tJx7MhE0"
      },
      "outputs": [],
      "source": [
        "y_apache_filt = y_apache_train.fillna(0)"
      ]
    },
    {
      "cell_type": "code",
      "execution_count": null,
      "metadata": {
        "colab": {
          "background_save": true
        },
        "id": "EkxgI-rfMiSl"
      },
      "outputs": [],
      "source": [
        "y_apache_filt = [0 if x <= 0 else x for x in y_apache_filt]"
      ]
    },
    {
      "cell_type": "code",
      "execution_count": null,
      "metadata": {
        "colab": {
          "background_save": true
        },
        "id": "B9hbAshFMi-W"
      },
      "outputs": [],
      "source": [
        "y_apache_list = [1 if x >= 0.5 else 0 for x in y_apache_filt]"
      ]
    },
    {
      "cell_type": "code",
      "execution_count": null,
      "metadata": {
        "colab": {
          "background_save": true
        },
        "id": "8UGt1BFJMmM_",
        "outputId": "bbf3d55d-cf6d-42ca-d182-9b6ba280a2d4"
      },
      "outputs": [
        {
          "ename": "NameError",
          "evalue": "ignored",
          "output_type": "error",
          "traceback": [
            "\u001b[0;31m---------------------------------------------------------------------------\u001b[0m",
            "\u001b[0;31mNameError\u001b[0m                                 Traceback (most recent call last)",
            "\u001b[0;32m<ipython-input-45-710914c394cd>\u001b[0m in \u001b[0;36m<cell line: 2>\u001b[0;34m()\u001b[0m\n\u001b[1;32m      1\u001b[0m \u001b[0;32mfrom\u001b[0m \u001b[0msklearn\u001b[0m\u001b[0;34m.\u001b[0m\u001b[0mmodel_selection\u001b[0m \u001b[0;32mimport\u001b[0m \u001b[0mcross_val_score\u001b[0m\u001b[0;34m\u001b[0m\u001b[0;34m\u001b[0m\u001b[0m\n\u001b[0;32m----> 2\u001b[0;31m \u001b[0mscores\u001b[0m \u001b[0;34m=\u001b[0m \u001b[0mcross_val_score\u001b[0m\u001b[0;34m(\u001b[0m\u001b[0mlm\u001b[0m\u001b[0;34m,\u001b[0m \u001b[0mX_train\u001b[0m\u001b[0;34m,\u001b[0m \u001b[0my_apache_list\u001b[0m\u001b[0;34m,\u001b[0m \u001b[0mcv\u001b[0m\u001b[0;34m=\u001b[0m\u001b[0;36m10\u001b[0m\u001b[0;34m)\u001b[0m\u001b[0;34m\u001b[0m\u001b[0;34m\u001b[0m\u001b[0m\n\u001b[0m\u001b[1;32m      3\u001b[0m \u001b[0mscores\u001b[0m\u001b[0;34m\u001b[0m\u001b[0;34m\u001b[0m\u001b[0m\n",
            "\u001b[0;31mNameError\u001b[0m: name 'lm' is not defined"
          ]
        }
      ],
      "source": [
        "from sklearn.model_selection import cross_val_score\n",
        "scores = cross_val_score(lm, X_train, y_apache_list, cv=10)\n",
        "scores"
      ]
    },
    {
      "cell_type": "code",
      "execution_count": null,
      "metadata": {
        "colab": {
          "background_save": true
        },
        "id": "TnVDgXR9Mt-R"
      },
      "outputs": [],
      "source": [
        "def correlate(feature):\n",
        "  df = {\n",
        "    \"Apache\": y_apache_list,\n",
        "    \"Feature\": X_train[feature]\n",
        "  }\n",
        "  data = pd.DataFrame(df)\n",
        "  print(data.corr(), i)\n",
        "for i in X_train.columns:\n",
        "  correlate(i)"
      ]
    },
    {
      "cell_type": "code",
      "execution_count": null,
      "metadata": {
        "colab": {
          "background_save": true
        },
        "id": "4LhmgnKZMw2-"
      },
      "outputs": [],
      "source": [
        "comparison_df = pd.DataFrame()\n",
        "comparison_df['apache_y'] = y_apache_filt\n",
        "comparison_df['true_y'] = y_train"
      ]
    },
    {
      "cell_type": "code",
      "execution_count": null,
      "metadata": {
        "colab": {
          "background_save": true
        },
        "id": "X3-h2KTrMxjn"
      },
      "outputs": [],
      "source": [
        "comparison_df.groupby(['true_y'])"
      ]
    },
    {
      "cell_type": "code",
      "execution_count": null,
      "metadata": {
        "colab": {
          "background_save": true
        },
        "id": "4jkD_gtJM03y"
      },
      "outputs": [],
      "source": [
        "print(comparison_df.corr())"
      ]
    },
    {
      "cell_type": "code",
      "execution_count": null,
      "metadata": {
        "colab": {
          "background_save": true
        },
        "id": "zC--d_drM2H-"
      },
      "outputs": [],
      "source": [
        "dt = DecisionTreeClassifier(max_depth = 1, class_weight = w)\n",
        "dt.fit(np.array(y_apache_filt).reshape(-1, 1),y_train)"
      ]
    },
    {
      "cell_type": "code",
      "execution_count": null,
      "metadata": {
        "colab": {
          "background_save": true
        },
        "id": "165TX45cM3Nw"
      },
      "outputs": [],
      "source": [
        "dt.score(np.array(y_apache_filt).reshape(-1, 1),y_train)"
      ]
    },
    {
      "cell_type": "code",
      "execution_count": null,
      "metadata": {
        "colab": {
          "background_save": true
        },
        "id": "qzKyzhbAM58e"
      },
      "outputs": [],
      "source": [
        "dt.get_params(deep=True)\n",
        "dt.get_n_leaves()\n",
        "dt.decision_path(np.array(y_apache_filt).reshape(-1, 1))"
      ]
    },
    {
      "cell_type": "code",
      "execution_count": null,
      "metadata": {
        "colab": {
          "background_save": true
        },
        "id": "Vc_tJr4UM-Tb"
      },
      "outputs": [],
      "source": [
        "from sklearn.tree import _tree"
      ]
    },
    {
      "cell_type": "code",
      "execution_count": null,
      "metadata": {
        "colab": {
          "background_save": true
        },
        "id": "xBxnIlEtNAXp"
      },
      "outputs": [],
      "source": [
        "def tree_to_code(tree, feature_names):\n",
        "    tree_ = tree.tree_\n",
        "    feature_name = [\n",
        "        feature_names[i] if i != _tree.TREE_UNDEFINED else \"undefined!\"\n",
        "        for i in tree_.feature\n",
        "    ]\n",
        "    def recurse(node, depth):\n",
        "        indent = \"  \" * depth\n",
        "        if tree_.feature[node] != _tree.TREE_UNDEFINED:\n",
        "            name = feature_name[node]\n",
        "            threshold = tree_.threshold[node]\n",
        "            print(indent,'if', name,'<=', threshold)\n",
        "            recurse(tree_.children_left[node], depth + 1)\n",
        "            print(indent,'if', name,'>', threshold)\n",
        "            recurse(tree_.children_right[node], depth + 1)\n",
        "        else:\n",
        "            print(indent, tree_.value[node])\n",
        "\n",
        "    recurse(0, 1)"
      ]
    },
    {
      "cell_type": "code",
      "execution_count": null,
      "metadata": {
        "colab": {
          "background_save": true
        },
        "id": "oHm9XUiCNCOb"
      },
      "outputs": [],
      "source": [
        "tree_to_code(dt, np.array(y_apache_filt).reshape(-1, 1))"
      ]
    },
    {
      "cell_type": "code",
      "execution_count": null,
      "metadata": {
        "colab": {
          "background_save": true
        },
        "id": "MludrkhuNDt2"
      },
      "outputs": [],
      "source": [
        "low = comparison_df[comparison_df['apache_y'] > 0.1850000023841858]\n",
        "low.groupby(['true_y']).count()"
      ]
    },
    {
      "cell_type": "code",
      "execution_count": null,
      "metadata": {
        "colab": {
          "background_save": true
        },
        "id": "E6iwb9Q1NEru"
      },
      "outputs": [],
      "source": [
        "high = comparison_df[comparison_df['apache_y'] <= 0.1850000023841858]\n",
        "high.groupby(['true_y']).count()"
      ]
    },
    {
      "cell_type": "code",
      "execution_count": null,
      "metadata": {
        "colab": {
          "background_save": true
        },
        "id": "_mjNe_j_NHuU"
      },
      "outputs": [],
      "source": [
        "from sklearn.metrics import precision_score\n",
        "from sklearn.metrics import recall_score\n",
        "\n",
        "dt.precision_score(np.array(y_apache_filt).reshape(-1, 1),y_train)\n",
        "dt.recall_score(np.array(y_apache_filt).reshape(-1, 1),y_train)"
      ]
    }
  ],
  "metadata": {
    "colab": {
      "provenance": [],
      "include_colab_link": true
    },
    "kernelspec": {
      "display_name": "Python 3",
      "name": "python3"
    },
    "language_info": {
      "name": "python"
    }
  },
  "nbformat": 4,
  "nbformat_minor": 0
}