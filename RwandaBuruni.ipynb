import pandas as pd

c1 = 'Rwanda'
c2 = 'Burundi'
e1 = 'Hutu'
e2 = 'Tutsi'
e3 = 'Batwa'



country_list = []
for i in range(0,100):
  country_list.append(c1)
for i in range(0,100):
  country_list.append(c2)

ethnicity_list = []

for i in range(0,85):
  ethnicity_list.append(e1)
for i in range(85,99):
  ethnicity_list.append(e2)
ethnicity_list.append(e3)

for i in range(0,85):
  ethnicity_list.append(e1)
for i in range(85,99):
  ethnicity_list.append(e2)
ethnicity_list.append(e3)




data = {'Country': country_list, 'Ethnicity': ethnicity_list}
len(country_list), len(ethnicity_list)
df = pd.DataFrame(data)
# write empty DataFrame to new csv file
#df.to_csv('my_empty.csv')
