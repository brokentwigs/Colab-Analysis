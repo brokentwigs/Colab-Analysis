{
  "nbformat": 4,
  "nbformat_minor": 0,
  "metadata": {
    "colab": {
      "provenance": [],
      "include_colab_link": true
    },
    "kernelspec": {
      "name": "python3",
      "display_name": "Python 3"
    },
    "language_info": {
      "name": "python"
    }
  },
  "cells": [
    {
      "cell_type": "markdown",
      "metadata": {
        "id": "view-in-github",
        "colab_type": "text"
      },
      "source": [
        "<a href=\"https://colab.research.google.com/github/brokentwigs/Colab-Analysis/blob/main/SklearnSoftmax.ipynb\" target=\"_parent\"><img src=\"https://colab.research.google.com/assets/colab-badge.svg\" alt=\"Open In Colab\"/></a>"
      ]
    },
    {
      "cell_type": "markdown",
      "source": [],
      "metadata": {
        "id": "85l62CryF7v0"
      }
    },
    {
      "cell_type": "code",
      "execution_count": null,
      "metadata": {
        "id": "wrJvYMGhF2p0"
      },
      "outputs": [],
      "source": [
        "import pandas as pd\n",
        "import math\n",
        "import numpy as np\n",
        "import matplotlib.pyplot as plt\n",
        "from sklearn import datasets\n",
        "from sklearn import model_selection\n",
        "from sklearn import linear_model\n",
        "from sklearn import metrics\n",
        "import pandas as pd\n",
        "from datetime import datetime\n",
        "from collections import Counter\n",
        "import numpy as np\n",
        "from tqdm import tqdm\n",
        "from sklearn.model_selection import train_test_split\n",
        "from sklearn.preprocessing import OneHotEncoder\n",
        "from sklearn.metrics import confusion_matrix\n",
        "from google.colab import drive\n",
        "enco = OneHotEncoder(sparse = False, handle_unknown = 'ignore')\n",
        "enco_labels_train = OneHotEncoder(sparse = False, handle_unknown = 'ignore')"
      ]
    },
    {
      "cell_type": "code",
      "source": [
        "df = pd.read_csv('BPI_Challenge_2012.csv')"
      ],
      "metadata": {
        "id": "N_soll_rF62t",
        "outputId": "260fef2b-4f8c-4eca-f8d0-f81e44aff12c",
        "colab": {
          "base_uri": "https://localhost:8080/",
          "height": 335
        }
      },
      "execution_count": null,
      "outputs": [
        {
          "output_type": "error",
          "ename": "FileNotFoundError",
          "evalue": "ignored",
          "traceback": [
            "\u001b[0;31m---------------------------------------------------------------------------\u001b[0m",
            "\u001b[0;31mFileNotFoundError\u001b[0m                         Traceback (most recent call last)",
            "\u001b[0;32m<ipython-input-2-69944c573b95>\u001b[0m in \u001b[0;36m<module>\u001b[0;34m()\u001b[0m\n\u001b[0;32m----> 1\u001b[0;31m \u001b[0mdf\u001b[0m \u001b[0;34m=\u001b[0m \u001b[0mpd\u001b[0m\u001b[0;34m.\u001b[0m\u001b[0mread_csv\u001b[0m\u001b[0;34m(\u001b[0m\u001b[0;34m'BPI_Challenge_2012.csv'\u001b[0m\u001b[0;34m)\u001b[0m\u001b[0;34m\u001b[0m\u001b[0;34m\u001b[0m\u001b[0m\n\u001b[0m",
            "\u001b[0;32m/usr/local/lib/python3.7/dist-packages/pandas/util/_decorators.py\u001b[0m in \u001b[0;36mwrapper\u001b[0;34m(*args, **kwargs)\u001b[0m\n\u001b[1;32m    309\u001b[0m                     \u001b[0mstacklevel\u001b[0m\u001b[0;34m=\u001b[0m\u001b[0mstacklevel\u001b[0m\u001b[0;34m,\u001b[0m\u001b[0;34m\u001b[0m\u001b[0;34m\u001b[0m\u001b[0m\n\u001b[1;32m    310\u001b[0m                 )\n\u001b[0;32m--> 311\u001b[0;31m             \u001b[0;32mreturn\u001b[0m \u001b[0mfunc\u001b[0m\u001b[0;34m(\u001b[0m\u001b[0;34m*\u001b[0m\u001b[0margs\u001b[0m\u001b[0;34m,\u001b[0m \u001b[0;34m**\u001b[0m\u001b[0mkwargs\u001b[0m\u001b[0;34m)\u001b[0m\u001b[0;34m\u001b[0m\u001b[0;34m\u001b[0m\u001b[0m\n\u001b[0m\u001b[1;32m    312\u001b[0m \u001b[0;34m\u001b[0m\u001b[0m\n\u001b[1;32m    313\u001b[0m         \u001b[0;32mreturn\u001b[0m \u001b[0mwrapper\u001b[0m\u001b[0;34m\u001b[0m\u001b[0;34m\u001b[0m\u001b[0m\n",
            "\u001b[0;32m/usr/local/lib/python3.7/dist-packages/pandas/io/parsers/readers.py\u001b[0m in \u001b[0;36mread_csv\u001b[0;34m(filepath_or_buffer, sep, delimiter, header, names, index_col, usecols, squeeze, prefix, mangle_dupe_cols, dtype, engine, converters, true_values, false_values, skipinitialspace, skiprows, skipfooter, nrows, na_values, keep_default_na, na_filter, verbose, skip_blank_lines, parse_dates, infer_datetime_format, keep_date_col, date_parser, dayfirst, cache_dates, iterator, chunksize, compression, thousands, decimal, lineterminator, quotechar, quoting, doublequote, escapechar, comment, encoding, encoding_errors, dialect, error_bad_lines, warn_bad_lines, on_bad_lines, delim_whitespace, low_memory, memory_map, float_precision, storage_options)\u001b[0m\n\u001b[1;32m    584\u001b[0m     \u001b[0mkwds\u001b[0m\u001b[0;34m.\u001b[0m\u001b[0mupdate\u001b[0m\u001b[0;34m(\u001b[0m\u001b[0mkwds_defaults\u001b[0m\u001b[0;34m)\u001b[0m\u001b[0;34m\u001b[0m\u001b[0;34m\u001b[0m\u001b[0m\n\u001b[1;32m    585\u001b[0m \u001b[0;34m\u001b[0m\u001b[0m\n\u001b[0;32m--> 586\u001b[0;31m     \u001b[0;32mreturn\u001b[0m \u001b[0m_read\u001b[0m\u001b[0;34m(\u001b[0m\u001b[0mfilepath_or_buffer\u001b[0m\u001b[0;34m,\u001b[0m \u001b[0mkwds\u001b[0m\u001b[0;34m)\u001b[0m\u001b[0;34m\u001b[0m\u001b[0;34m\u001b[0m\u001b[0m\n\u001b[0m\u001b[1;32m    587\u001b[0m \u001b[0;34m\u001b[0m\u001b[0m\n\u001b[1;32m    588\u001b[0m \u001b[0;34m\u001b[0m\u001b[0m\n",
            "\u001b[0;32m/usr/local/lib/python3.7/dist-packages/pandas/io/parsers/readers.py\u001b[0m in \u001b[0;36m_read\u001b[0;34m(filepath_or_buffer, kwds)\u001b[0m\n\u001b[1;32m    480\u001b[0m \u001b[0;34m\u001b[0m\u001b[0m\n\u001b[1;32m    481\u001b[0m     \u001b[0;31m# Create the parser.\u001b[0m\u001b[0;34m\u001b[0m\u001b[0;34m\u001b[0m\u001b[0;34m\u001b[0m\u001b[0m\n\u001b[0;32m--> 482\u001b[0;31m     \u001b[0mparser\u001b[0m \u001b[0;34m=\u001b[0m \u001b[0mTextFileReader\u001b[0m\u001b[0;34m(\u001b[0m\u001b[0mfilepath_or_buffer\u001b[0m\u001b[0;34m,\u001b[0m \u001b[0;34m**\u001b[0m\u001b[0mkwds\u001b[0m\u001b[0;34m)\u001b[0m\u001b[0;34m\u001b[0m\u001b[0;34m\u001b[0m\u001b[0m\n\u001b[0m\u001b[1;32m    483\u001b[0m \u001b[0;34m\u001b[0m\u001b[0m\n\u001b[1;32m    484\u001b[0m     \u001b[0;32mif\u001b[0m \u001b[0mchunksize\u001b[0m \u001b[0;32mor\u001b[0m \u001b[0miterator\u001b[0m\u001b[0;34m:\u001b[0m\u001b[0;34m\u001b[0m\u001b[0;34m\u001b[0m\u001b[0m\n",
            "\u001b[0;32m/usr/local/lib/python3.7/dist-packages/pandas/io/parsers/readers.py\u001b[0m in \u001b[0;36m__init__\u001b[0;34m(self, f, engine, **kwds)\u001b[0m\n\u001b[1;32m    809\u001b[0m             \u001b[0mself\u001b[0m\u001b[0;34m.\u001b[0m\u001b[0moptions\u001b[0m\u001b[0;34m[\u001b[0m\u001b[0;34m\"has_index_names\"\u001b[0m\u001b[0;34m]\u001b[0m \u001b[0;34m=\u001b[0m \u001b[0mkwds\u001b[0m\u001b[0;34m[\u001b[0m\u001b[0;34m\"has_index_names\"\u001b[0m\u001b[0;34m]\u001b[0m\u001b[0;34m\u001b[0m\u001b[0;34m\u001b[0m\u001b[0m\n\u001b[1;32m    810\u001b[0m \u001b[0;34m\u001b[0m\u001b[0m\n\u001b[0;32m--> 811\u001b[0;31m         \u001b[0mself\u001b[0m\u001b[0;34m.\u001b[0m\u001b[0m_engine\u001b[0m \u001b[0;34m=\u001b[0m \u001b[0mself\u001b[0m\u001b[0;34m.\u001b[0m\u001b[0m_make_engine\u001b[0m\u001b[0;34m(\u001b[0m\u001b[0mself\u001b[0m\u001b[0;34m.\u001b[0m\u001b[0mengine\u001b[0m\u001b[0;34m)\u001b[0m\u001b[0;34m\u001b[0m\u001b[0;34m\u001b[0m\u001b[0m\n\u001b[0m\u001b[1;32m    812\u001b[0m \u001b[0;34m\u001b[0m\u001b[0m\n\u001b[1;32m    813\u001b[0m     \u001b[0;32mdef\u001b[0m \u001b[0mclose\u001b[0m\u001b[0;34m(\u001b[0m\u001b[0mself\u001b[0m\u001b[0;34m)\u001b[0m\u001b[0;34m:\u001b[0m\u001b[0;34m\u001b[0m\u001b[0;34m\u001b[0m\u001b[0m\n",
            "\u001b[0;32m/usr/local/lib/python3.7/dist-packages/pandas/io/parsers/readers.py\u001b[0m in \u001b[0;36m_make_engine\u001b[0;34m(self, engine)\u001b[0m\n\u001b[1;32m   1038\u001b[0m             )\n\u001b[1;32m   1039\u001b[0m         \u001b[0;31m# error: Too many arguments for \"ParserBase\"\u001b[0m\u001b[0;34m\u001b[0m\u001b[0;34m\u001b[0m\u001b[0;34m\u001b[0m\u001b[0m\n\u001b[0;32m-> 1040\u001b[0;31m         \u001b[0;32mreturn\u001b[0m \u001b[0mmapping\u001b[0m\u001b[0;34m[\u001b[0m\u001b[0mengine\u001b[0m\u001b[0;34m]\u001b[0m\u001b[0;34m(\u001b[0m\u001b[0mself\u001b[0m\u001b[0;34m.\u001b[0m\u001b[0mf\u001b[0m\u001b[0;34m,\u001b[0m \u001b[0;34m**\u001b[0m\u001b[0mself\u001b[0m\u001b[0;34m.\u001b[0m\u001b[0moptions\u001b[0m\u001b[0;34m)\u001b[0m  \u001b[0;31m# type: ignore[call-arg]\u001b[0m\u001b[0;34m\u001b[0m\u001b[0;34m\u001b[0m\u001b[0m\n\u001b[0m\u001b[1;32m   1041\u001b[0m \u001b[0;34m\u001b[0m\u001b[0m\n\u001b[1;32m   1042\u001b[0m     \u001b[0;32mdef\u001b[0m \u001b[0m_failover_to_python\u001b[0m\u001b[0;34m(\u001b[0m\u001b[0mself\u001b[0m\u001b[0;34m)\u001b[0m\u001b[0;34m:\u001b[0m\u001b[0;34m\u001b[0m\u001b[0;34m\u001b[0m\u001b[0m\n",
            "\u001b[0;32m/usr/local/lib/python3.7/dist-packages/pandas/io/parsers/c_parser_wrapper.py\u001b[0m in \u001b[0;36m__init__\u001b[0;34m(self, src, **kwds)\u001b[0m\n\u001b[1;32m     49\u001b[0m \u001b[0;34m\u001b[0m\u001b[0m\n\u001b[1;32m     50\u001b[0m         \u001b[0;31m# open handles\u001b[0m\u001b[0;34m\u001b[0m\u001b[0;34m\u001b[0m\u001b[0;34m\u001b[0m\u001b[0m\n\u001b[0;32m---> 51\u001b[0;31m         \u001b[0mself\u001b[0m\u001b[0;34m.\u001b[0m\u001b[0m_open_handles\u001b[0m\u001b[0;34m(\u001b[0m\u001b[0msrc\u001b[0m\u001b[0;34m,\u001b[0m \u001b[0mkwds\u001b[0m\u001b[0;34m)\u001b[0m\u001b[0;34m\u001b[0m\u001b[0;34m\u001b[0m\u001b[0m\n\u001b[0m\u001b[1;32m     52\u001b[0m         \u001b[0;32massert\u001b[0m \u001b[0mself\u001b[0m\u001b[0;34m.\u001b[0m\u001b[0mhandles\u001b[0m \u001b[0;32mis\u001b[0m \u001b[0;32mnot\u001b[0m \u001b[0;32mNone\u001b[0m\u001b[0;34m\u001b[0m\u001b[0;34m\u001b[0m\u001b[0m\n\u001b[1;32m     53\u001b[0m \u001b[0;34m\u001b[0m\u001b[0m\n",
            "\u001b[0;32m/usr/local/lib/python3.7/dist-packages/pandas/io/parsers/base_parser.py\u001b[0m in \u001b[0;36m_open_handles\u001b[0;34m(self, src, kwds)\u001b[0m\n\u001b[1;32m    227\u001b[0m             \u001b[0mmemory_map\u001b[0m\u001b[0;34m=\u001b[0m\u001b[0mkwds\u001b[0m\u001b[0;34m.\u001b[0m\u001b[0mget\u001b[0m\u001b[0;34m(\u001b[0m\u001b[0;34m\"memory_map\"\u001b[0m\u001b[0;34m,\u001b[0m \u001b[0;32mFalse\u001b[0m\u001b[0;34m)\u001b[0m\u001b[0;34m,\u001b[0m\u001b[0;34m\u001b[0m\u001b[0;34m\u001b[0m\u001b[0m\n\u001b[1;32m    228\u001b[0m             \u001b[0mstorage_options\u001b[0m\u001b[0;34m=\u001b[0m\u001b[0mkwds\u001b[0m\u001b[0;34m.\u001b[0m\u001b[0mget\u001b[0m\u001b[0;34m(\u001b[0m\u001b[0;34m\"storage_options\"\u001b[0m\u001b[0;34m,\u001b[0m \u001b[0;32mNone\u001b[0m\u001b[0;34m)\u001b[0m\u001b[0;34m,\u001b[0m\u001b[0;34m\u001b[0m\u001b[0;34m\u001b[0m\u001b[0m\n\u001b[0;32m--> 229\u001b[0;31m             \u001b[0merrors\u001b[0m\u001b[0;34m=\u001b[0m\u001b[0mkwds\u001b[0m\u001b[0;34m.\u001b[0m\u001b[0mget\u001b[0m\u001b[0;34m(\u001b[0m\u001b[0;34m\"encoding_errors\"\u001b[0m\u001b[0;34m,\u001b[0m \u001b[0;34m\"strict\"\u001b[0m\u001b[0;34m)\u001b[0m\u001b[0;34m,\u001b[0m\u001b[0;34m\u001b[0m\u001b[0;34m\u001b[0m\u001b[0m\n\u001b[0m\u001b[1;32m    230\u001b[0m         )\n\u001b[1;32m    231\u001b[0m \u001b[0;34m\u001b[0m\u001b[0m\n",
            "\u001b[0;32m/usr/local/lib/python3.7/dist-packages/pandas/io/common.py\u001b[0m in \u001b[0;36mget_handle\u001b[0;34m(path_or_buf, mode, encoding, compression, memory_map, is_text, errors, storage_options)\u001b[0m\n\u001b[1;32m    705\u001b[0m                 \u001b[0mencoding\u001b[0m\u001b[0;34m=\u001b[0m\u001b[0mioargs\u001b[0m\u001b[0;34m.\u001b[0m\u001b[0mencoding\u001b[0m\u001b[0;34m,\u001b[0m\u001b[0;34m\u001b[0m\u001b[0;34m\u001b[0m\u001b[0m\n\u001b[1;32m    706\u001b[0m                 \u001b[0merrors\u001b[0m\u001b[0;34m=\u001b[0m\u001b[0merrors\u001b[0m\u001b[0;34m,\u001b[0m\u001b[0;34m\u001b[0m\u001b[0;34m\u001b[0m\u001b[0m\n\u001b[0;32m--> 707\u001b[0;31m                 \u001b[0mnewline\u001b[0m\u001b[0;34m=\u001b[0m\u001b[0;34m\"\"\u001b[0m\u001b[0;34m,\u001b[0m\u001b[0;34m\u001b[0m\u001b[0;34m\u001b[0m\u001b[0m\n\u001b[0m\u001b[1;32m    708\u001b[0m             )\n\u001b[1;32m    709\u001b[0m         \u001b[0;32melse\u001b[0m\u001b[0;34m:\u001b[0m\u001b[0;34m\u001b[0m\u001b[0;34m\u001b[0m\u001b[0m\n",
            "\u001b[0;31mFileNotFoundError\u001b[0m: [Errno 2] No such file or directory: 'BPI_Challenge_2012.csv'"
          ]
        }
      ]
    },
    {
      "cell_type": "code",
      "source": [
        "# Temporal Split\n",
        "df = df.sort_values(by = ['startTime'])\n",
        "temporal_test_length = len(df['startTime'].unique()) // 10\n",
        "temporal_train_length = len(df['startTime'].unique()) - (len(df['startTime'].unique()) // 10)\n",
        "training_dates = df['startTime'].unique()[0 : temporal_train_length]\n",
        "testing_dates = df['startTime'].unique()[temporal_train_length:]\n",
        "df_date_train = df[df['startTime'].isin(training_dates)]\n",
        "df_date_train\n",
        "df_date_test = df[df['startTime'].isin(testing_dates)]\n",
        "df_date_test\n",
        "\n",
        "# Case Split\n",
        "testing_length = len(df['case'].unique()) // 10\n",
        "training_length = len(df['case'].unique()) - (len(df['case'].unique()) // 10)\n",
        "training_cases = df['case'].unique()[0:training_length]\n",
        "testing_cases = df['case'].unique()[training_length:]\n",
        "df_bpi_train = df[df['case'].isin(training_cases)]\n",
        "df_bpi_train\n",
        "df_bpi_test = df[df['case'].isin(testing_cases)]\n",
        "df_date_train.tail(1), df_date_test.head(1)\n",
        "\n",
        "training_set =  df_bpi_train[df_bpi_train['startTime'].isin(training_dates)]\n",
        "testing_set = df_bpi_test[df_bpi_test['startTime'].isin(testing_dates)]\n",
        "\n",
        "train_val_split = 80\n",
        "\n",
        "final_train = training_set.head(int(len(df)*(train_val_split/100)))\n",
        "\n",
        "final_val = training_set.tail(len(training_set) - len(final_train))"
      ],
      "metadata": {
        "id": "1k-wMrwXMcZE"
      },
      "execution_count": null,
      "outputs": []
    },
    {
      "cell_type": "code",
      "source": [
        "final_test = testing_set.sort_values(by = ['case', 'startTime'])\n",
        "final_val = final_val.sort_values(by = ['case', 'startTime'])\n",
        "final_train = final_train.sort_values(by = ['case', 'startTime'])"
      ],
      "metadata": {
        "id": "KCXOU6DSMedF"
      },
      "execution_count": null,
      "outputs": []
    },
    {
      "cell_type": "code",
      "source": [
        "def preprocess(df):\n",
        "  df['startTime'] = pd.to_datetime(df['startTime'])\n",
        "  df['completeTime'] = pd.to_datetime(df['completeTime'])\n",
        "  df['next_event'] = df['event'].shift(-1)\n",
        "  d_last = df.index.to_series().groupby(df['case']).agg(['last']).reset_index() # Get indexes of last event in each case\n",
        "  last_lst = d_last['last'].to_list() # Indexes of last event to list\n",
        "  for num in last_lst:\n",
        "    df.loc[num, 'next_event'] = 'no event' # Replace last events in each case to NaN\n",
        "\n",
        "  df['time_diff'] = df['startTime'].diff().dt.total_seconds().shift(-1)\n",
        "  d_last = df.index.to_series().groupby(df['case']).agg(['last']).reset_index() # Get indexes of last event in each case\n",
        "  last_lst = d_last['last'].to_list() # Indexes of last event to list\n",
        "  for num in last_lst:\n",
        "    df.loc[num, 'time_diff'] = 0 # Replace last events in each case to 0\n",
        "\n",
        "  df['position'] = df.groupby(['case']).cumcount()\n",
        "\n",
        "  return df"
      ],
      "metadata": {
        "id": "U3loKbFPMe-1"
      },
      "execution_count": null,
      "outputs": []
    },
    {
      "cell_type": "code",
      "source": [
        "preprocess(final_train)\n",
        "preprocess(final_test)\n",
        "preprocess(final_val)"
      ],
      "metadata": {
        "id": "E7JGfc26Mg0k"
      },
      "execution_count": null,
      "outputs": []
    },
    {
      "cell_type": "code",
      "source": [
        "# one hot encode current event\n",
        "def OneHot(df):\n",
        "  to_be_enc = df['event'].to_numpy().reshape(-1, 1)\n",
        "  encode = enco.fit(to_be_enc)\n",
        "  transformed = encode.transform(to_be_enc)\n",
        "  ohe_df = pd.DataFrame(transformed, columns = encode.get_feature_names())\n",
        "\n",
        "  return ohe_df"
      ],
      "metadata": {
        "id": "eSKfJww4MiF8"
      },
      "execution_count": null,
      "outputs": []
    },
    {
      "cell_type": "code",
      "source": [
        "val_ohe = OneHot(final_val)\n",
        "test_ohe = OneHot(final_test)\n",
        "train_ohe = OneHot(final_train)"
      ],
      "metadata": {
        "id": "UAzXldCSMnnV"
      },
      "execution_count": null,
      "outputs": []
    },
    {
      "cell_type": "code",
      "source": [
        "# normalize time\n",
        "\n",
        "from sklearn.preprocessing import MinMaxScaler\n",
        "mms = MinMaxScaler()\n",
        "final_train['normalized_time'] = mms.fit_transform(final_train['time_diff'].to_numpy().reshape(-1, 1))\n",
        "final_test['normalized_time'] = mms.transform(final_test['time_diff'].to_numpy().reshape(-1, 1))\n",
        "final_val['normalized_time'] = mms.transform(final_val['time_diff'].to_numpy().reshape(-1, 1))"
      ],
      "metadata": {
        "id": "Ju-1IyXtMoG0"
      },
      "execution_count": null,
      "outputs": []
    },
    {
      "cell_type": "code",
      "source": [
        "def weekday(df, df_1):\n",
        "  df_1.index = df.index\n",
        "  df['weekday'] = df['startTime'].dt.dayofweek\n",
        "  df_1['weekday'] = df['weekday']\n",
        "  weekend = (df_1['weekday'] == 5) | (df_1['weekday'] == 6)\n",
        "\n",
        "  # 0 if weekend, 1 if weekday\n",
        "  df_1['weekend'] = np.where(weekend, 0, 1)\n",
        "  df_1 = df_1.drop('weekday', axis = 1)\n",
        "\n",
        "  return df_1"
      ],
      "metadata": {
        "id": "r6pJE44qMqrU"
      },
      "execution_count": null,
      "outputs": []
    },
    {
      "cell_type": "code",
      "source": [
        "from sklearn.preprocessing import MinMaxScaler\n",
        "scaler = MinMaxScaler()\n",
        "final_train['normalized_req'] = scaler.fit_transform(final_train['AMOUNT_REQ'].to_numpy().reshape(-1, 1))\n",
        "final_test['normalized_req'] = scaler.transform(final_test['AMOUNT_REQ'].to_numpy().reshape(-1, 1))\n",
        "final_val['normalized_req'] = scaler.transform(final_val['AMOUNT_REQ'].to_numpy().reshape(-1, 1))\n",
        "final_train['nor_position'] = scaler.transform(final_train['position'].to_numpy().reshape(-1, 1))\n",
        "final_test['nor_position'] = scaler.transform(final_test['position'].to_numpy().reshape(-1, 1))\n",
        "final_val['nor_position'] = scaler.transform(final_val['position'].to_numpy().reshape(-1, 1))"
      ],
      "metadata": {
        "id": "-C4P-1YEMr_0"
      },
      "execution_count": null,
      "outputs": []
    },
    {
      "cell_type": "code",
      "source": [
        "val_ohe = weekday(final_val, val_ohe)\n",
        "val_ohe['normalized_req'] = final_val['normalized_req']\n",
        "val_ohe['nor_position'] = final_val['nor_position']"
      ],
      "metadata": {
        "id": "m3UrHRjdMvjM"
      },
      "execution_count": null,
      "outputs": []
    },
    {
      "cell_type": "code",
      "source": [
        "train_ohe = weekday(final_train, train_ohe)\n",
        "train_ohe['normalized_req'] = final_train['normalized_req']\n",
        "train_ohe['nor_position'] = final_train['nor_position']\n",
        "train_ohe"
      ],
      "metadata": {
        "id": "qkamBoTOMwDc"
      },
      "execution_count": null,
      "outputs": []
    },
    {
      "cell_type": "code",
      "source": [
        "test_ohe = weekday(final_test, test_ohe)\n",
        "test_ohe['normalized_req'] = final_test['normalized_req']\n",
        "test_ohe['nor_position'] = final_test['nor_position']"
      ],
      "metadata": {
        "id": "9xL3RH2_Mxik"
      },
      "execution_count": null,
      "outputs": []
    },
    {
      "cell_type": "code",
      "source": [
        "labels_train = np.array(final_train['next_event'])\n",
        "labels_test = np.array(final_test['next_event'])\n",
        "labels_val = np.array(final_val['next_event'])"
      ],
      "metadata": {
        "id": "LsTuFe3CM0aF"
      },
      "execution_count": null,
      "outputs": []
    },
    {
      "cell_type": "code",
      "source": [
        "features_train = np.array(train_ohe)\n",
        "features_test = np.array(test_ohe)\n",
        "features_val = np.array(val_ohe)"
      ],
      "metadata": {
        "id": "QOYOTNC_M1wM"
      },
      "execution_count": null,
      "outputs": []
    },
    {
      "cell_type": "code",
      "source": [
        "to_be_enc_labels_train = labels_train.reshape(-1, 1)\n",
        "encode_labels_train = enco_labels_train.fit(to_be_enc_labels_train)\n",
        "transformed_labels_train = encode_labels_train.transform(to_be_enc_labels_train)\n",
        "ohe_labels_train = pd.DataFrame(transformed_labels_train, columns=encode_labels_train.get_feature_names())\n",
        "\n",
        "len(ohe_labels_train)"
      ],
      "metadata": {
        "id": "rctzSoL-NBVc"
      },
      "execution_count": null,
      "outputs": []
    },
    {
      "cell_type": "code",
      "source": [
        "X = features_train\n",
        "y = labels_train\n",
        "X_test = features_test\n",
        "y_test = labels_test"
      ],
      "metadata": {
        "id": "2rzhoxZ0MH_t"
      },
      "execution_count": null,
      "outputs": []
    },
    {
      "cell_type": "code",
      "source": [
        "#X_train, X_test, y_train, y_test = model_selection.train_test_split(X, y, test_size= 0.2, random_state = 1)\n",
        "\n",
        "#print('X_train dimension= ', X_train.shape)\n",
        "#print('X_test dimension= ', X_test.shape)\n",
        "#print('y_train dimension= ', y_train.shape)\n",
        "#print('y_train dimension= ', y_test.shape)"
      ],
      "metadata": {
        "id": "ym-vwup3MGWE"
      },
      "execution_count": null,
      "outputs": []
    },
    {
      "cell_type": "code",
      "source": [
        "lm = linear_model.LogisticRegression(multi_class='ovr', solver='liblinear')\n",
        "lm.fit(X, y)"
      ],
      "metadata": {
        "id": "hnnrzkeRMKUU"
      },
      "execution_count": null,
      "outputs": []
    },
    {
      "cell_type": "code",
      "source": [
        "lm.score(X_test, y_test)"
      ],
      "metadata": {
        "id": "jf-plPecT7-E"
      },
      "execution_count": null,
      "outputs": []
    },
    {
      "cell_type": "code",
      "source": [
        "lm.predict(X_test)"
      ],
      "metadata": {
        "id": "WFjN50bkMI7i"
      },
      "execution_count": null,
      "outputs": []
    },
    {
      "cell_type": "code",
      "source": [
        "y_true = y_test\n",
        "y_pred = lm.predict(X_test)\n",
        "list_events = final_test['next_event'].unique()\n",
        "cm = confusion_matrix(y_true, y_pred)\n",
        "cm_df = pd.DataFrame(cm,\n",
        "                     index = list_events,\n",
        "                     columns = list_events)\n",
        "import matplotlib.pyplot as plot\n",
        "import seaborn as sb\n",
        "plot.figure(figsize=(15,14))\n",
        "sb.heatmap(cm_df, annot=True)\n",
        "plot.title('Confusion Matrix')\n",
        "plot.ylabel('Actal Values')\n",
        "plot.xlabel('Predicted Values')\n",
        "plot.show()"
      ],
      "metadata": {
        "id": "bFS6QfLFM5Nw"
      },
      "execution_count": null,
      "outputs": []
    }
  ]
}