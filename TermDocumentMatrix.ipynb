{
  "nbformat": 4,
  "nbformat_minor": 0,
  "metadata": {
    "colab": {
      "provenance": [],
      "include_colab_link": true
    },
    "kernelspec": {
      "name": "python3",
      "display_name": "Python 3"
    },
    "language_info": {
      "name": "python"
    }
  },
  "cells": [
    {
      "cell_type": "markdown",
      "metadata": {
        "id": "view-in-github",
        "colab_type": "text"
      },
      "source": [
        "<a href=\"https://colab.research.google.com/github/brokentwigs/Colab-Analysis/blob/main/TermDocumentMatrix.ipynb\" target=\"_parent\"><img src=\"https://colab.research.google.com/assets/colab-badge.svg\" alt=\"Open In Colab\"/></a>"
      ]
    },
    {
      "cell_type": "code",
      "execution_count": null,
      "metadata": {
        "id": "eayVuBSX3pn8"
      },
      "outputs": [],
      "source": [
        "import pandas as pd\n",
        "from sklearn.feature_extraction.text import CountVectorizer\n",
        "from pylab import rcParams\n",
        "rcParams['figure.figsize'] = 7,5\n",
        "from matplotlib.pyplot import figure\n",
        "import matplotlib.pyplot as plt"
      ]
    },
    {
      "cell_type": "code",
      "source": [
        "s1 = \"computer science and math is fun school is what makes it extremely boring and irritating\"\n",
        "s2 = \"My school is looking for a computer science and math high school teacher to hire. Great kids and best school in Cleveland, fun and passionate staff, a principal that supports and truly cares, too salary.\"\n",
        "s3 = \"there’s only two hard problems in computer science, naming things and deciding what to do after you burn out\"\n",
        "s4 = \"Americans barely understand math, history, science, philosophy, religion, economics, art, civics, music, and finance. \"\n",
        "s5 = \"Anyone else feeling defeated, confused & unable to grasp why science & math seem so difficult for people to follow?\"\n",
        "s6 = \"I hope the field of computer science never loses its sense of fun.\"\n",
        "s7 = \"Social science is hard because stochasticity and HAVE YOU MET PEOPLE?\"\n",
        "s8 = \"Cooking is only fun when 1. nobody tells you to do it 2. nobody is in the kitchen with you\"\n",
        "s9 = \"dogs are mad funny like you was just sleeping why tf are you following me to the kitchen lmfaoo\"\n",
        "s10 = \"BITCHES BE LIKE I HATE SCHOOL THEN GETS ADMITTED TO A MASTERS PROGRAM FOR DATA SCIENCE\""
      ],
      "metadata": {
        "id": "eCRODEOr3_Li"
      },
      "execution_count": null,
      "outputs": []
    },
    {
      "cell_type": "code",
      "source": [
        "docs = [s1, s2, s3,s4,s5,s6,s7,s8,s9,s10]\n",
        "print(docs)"
      ],
      "metadata": {
        "colab": {
          "base_uri": "https://localhost:8080/"
        },
        "id": "G7JJsPNV3-rK",
        "outputId": "36ef5327-9387-43dc-f8c9-d3ad32ab9f15"
      },
      "execution_count": null,
      "outputs": [
        {
          "output_type": "stream",
          "name": "stdout",
          "text": [
            "['computer science and math is fun school is what makes it extremely boring and irritating', 'My school is looking for a computer science and math high school teacher to hire. Great kids and best school in Cleveland, fun and passionate staff, a principal that supports and truly cares, too salary.', 'there’s only two hard problems in computer science, naming things and deciding what to do after you burn out', 'Americans barely understand math, history, science, philosophy, religion, economics, art, civics, music, and finance. ', 'Anyone else feeling defeated, confused & unable to grasp why science & math seem so difficult for people to follow?', 'I hope the field of computer science never loses its sense of fun.', 'Social science is hard because stochasticity and HAVE YOU MET PEOPLE?', 'Cooking is only fun when 1. nobody tells you to do it 2. nobody is in the kitchen with you', 'dogs are mad funny like you was just sleeping why tf are you following me to the kitchen lmfaoo', 'BITCHES BE LIKE I HATE SCHOOL THEN GETS ADMITTED TO A MASTERS PROGRAM FOR DATA SCIENCE']\n"
          ]
        }
      ]
    },
    {
      "cell_type": "code",
      "source": [
        "vec = CountVectorizer()\n",
        "X = vec.fit_transform(docs)"
      ],
      "metadata": {
        "id": "jItf_sUA3t6Y"
      },
      "execution_count": null,
      "outputs": []
    },
    {
      "cell_type": "code",
      "source": [
        "len(X.toarray())"
      ],
      "metadata": {
        "colab": {
          "base_uri": "https://localhost:8080/"
        },
        "id": "q587jFtq-uHW",
        "outputId": "19a6444a-dae5-4151-c927-fca784a522a2"
      },
      "execution_count": null,
      "outputs": [
        {
          "output_type": "execute_result",
          "data": {
            "text/plain": [
              "10"
            ]
          },
          "metadata": {},
          "execution_count": 6
        }
      ]
    },
    {
      "cell_type": "code",
      "source": [
        "df = pd.DataFrame(X.toarray(), columns=vec.get_feature_names())\n"
      ],
      "metadata": {
        "colab": {
          "base_uri": "https://localhost:8080/"
        },
        "id": "bYysyvw94DKw",
        "outputId": "81cff0a5-2489-449a-af1b-fa86684189d5"
      },
      "execution_count": null,
      "outputs": [
        {
          "output_type": "stream",
          "name": "stderr",
          "text": [
            "/usr/local/lib/python3.7/dist-packages/sklearn/utils/deprecation.py:87: FutureWarning: Function get_feature_names is deprecated; get_feature_names is deprecated in 1.0 and will be removed in 1.2. Please use get_feature_names_out instead.\n",
            "  warnings.warn(msg, category=FutureWarning)\n"
          ]
        }
      ]
    },
    {
      "cell_type": "code",
      "source": [
        "df_limit = df[['and',\n",
        "'are',\n",
        "'computer',\n",
        "'is',\n",
        "'science',\n",
        "'school',\n",
        "'to',\n",
        "'kitchen',\n",
        "'admitted',\n",
        "'understand'\n",
        "]]\n",
        "df_limit"
      ],
      "metadata": {
        "colab": {
          "base_uri": "https://localhost:8080/",
          "height": 363
        },
        "id": "pkP-4sGQ_viS",
        "outputId": "f1c55b49-3ac5-4997-dfd8-813173df7441"
      },
      "execution_count": null,
      "outputs": [
        {
          "output_type": "execute_result",
          "data": {
            "text/plain": [
              "   and  are  computer  is  science  school  to  kitchen  admitted  understand\n",
              "0    2    0         1   2        1       1   0        0         0           0\n",
              "1    4    0         1   1        1       3   1        0         0           0\n",
              "2    1    0         1   0        1       0   1        0         0           0\n",
              "3    1    0         0   0        1       0   0        0         0           1\n",
              "4    0    0         0   0        1       0   2        0         0           0\n",
              "5    0    0         1   0        1       0   0        0         0           0\n",
              "6    1    0         0   1        1       0   0        0         0           0\n",
              "7    0    0         0   2        0       0   1        1         0           0\n",
              "8    0    2         0   0        0       0   1        1         0           0\n",
              "9    0    0         0   0        1       1   1        0         1           0"
            ],
            "text/html": [
              "\n",
              "  <div id=\"df-69d1b40a-91a8-43bf-87f0-0cb5c19eb61e\">\n",
              "    <div class=\"colab-df-container\">\n",
              "      <div>\n",
              "<style scoped>\n",
              "    .dataframe tbody tr th:only-of-type {\n",
              "        vertical-align: middle;\n",
              "    }\n",
              "\n",
              "    .dataframe tbody tr th {\n",
              "        vertical-align: top;\n",
              "    }\n",
              "\n",
              "    .dataframe thead th {\n",
              "        text-align: right;\n",
              "    }\n",
              "</style>\n",
              "<table border=\"1\" class=\"dataframe\">\n",
              "  <thead>\n",
              "    <tr style=\"text-align: right;\">\n",
              "      <th></th>\n",
              "      <th>and</th>\n",
              "      <th>are</th>\n",
              "      <th>computer</th>\n",
              "      <th>is</th>\n",
              "      <th>science</th>\n",
              "      <th>school</th>\n",
              "      <th>to</th>\n",
              "      <th>kitchen</th>\n",
              "      <th>admitted</th>\n",
              "      <th>understand</th>\n",
              "    </tr>\n",
              "  </thead>\n",
              "  <tbody>\n",
              "    <tr>\n",
              "      <th>0</th>\n",
              "      <td>2</td>\n",
              "      <td>0</td>\n",
              "      <td>1</td>\n",
              "      <td>2</td>\n",
              "      <td>1</td>\n",
              "      <td>1</td>\n",
              "      <td>0</td>\n",
              "      <td>0</td>\n",
              "      <td>0</td>\n",
              "      <td>0</td>\n",
              "    </tr>\n",
              "    <tr>\n",
              "      <th>1</th>\n",
              "      <td>4</td>\n",
              "      <td>0</td>\n",
              "      <td>1</td>\n",
              "      <td>1</td>\n",
              "      <td>1</td>\n",
              "      <td>3</td>\n",
              "      <td>1</td>\n",
              "      <td>0</td>\n",
              "      <td>0</td>\n",
              "      <td>0</td>\n",
              "    </tr>\n",
              "    <tr>\n",
              "      <th>2</th>\n",
              "      <td>1</td>\n",
              "      <td>0</td>\n",
              "      <td>1</td>\n",
              "      <td>0</td>\n",
              "      <td>1</td>\n",
              "      <td>0</td>\n",
              "      <td>1</td>\n",
              "      <td>0</td>\n",
              "      <td>0</td>\n",
              "      <td>0</td>\n",
              "    </tr>\n",
              "    <tr>\n",
              "      <th>3</th>\n",
              "      <td>1</td>\n",
              "      <td>0</td>\n",
              "      <td>0</td>\n",
              "      <td>0</td>\n",
              "      <td>1</td>\n",
              "      <td>0</td>\n",
              "      <td>0</td>\n",
              "      <td>0</td>\n",
              "      <td>0</td>\n",
              "      <td>1</td>\n",
              "    </tr>\n",
              "    <tr>\n",
              "      <th>4</th>\n",
              "      <td>0</td>\n",
              "      <td>0</td>\n",
              "      <td>0</td>\n",
              "      <td>0</td>\n",
              "      <td>1</td>\n",
              "      <td>0</td>\n",
              "      <td>2</td>\n",
              "      <td>0</td>\n",
              "      <td>0</td>\n",
              "      <td>0</td>\n",
              "    </tr>\n",
              "    <tr>\n",
              "      <th>5</th>\n",
              "      <td>0</td>\n",
              "      <td>0</td>\n",
              "      <td>1</td>\n",
              "      <td>0</td>\n",
              "      <td>1</td>\n",
              "      <td>0</td>\n",
              "      <td>0</td>\n",
              "      <td>0</td>\n",
              "      <td>0</td>\n",
              "      <td>0</td>\n",
              "    </tr>\n",
              "    <tr>\n",
              "      <th>6</th>\n",
              "      <td>1</td>\n",
              "      <td>0</td>\n",
              "      <td>0</td>\n",
              "      <td>1</td>\n",
              "      <td>1</td>\n",
              "      <td>0</td>\n",
              "      <td>0</td>\n",
              "      <td>0</td>\n",
              "      <td>0</td>\n",
              "      <td>0</td>\n",
              "    </tr>\n",
              "    <tr>\n",
              "      <th>7</th>\n",
              "      <td>0</td>\n",
              "      <td>0</td>\n",
              "      <td>0</td>\n",
              "      <td>2</td>\n",
              "      <td>0</td>\n",
              "      <td>0</td>\n",
              "      <td>1</td>\n",
              "      <td>1</td>\n",
              "      <td>0</td>\n",
              "      <td>0</td>\n",
              "    </tr>\n",
              "    <tr>\n",
              "      <th>8</th>\n",
              "      <td>0</td>\n",
              "      <td>2</td>\n",
              "      <td>0</td>\n",
              "      <td>0</td>\n",
              "      <td>0</td>\n",
              "      <td>0</td>\n",
              "      <td>1</td>\n",
              "      <td>1</td>\n",
              "      <td>0</td>\n",
              "      <td>0</td>\n",
              "    </tr>\n",
              "    <tr>\n",
              "      <th>9</th>\n",
              "      <td>0</td>\n",
              "      <td>0</td>\n",
              "      <td>0</td>\n",
              "      <td>0</td>\n",
              "      <td>1</td>\n",
              "      <td>1</td>\n",
              "      <td>1</td>\n",
              "      <td>0</td>\n",
              "      <td>1</td>\n",
              "      <td>0</td>\n",
              "    </tr>\n",
              "  </tbody>\n",
              "</table>\n",
              "</div>\n",
              "      <button class=\"colab-df-convert\" onclick=\"convertToInteractive('df-69d1b40a-91a8-43bf-87f0-0cb5c19eb61e')\"\n",
              "              title=\"Convert this dataframe to an interactive table.\"\n",
              "              style=\"display:none;\">\n",
              "        \n",
              "  <svg xmlns=\"http://www.w3.org/2000/svg\" height=\"24px\"viewBox=\"0 0 24 24\"\n",
              "       width=\"24px\">\n",
              "    <path d=\"M0 0h24v24H0V0z\" fill=\"none\"/>\n",
              "    <path d=\"M18.56 5.44l.94 2.06.94-2.06 2.06-.94-2.06-.94-.94-2.06-.94 2.06-2.06.94zm-11 1L8.5 8.5l.94-2.06 2.06-.94-2.06-.94L8.5 2.5l-.94 2.06-2.06.94zm10 10l.94 2.06.94-2.06 2.06-.94-2.06-.94-.94-2.06-.94 2.06-2.06.94z\"/><path d=\"M17.41 7.96l-1.37-1.37c-.4-.4-.92-.59-1.43-.59-.52 0-1.04.2-1.43.59L10.3 9.45l-7.72 7.72c-.78.78-.78 2.05 0 2.83L4 21.41c.39.39.9.59 1.41.59.51 0 1.02-.2 1.41-.59l7.78-7.78 2.81-2.81c.8-.78.8-2.07 0-2.86zM5.41 20L4 18.59l7.72-7.72 1.47 1.35L5.41 20z\"/>\n",
              "  </svg>\n",
              "      </button>\n",
              "      \n",
              "  <style>\n",
              "    .colab-df-container {\n",
              "      display:flex;\n",
              "      flex-wrap:wrap;\n",
              "      gap: 12px;\n",
              "    }\n",
              "\n",
              "    .colab-df-convert {\n",
              "      background-color: #E8F0FE;\n",
              "      border: none;\n",
              "      border-radius: 50%;\n",
              "      cursor: pointer;\n",
              "      display: none;\n",
              "      fill: #1967D2;\n",
              "      height: 32px;\n",
              "      padding: 0 0 0 0;\n",
              "      width: 32px;\n",
              "    }\n",
              "\n",
              "    .colab-df-convert:hover {\n",
              "      background-color: #E2EBFA;\n",
              "      box-shadow: 0px 1px 2px rgba(60, 64, 67, 0.3), 0px 1px 3px 1px rgba(60, 64, 67, 0.15);\n",
              "      fill: #174EA6;\n",
              "    }\n",
              "\n",
              "    [theme=dark] .colab-df-convert {\n",
              "      background-color: #3B4455;\n",
              "      fill: #D2E3FC;\n",
              "    }\n",
              "\n",
              "    [theme=dark] .colab-df-convert:hover {\n",
              "      background-color: #434B5C;\n",
              "      box-shadow: 0px 1px 3px 1px rgba(0, 0, 0, 0.15);\n",
              "      filter: drop-shadow(0px 1px 2px rgba(0, 0, 0, 0.3));\n",
              "      fill: #FFFFFF;\n",
              "    }\n",
              "  </style>\n",
              "\n",
              "      <script>\n",
              "        const buttonEl =\n",
              "          document.querySelector('#df-69d1b40a-91a8-43bf-87f0-0cb5c19eb61e button.colab-df-convert');\n",
              "        buttonEl.style.display =\n",
              "          google.colab.kernel.accessAllowed ? 'block' : 'none';\n",
              "\n",
              "        async function convertToInteractive(key) {\n",
              "          const element = document.querySelector('#df-69d1b40a-91a8-43bf-87f0-0cb5c19eb61e');\n",
              "          const dataTable =\n",
              "            await google.colab.kernel.invokeFunction('convertToInteractive',\n",
              "                                                     [key], {});\n",
              "          if (!dataTable) return;\n",
              "\n",
              "          const docLinkHtml = 'Like what you see? Visit the ' +\n",
              "            '<a target=\"_blank\" href=https://colab.research.google.com/notebooks/data_table.ipynb>data table notebook</a>'\n",
              "            + ' to learn more about interactive tables.';\n",
              "          element.innerHTML = '';\n",
              "          dataTable['output_type'] = 'display_data';\n",
              "          await google.colab.output.renderOutput(dataTable, element);\n",
              "          const docLink = document.createElement('div');\n",
              "          docLink.innerHTML = docLinkHtml;\n",
              "          element.appendChild(docLink);\n",
              "        }\n",
              "      </script>\n",
              "    </div>\n",
              "  </div>\n",
              "  "
            ]
          },
          "metadata": {},
          "execution_count": 8
        }
      ]
    },
    {
      "cell_type": "code",
      "source": [
        "tweetMatrix = df_limit.to_numpy().transpose()"
      ],
      "metadata": {
        "id": "i8N-_0hLIuUl"
      },
      "execution_count": null,
      "outputs": []
    },
    {
      "cell_type": "code",
      "source": [
        "#compute SVD\n",
        "import numpy as np\n",
        "\n",
        "u, s, vh = np.linalg.svd(tweetMatrix)\n",
        "\n",
        "df_coordinates = pd.DataFrame(columns=['cx','cy','dx','dy'])\n",
        "u1 = []\n",
        "u2 = []\n",
        "v1 = []\n",
        "v2 = []\n",
        "for j in range(10):\n",
        "  u1.append(np.dot(np.absolute(u[0]).transpose(), np.eye(1,10,j)[0]))\n",
        "  u2.append(np.dot(u[1].transpose(), np.eye(1,10,j)[0]))\n",
        "  v1.append(np.dot(np.absolute(vh[0]).transpose(), np.eye(1,10,j)[0]))\n",
        "  v2.append(np.dot(vh[1].transpose(), np.eye(1,10,j)[0]))\n",
        "\n",
        "df_coordinates['cx'] = u1\n",
        "df_coordinates['cy'] = u2\n",
        "df_coordinates['dx'] = v1\n",
        "df_coordinates['dy'] = v2\n",
        "\n",
        "df_coordinates\n"
      ],
      "metadata": {
        "colab": {
          "base_uri": "https://localhost:8080/",
          "height": 363
        },
        "id": "WTaVfRgqJOIb",
        "outputId": "d9456c1f-c6fc-4a20-9aaf-c97914a2d6b5"
      },
      "execution_count": null,
      "outputs": [
        {
          "output_type": "execute_result",
          "data": {
            "text/plain": [
              "         cx        cy        dx        dy\n",
              "0  0.692685 -0.013031  0.455155 -0.123182\n",
              "1  0.320082  0.366075  0.782495 -0.233354\n",
              "2  0.055672  0.036115  0.222936  0.201613\n",
              "3  0.171262  0.538552  0.156244 -0.031425\n",
              "4  0.244297  0.572596  0.119906  0.552047\n",
              "5  0.226796 -0.021924  0.083597  0.064810\n",
              "6  0.335424  0.296403  0.201455  0.007311\n",
              "7  0.139336 -0.274881  0.137004  0.410394\n",
              "8  0.371041 -0.101417  0.043466  0.573148\n",
              "9  0.067764 -0.269126  0.154314  0.287759"
            ],
            "text/html": [
              "\n",
              "  <div id=\"df-48f9b4db-5f80-405b-9c76-bfc62b203b40\">\n",
              "    <div class=\"colab-df-container\">\n",
              "      <div>\n",
              "<style scoped>\n",
              "    .dataframe tbody tr th:only-of-type {\n",
              "        vertical-align: middle;\n",
              "    }\n",
              "\n",
              "    .dataframe tbody tr th {\n",
              "        vertical-align: top;\n",
              "    }\n",
              "\n",
              "    .dataframe thead th {\n",
              "        text-align: right;\n",
              "    }\n",
              "</style>\n",
              "<table border=\"1\" class=\"dataframe\">\n",
              "  <thead>\n",
              "    <tr style=\"text-align: right;\">\n",
              "      <th></th>\n",
              "      <th>cx</th>\n",
              "      <th>cy</th>\n",
              "      <th>dx</th>\n",
              "      <th>dy</th>\n",
              "    </tr>\n",
              "  </thead>\n",
              "  <tbody>\n",
              "    <tr>\n",
              "      <th>0</th>\n",
              "      <td>0.692685</td>\n",
              "      <td>-0.013031</td>\n",
              "      <td>0.455155</td>\n",
              "      <td>-0.123182</td>\n",
              "    </tr>\n",
              "    <tr>\n",
              "      <th>1</th>\n",
              "      <td>0.320082</td>\n",
              "      <td>0.366075</td>\n",
              "      <td>0.782495</td>\n",
              "      <td>-0.233354</td>\n",
              "    </tr>\n",
              "    <tr>\n",
              "      <th>2</th>\n",
              "      <td>0.055672</td>\n",
              "      <td>0.036115</td>\n",
              "      <td>0.222936</td>\n",
              "      <td>0.201613</td>\n",
              "    </tr>\n",
              "    <tr>\n",
              "      <th>3</th>\n",
              "      <td>0.171262</td>\n",
              "      <td>0.538552</td>\n",
              "      <td>0.156244</td>\n",
              "      <td>-0.031425</td>\n",
              "    </tr>\n",
              "    <tr>\n",
              "      <th>4</th>\n",
              "      <td>0.244297</td>\n",
              "      <td>0.572596</td>\n",
              "      <td>0.119906</td>\n",
              "      <td>0.552047</td>\n",
              "    </tr>\n",
              "    <tr>\n",
              "      <th>5</th>\n",
              "      <td>0.226796</td>\n",
              "      <td>-0.021924</td>\n",
              "      <td>0.083597</td>\n",
              "      <td>0.064810</td>\n",
              "    </tr>\n",
              "    <tr>\n",
              "      <th>6</th>\n",
              "      <td>0.335424</td>\n",
              "      <td>0.296403</td>\n",
              "      <td>0.201455</td>\n",
              "      <td>0.007311</td>\n",
              "    </tr>\n",
              "    <tr>\n",
              "      <th>7</th>\n",
              "      <td>0.139336</td>\n",
              "      <td>-0.274881</td>\n",
              "      <td>0.137004</td>\n",
              "      <td>0.410394</td>\n",
              "    </tr>\n",
              "    <tr>\n",
              "      <th>8</th>\n",
              "      <td>0.371041</td>\n",
              "      <td>-0.101417</td>\n",
              "      <td>0.043466</td>\n",
              "      <td>0.573148</td>\n",
              "    </tr>\n",
              "    <tr>\n",
              "      <th>9</th>\n",
              "      <td>0.067764</td>\n",
              "      <td>-0.269126</td>\n",
              "      <td>0.154314</td>\n",
              "      <td>0.287759</td>\n",
              "    </tr>\n",
              "  </tbody>\n",
              "</table>\n",
              "</div>\n",
              "      <button class=\"colab-df-convert\" onclick=\"convertToInteractive('df-48f9b4db-5f80-405b-9c76-bfc62b203b40')\"\n",
              "              title=\"Convert this dataframe to an interactive table.\"\n",
              "              style=\"display:none;\">\n",
              "        \n",
              "  <svg xmlns=\"http://www.w3.org/2000/svg\" height=\"24px\"viewBox=\"0 0 24 24\"\n",
              "       width=\"24px\">\n",
              "    <path d=\"M0 0h24v24H0V0z\" fill=\"none\"/>\n",
              "    <path d=\"M18.56 5.44l.94 2.06.94-2.06 2.06-.94-2.06-.94-.94-2.06-.94 2.06-2.06.94zm-11 1L8.5 8.5l.94-2.06 2.06-.94-2.06-.94L8.5 2.5l-.94 2.06-2.06.94zm10 10l.94 2.06.94-2.06 2.06-.94-2.06-.94-.94-2.06-.94 2.06-2.06.94z\"/><path d=\"M17.41 7.96l-1.37-1.37c-.4-.4-.92-.59-1.43-.59-.52 0-1.04.2-1.43.59L10.3 9.45l-7.72 7.72c-.78.78-.78 2.05 0 2.83L4 21.41c.39.39.9.59 1.41.59.51 0 1.02-.2 1.41-.59l7.78-7.78 2.81-2.81c.8-.78.8-2.07 0-2.86zM5.41 20L4 18.59l7.72-7.72 1.47 1.35L5.41 20z\"/>\n",
              "  </svg>\n",
              "      </button>\n",
              "      \n",
              "  <style>\n",
              "    .colab-df-container {\n",
              "      display:flex;\n",
              "      flex-wrap:wrap;\n",
              "      gap: 12px;\n",
              "    }\n",
              "\n",
              "    .colab-df-convert {\n",
              "      background-color: #E8F0FE;\n",
              "      border: none;\n",
              "      border-radius: 50%;\n",
              "      cursor: pointer;\n",
              "      display: none;\n",
              "      fill: #1967D2;\n",
              "      height: 32px;\n",
              "      padding: 0 0 0 0;\n",
              "      width: 32px;\n",
              "    }\n",
              "\n",
              "    .colab-df-convert:hover {\n",
              "      background-color: #E2EBFA;\n",
              "      box-shadow: 0px 1px 2px rgba(60, 64, 67, 0.3), 0px 1px 3px 1px rgba(60, 64, 67, 0.15);\n",
              "      fill: #174EA6;\n",
              "    }\n",
              "\n",
              "    [theme=dark] .colab-df-convert {\n",
              "      background-color: #3B4455;\n",
              "      fill: #D2E3FC;\n",
              "    }\n",
              "\n",
              "    [theme=dark] .colab-df-convert:hover {\n",
              "      background-color: #434B5C;\n",
              "      box-shadow: 0px 1px 3px 1px rgba(0, 0, 0, 0.15);\n",
              "      filter: drop-shadow(0px 1px 2px rgba(0, 0, 0, 0.3));\n",
              "      fill: #FFFFFF;\n",
              "    }\n",
              "  </style>\n",
              "\n",
              "      <script>\n",
              "        const buttonEl =\n",
              "          document.querySelector('#df-48f9b4db-5f80-405b-9c76-bfc62b203b40 button.colab-df-convert');\n",
              "        buttonEl.style.display =\n",
              "          google.colab.kernel.accessAllowed ? 'block' : 'none';\n",
              "\n",
              "        async function convertToInteractive(key) {\n",
              "          const element = document.querySelector('#df-48f9b4db-5f80-405b-9c76-bfc62b203b40');\n",
              "          const dataTable =\n",
              "            await google.colab.kernel.invokeFunction('convertToInteractive',\n",
              "                                                     [key], {});\n",
              "          if (!dataTable) return;\n",
              "\n",
              "          const docLinkHtml = 'Like what you see? Visit the ' +\n",
              "            '<a target=\"_blank\" href=https://colab.research.google.com/notebooks/data_table.ipynb>data table notebook</a>'\n",
              "            + ' to learn more about interactive tables.';\n",
              "          element.innerHTML = '';\n",
              "          dataTable['output_type'] = 'display_data';\n",
              "          await google.colab.output.renderOutput(dataTable, element);\n",
              "          const docLink = document.createElement('div');\n",
              "          docLink.innerHTML = docLinkHtml;\n",
              "          element.appendChild(docLink);\n",
              "        }\n",
              "      </script>\n",
              "    </div>\n",
              "  </div>\n",
              "  "
            ]
          },
          "metadata": {},
          "execution_count": 10
        }
      ]
    },
    {
      "cell_type": "code",
      "source": [
        "cx = df_coordinates['cx']\n",
        "cy = df_coordinates['cy']\n",
        "dx = df_coordinates['dx']\n",
        "dy = df_coordinates['dy']"
      ],
      "metadata": {
        "id": "ajWnS54Ws7FR"
      },
      "execution_count": null,
      "outputs": []
    },
    {
      "cell_type": "code",
      "source": [
        "keywords = ['and',\n",
        "'are',\n",
        "'computer',\n",
        "'is',\n",
        "'science',\n",
        "'school',\n",
        "'to',\n",
        "'kitchen',\n",
        "'admitted',\n",
        "'understand'\n",
        "]"
      ],
      "metadata": {
        "id": "5uwZSI_giKDG"
      },
      "execution_count": null,
      "outputs": []
    },
    {
      "cell_type": "code",
      "source": [
        "c_plot = df_coordinates.plot(kind='scatter', x='cx', y='cy')\n",
        "c_plot.axhline(y=0, color='black', linestyle='-')\n",
        "c_plot.set_ylim(bottom=-0.6)\n",
        "c_plot.set_xlabel('u1, u2')\n",
        "c_plot.set_ylabel('')\n",
        "for i in range(10):\n",
        "    c_plot.annotate('s'+str(i), (cx[i], cy[i]-0.02))\n",
        "#c_plot.annotate(\"Point 1\", (6.422466e-01, -9.503377e-03))\n",
        "\n",
        "d_plot = df_coordinates.plot(kind='scatter', x='dx', y='dy')\n",
        "d_plot.axhline(y=0, color='black', linestyle='-')\n",
        "d_plot.set_ylim(bottom=-0.4)\n",
        "d_plot.set_xlabel('v1, v2')\n",
        "d_plot.set_ylabel('')\n",
        "for i, txt in enumerate(keywords):\n",
        "    d_plot.annotate(txt, (dx[i], dy[i]-0.04))"
      ],
      "metadata": {
        "colab": {
          "base_uri": "https://localhost:8080/",
          "height": 651
        },
        "id": "1dAyQPE2SVMU",
        "outputId": "71b32305-0e80-4f63-9f92-77867207fef7"
      },
      "execution_count": null,
      "outputs": [
        {
          "output_type": "display_data",
          "data": {
            "text/plain": [
              "<Figure size 504x360 with 1 Axes>"
            ],
            "image/png": "[encoded data removed]"
          },
          "metadata": {
            "needs_background": "light"
          }
        },
        {
          "output_type": "display_data",
          "data": {
            "text/plain": [
              "<Figure size 504x360 with 1 Axes>"
            ],
            "image/png": "[encoded data removed]"
          },
          "metadata": {
            "needs_background": "light"
          }
        }
      ]
    }
  ]
}