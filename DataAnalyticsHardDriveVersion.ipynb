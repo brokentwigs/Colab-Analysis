{
  "cells": [
    {
      "cell_type": "markdown",
      "metadata": {
        "id": "view-in-github",
        "colab_type": "text"
      },
      "source": [
        "<a href=\"https://colab.research.google.com/github/brokentwigs/Colab-Analysis/blob/main/DataAnalyticsHardDriveVersion.ipynb\" target=\"_parent\"><img src=\"https://colab.research.google.com/assets/colab-badge.svg\" alt=\"Open In Colab\"/></a>"
      ]
    },
    {
      "cell_type": "code",
      "execution_count": null,
      "metadata": {
        "id": "A4pOKIVjxgdk",
        "outputId": "f9871237-ea2f-4a94-aefd-82ae8d78aa04"
      },
      "outputs": [
        {
          "name": "stderr",
          "output_type": "stream",
          "text": [
            "C:\\Users\\praya\\anaconda3\\lib\\site-packages\\tslearn\\clustering\\kmeans.py:17: UserWarning: Scikit-learn <0.24 will be deprecated in a future release of tslearn\n",
            "  \"Scikit-learn <0.24 will be deprecated in a \"\n"
          ]
        }
      ],
      "source": [
        "import numpy as np\n",
        "import pandas as pd\n",
        "import glob\n",
        "# next command ensures that plots appear inside the notebook\n",
        "%matplotlib inline\n",
        "import matplotlib as mpl\n",
        "import matplotlib.pyplot as plt\n",
        "import seaborn as sns # also improves the look of plots (density plots and histograms)\n",
        "sns.set()\n",
        "plt.rcParams['figure.figsize'] = 15, 5 # default hor./vert. size of plots, in inches\n",
        "plt.rcParams['lines.markeredgewidth'] = 1 # to fix issue with seaborn box plots; needed after import seaborn\n",
        "\n",
        "from sklearn.linear_model import LinearRegression # for linear regression\n",
        "from sklearn.cluster import KMeans # for clustering\n",
        "from sklearn.tree import DecisionTreeClassifier # for decision tree mining\n",
        "from sklearn.metrics import accuracy_score, confusion_matrix, mean_squared_error, mean_absolute_error\n",
        "from sklearn.model_selection import train_test_split\n",
        "from treeviz import tree_print # to print decision tree\n",
        "from tslearn.metrics import dtw\n",
        "from tslearn.metrics import soft_dtw\n",
        "from tslearn.clustering import TimeSeriesKMeans"
      ]
    },
    {
      "cell_type": "code",
      "execution_count": null,
      "metadata": {
        "id": "WKKFIq-nxgdm",
        "outputId": "26f7a2bb-d054-4523-ce0c-767104b94292"
      },
      "outputs": [
        {
          "data": {
            "text/html": [
              "<div>\n",
              "<style scoped>\n",
              "    .dataframe tbody tr th:only-of-type {\n",
              "        vertical-align: middle;\n",
              "    }\n",
              "\n",
              "    .dataframe tbody tr th {\n",
              "        vertical-align: top;\n",
              "    }\n",
              "\n",
              "    .dataframe thead th {\n",
              "        text-align: right;\n",
              "    }\n",
              "</style>\n",
              "<table border=\"1\" class=\"dataframe\">\n",
              "  <thead>\n",
              "    <tr style=\"text-align: right;\">\n",
              "      <th></th>\n",
              "      <th>date_time</th>\n",
              "      <th>description</th>\n",
              "      <th>calories</th>\n",
              "      <th>balance</th>\n",
              "      <th>quality</th>\n",
              "    </tr>\n",
              "  </thead>\n",
              "  <tbody>\n",
              "    <tr>\n",
              "      <th>0</th>\n",
              "      <td>2014-10-01 12:58:00</td>\n",
              "      <td>Tortelliniswith cheese,salad and Kagi chocolate</td>\n",
              "      <td>770.0</td>\n",
              "      <td>Unbalance</td>\n",
              "      <td>Medium quality</td>\n",
              "    </tr>\n",
              "    <tr>\n",
              "      <th>1</th>\n",
              "      <td>2014-10-01 15:30:00</td>\n",
              "      <td>Yogourt + chocolate bar</td>\n",
              "      <td>NaN</td>\n",
              "      <td>NaN</td>\n",
              "      <td>NaN</td>\n",
              "    </tr>\n",
              "    <tr>\n",
              "      <th>2</th>\n",
              "      <td>2014-10-01 18:11:00</td>\n",
              "      <td>Champignon pizza, beet steamed, pear and grapes</td>\n",
              "      <td>926.0</td>\n",
              "      <td>Unbalance</td>\n",
              "      <td>Good quality</td>\n",
              "    </tr>\n",
              "    <tr>\n",
              "      <th>3</th>\n",
              "      <td>2014-10-01 22:00:00</td>\n",
              "      <td>Yogourt</td>\n",
              "      <td>NaN</td>\n",
              "      <td>NaN</td>\n",
              "      <td>NaN</td>\n",
              "    </tr>\n",
              "    <tr>\n",
              "      <th>4</th>\n",
              "      <td>2014-10-02 07:33:00</td>\n",
              "      <td>Toast with mermelade,croissant with chocolate,...</td>\n",
              "      <td>689.0</td>\n",
              "      <td>Balance</td>\n",
              "      <td>Medium quality</td>\n",
              "    </tr>\n",
              "    <tr>\n",
              "      <th>5</th>\n",
              "      <td>2014-10-02 09:28:00</td>\n",
              "      <td>Coffee + chocolate bar</td>\n",
              "      <td>NaN</td>\n",
              "      <td>NaN</td>\n",
              "      <td>NaN</td>\n",
              "    </tr>\n",
              "    <tr>\n",
              "      <th>6</th>\n",
              "      <td>2014-10-02 12:06:00</td>\n",
              "      <td>Pasta with meat loaf, endives, kiwi and plum</td>\n",
              "      <td>612.0</td>\n",
              "      <td>Unbalance</td>\n",
              "      <td>Good quality</td>\n",
              "    </tr>\n",
              "    <tr>\n",
              "      <th>7</th>\n",
              "      <td>2014-10-02 18:00:00</td>\n",
              "      <td>Beer tasting</td>\n",
              "      <td>NaN</td>\n",
              "      <td>NaN</td>\n",
              "      <td>NaN</td>\n",
              "    </tr>\n",
              "    <tr>\n",
              "      <th>8</th>\n",
              "      <td>2014-10-02 20:03:00</td>\n",
              "      <td>Fondue,meat,Raw beef onions and cucumber, bread</td>\n",
              "      <td>1697.0</td>\n",
              "      <td>Unbalance</td>\n",
              "      <td>Good quality</td>\n",
              "    </tr>\n",
              "    <tr>\n",
              "      <th>9</th>\n",
              "      <td>2014-10-03 08:10:00</td>\n",
              "      <td>Nutella pie, orange juice, coffee and mandarine</td>\n",
              "      <td>874.0</td>\n",
              "      <td>Unbalance</td>\n",
              "      <td>Medium quality</td>\n",
              "    </tr>\n",
              "    <tr>\n",
              "      <th>10</th>\n",
              "      <td>2014-10-03 10:10:00</td>\n",
              "      <td>Coffee + candies</td>\n",
              "      <td>NaN</td>\n",
              "      <td>NaN</td>\n",
              "      <td>NaN</td>\n",
              "    </tr>\n",
              "    <tr>\n",
              "      <th>11</th>\n",
              "      <td>2014-10-03 12:03:00</td>\n",
              "      <td>Duchess potaotes, ham,brocoli,coliflower and o...</td>\n",
              "      <td>364.0</td>\n",
              "      <td>Balance</td>\n",
              "      <td>Good quality</td>\n",
              "    </tr>\n",
              "    <tr>\n",
              "      <th>12</th>\n",
              "      <td>2014-10-03 16:00:00</td>\n",
              "      <td>Cake</td>\n",
              "      <td>NaN</td>\n",
              "      <td>NaN</td>\n",
              "      <td>NaN</td>\n",
              "    </tr>\n",
              "    <tr>\n",
              "      <th>13</th>\n",
              "      <td>2014-10-03 18:20:00</td>\n",
              "      <td>Chicken breast, gnocchis, tomatoes and yogurt ...</td>\n",
              "      <td>717.0</td>\n",
              "      <td>Unbalance</td>\n",
              "      <td>Good quality</td>\n",
              "    </tr>\n",
              "    <tr>\n",
              "      <th>14</th>\n",
              "      <td>2014-10-04 07:57:00</td>\n",
              "      <td>Chocolate milk, coffee with milk and plum</td>\n",
              "      <td>534.0</td>\n",
              "      <td>Unbalance</td>\n",
              "      <td>Medium quality</td>\n",
              "    </tr>\n",
              "    <tr>\n",
              "      <th>15</th>\n",
              "      <td>2014-10-04 07:59:00</td>\n",
              "      <td>Chocolate milk, coffee with milk and plum</td>\n",
              "      <td>534.0</td>\n",
              "      <td>Unbalance</td>\n",
              "      <td>Medium quality</td>\n",
              "    </tr>\n",
              "    <tr>\n",
              "      <th>16</th>\n",
              "      <td>2014-10-04 12:03:00</td>\n",
              "      <td>Pizza with endives and banana</td>\n",
              "      <td>406.0</td>\n",
              "      <td>Balance</td>\n",
              "      <td>Good quality</td>\n",
              "    </tr>\n",
              "    <tr>\n",
              "      <th>17</th>\n",
              "      <td>2014-10-04 12:08:00</td>\n",
              "      <td>Pizza with endives and banana</td>\n",
              "      <td>406.0</td>\n",
              "      <td>Balance</td>\n",
              "      <td>Good quality</td>\n",
              "    </tr>\n",
              "    <tr>\n",
              "      <th>18</th>\n",
              "      <td>2014-10-04 12:08:00</td>\n",
              "      <td>Pizza with endives and banana</td>\n",
              "      <td>406.0</td>\n",
              "      <td>Balance</td>\n",
              "      <td>Good quality</td>\n",
              "    </tr>\n",
              "  </tbody>\n",
              "</table>\n",
              "</div>"
            ],
            "text/plain": [
              "             date_time                                        description  \\\n",
              "0  2014-10-01 12:58:00    Tortelliniswith cheese,salad and Kagi chocolate   \n",
              "1  2014-10-01 15:30:00                            Yogourt + chocolate bar   \n",
              "2  2014-10-01 18:11:00    Champignon pizza, beet steamed, pear and grapes   \n",
              "3  2014-10-01 22:00:00                                            Yogourt   \n",
              "4  2014-10-02 07:33:00  Toast with mermelade,croissant with chocolate,...   \n",
              "5  2014-10-02 09:28:00                             Coffee + chocolate bar   \n",
              "6  2014-10-02 12:06:00       Pasta with meat loaf, endives, kiwi and plum   \n",
              "7  2014-10-02 18:00:00                                       Beer tasting   \n",
              "8  2014-10-02 20:03:00    Fondue,meat,Raw beef onions and cucumber, bread   \n",
              "9  2014-10-03 08:10:00    Nutella pie, orange juice, coffee and mandarine   \n",
              "10 2014-10-03 10:10:00                                   Coffee + candies   \n",
              "11 2014-10-03 12:03:00  Duchess potaotes, ham,brocoli,coliflower and o...   \n",
              "12 2014-10-03 16:00:00                                               Cake   \n",
              "13 2014-10-03 18:20:00  Chicken breast, gnocchis, tomatoes and yogurt ...   \n",
              "14 2014-10-04 07:57:00          Chocolate milk, coffee with milk and plum   \n",
              "15 2014-10-04 07:59:00          Chocolate milk, coffee with milk and plum   \n",
              "16 2014-10-04 12:03:00                      Pizza with endives and banana   \n",
              "17 2014-10-04 12:08:00                      Pizza with endives and banana   \n",
              "18 2014-10-04 12:08:00                      Pizza with endives and banana   \n",
              "\n",
              "    calories    balance         quality  \n",
              "0      770.0  Unbalance  Medium quality  \n",
              "1        NaN        NaN             NaN  \n",
              "2      926.0  Unbalance    Good quality  \n",
              "3        NaN        NaN             NaN  \n",
              "4      689.0    Balance  Medium quality  \n",
              "5        NaN        NaN             NaN  \n",
              "6      612.0  Unbalance    Good quality  \n",
              "7        NaN        NaN             NaN  \n",
              "8     1697.0  Unbalance    Good quality  \n",
              "9      874.0  Unbalance  Medium quality  \n",
              "10       NaN        NaN             NaN  \n",
              "11     364.0    Balance    Good quality  \n",
              "12       NaN        NaN             NaN  \n",
              "13     717.0  Unbalance    Good quality  \n",
              "14     534.0  Unbalance  Medium quality  \n",
              "15     534.0  Unbalance  Medium quality  \n",
              "16     406.0    Balance    Good quality  \n",
              "17     406.0    Balance    Good quality  \n",
              "18     406.0    Balance    Good quality  "
            ]
          },
          "execution_count": 20,
          "metadata": {},
          "output_type": "execute_result"
        }
      ],
      "source": [
        "df_healthy_001_food = pd.read_csv('healthy_subset/001/food.csv',parse_dates=[['date', 'time']]).drop(['picture'], axis = 1)\n",
        "df_healthy_002_food = pd.read_csv('healthy_subset/002/food.csv',parse_dates=[['date', 'time']]).drop(['picture'], axis = 1).dropna()\n",
        "df_healthy_003_food = pd.read_csv('healthy_subset/003/food.csv',parse_dates=[['date', 'time']]).drop(['picture'], axis = 1).dropna()\n",
        "df_healthy_004_food = pd.read_csv('healthy_subset/004/food.csv',parse_dates=[['date', 'time']]).drop(['picture'], axis = 1).dropna()\n",
        "\n",
        "df_healthy_001_ecg = pd.read_csv('healthy_subset/001/sensor_data/2014_10_01-12_50_01/2014_10_01-12_50_01_ECG.csv')\n",
        "\n",
        "df_healthy_001_food"
      ]
    },
    {
      "cell_type": "code",
      "execution_count": null,
      "metadata": {
        "scrolled": true,
        "id": "N9WyR9f0xgdn"
      },
      "outputs": [],
      "source": [
        "df_ecg_001_day_1 = pd.read_csv('healthy_subset/002/sensor_data/2014_10_01-06_17_49/2014_10_01-06_17_49_ECG.csv')\n",
        "\n",
        "df_ecg_001_day_1['Time'] = df_ecg_001_day_1['Time'].str.slice(0, -4)\n",
        "df_ecg_001_day_1['Time'] = (pd.to_datetime(df_ecg_001_day_1['Time'])).dt.strftime('%Y-%d-%m %H:%M:%S')"
      ]
    },
    {
      "cell_type": "code",
      "execution_count": null,
      "metadata": {
        "id": "W8SuowJRxgdn"
      },
      "outputs": [],
      "source": [
        "df_ecg_002_day_1 = pd.read_csv('healthy_subset/003/sensor_data/2014_10_01-10_14_30/2014_10_01-10_14_30_ECG.csv')\n",
        "\n",
        "df_ecg_002_day_1['Time'] = df_ecg_002_day_1['Time'].str.slice(0, -4)\n",
        "df_ecg_002_day_1['Time'] = (pd.to_datetime(df_ecg_002_day_1['Time'])).dt.strftime('%Y-%d-%m %H:%M:%S')"
      ]
    },
    {
      "cell_type": "code",
      "execution_count": null,
      "metadata": {
        "id": "x1VN-_Qjxgdo",
        "outputId": "ed0604bc-658a-446d-d98a-0f1b16b96be4"
      },
      "outputs": [
        {
          "data": {
            "text/html": [
              "<div>\n",
              "<style scoped>\n",
              "    .dataframe tbody tr th:only-of-type {\n",
              "        vertical-align: middle;\n",
              "    }\n",
              "\n",
              "    .dataframe tbody tr th {\n",
              "        vertical-align: top;\n",
              "    }\n",
              "\n",
              "    .dataframe thead th {\n",
              "        text-align: right;\n",
              "    }\n",
              "</style>\n",
              "<table border=\"1\" class=\"dataframe\">\n",
              "  <thead>\n",
              "    <tr style=\"text-align: right;\">\n",
              "      <th></th>\n",
              "      <th>Time</th>\n",
              "      <th>EcgWaveform</th>\n",
              "    </tr>\n",
              "  </thead>\n",
              "  <tbody>\n",
              "    <tr>\n",
              "      <th>0</th>\n",
              "      <td>2014-10-01 12:50:01</td>\n",
              "      <td>297</td>\n",
              "    </tr>\n",
              "    <tr>\n",
              "      <th>1</th>\n",
              "      <td>2014-10-01 12:50:01</td>\n",
              "      <td>297</td>\n",
              "    </tr>\n",
              "    <tr>\n",
              "      <th>2</th>\n",
              "      <td>2014-10-01 12:50:01</td>\n",
              "      <td>297</td>\n",
              "    </tr>\n",
              "    <tr>\n",
              "      <th>3</th>\n",
              "      <td>2014-10-01 12:50:01</td>\n",
              "      <td>297</td>\n",
              "    </tr>\n",
              "    <tr>\n",
              "      <th>4</th>\n",
              "      <td>2014-10-01 12:50:01</td>\n",
              "      <td>297</td>\n",
              "    </tr>\n",
              "    <tr>\n",
              "      <th>...</th>\n",
              "      <td>...</td>\n",
              "      <td>...</td>\n",
              "    </tr>\n",
              "    <tr>\n",
              "      <th>7849995</th>\n",
              "      <td>2014-10-01 21:33:21</td>\n",
              "      <td>2015</td>\n",
              "    </tr>\n",
              "    <tr>\n",
              "      <th>7849996</th>\n",
              "      <td>2014-10-01 21:33:21</td>\n",
              "      <td>2014</td>\n",
              "    </tr>\n",
              "    <tr>\n",
              "      <th>7849997</th>\n",
              "      <td>2014-10-01 21:33:21</td>\n",
              "      <td>2014</td>\n",
              "    </tr>\n",
              "    <tr>\n",
              "      <th>7849998</th>\n",
              "      <td>2014-10-01 21:33:21</td>\n",
              "      <td>2014</td>\n",
              "    </tr>\n",
              "    <tr>\n",
              "      <th>7849999</th>\n",
              "      <td>2014-10-01 21:33:21</td>\n",
              "      <td>2014</td>\n",
              "    </tr>\n",
              "  </tbody>\n",
              "</table>\n",
              "<p>7850000 rows × 2 columns</p>\n",
              "</div>"
            ],
            "text/plain": [
              "                        Time  EcgWaveform\n",
              "0        2014-10-01 12:50:01          297\n",
              "1        2014-10-01 12:50:01          297\n",
              "2        2014-10-01 12:50:01          297\n",
              "3        2014-10-01 12:50:01          297\n",
              "4        2014-10-01 12:50:01          297\n",
              "...                      ...          ...\n",
              "7849995  2014-10-01 21:33:21         2015\n",
              "7849996  2014-10-01 21:33:21         2014\n",
              "7849997  2014-10-01 21:33:21         2014\n",
              "7849998  2014-10-01 21:33:21         2014\n",
              "7849999  2014-10-01 21:33:21         2014\n",
              "\n",
              "[7850000 rows x 2 columns]"
            ]
          },
          "execution_count": 16,
          "metadata": {},
          "output_type": "execute_result"
        }
      ],
      "source": [
        "df_ecg_001_day_1"
      ]
    },
    {
      "cell_type": "code",
      "execution_count": null,
      "metadata": {
        "id": "4eFlJ9gNxgdo"
      },
      "outputs": [],
      "source": [
        "df_ecg_001_day_1['Time'] = pd.to_datetime(df_ecg_001_day_1['Time'])\n",
        "\n",
        "df_ecg_002_day_1['Time'] = pd.to_datetime(df_ecg_002_day_1['Time'])\n",
        "\n"
      ]
    },
    {
      "cell_type": "code",
      "execution_count": null,
      "metadata": {
        "id": "O-I3EJSGxgdo"
      },
      "outputs": [],
      "source": [
        "meal_times_001_day_1 = np.intersect1d(df_ecg_001_day_1['Time'],df_healthy_001_food['date_time'])\n",
        "meal_times_002_day_1 = np.intersect1d(df_ecg_002_day_1['Time'],df_healthy_002_food['date_time'])"
      ]
    },
    {
      "cell_type": "code",
      "execution_count": null,
      "metadata": {
        "id": "Bpcex-3ixgdp"
      },
      "outputs": [],
      "source": [
        "before_lunch = meal_times_001_day_1[0] - np.timedelta64(3,'m')\n",
        "after_lunch = meal_times_001_day_1[0] + np.timedelta64(3,'m')\n",
        "lunch = df_ecg_001_day_1[(df_ecg_001_day_1['Time']>before_lunch) & (df_ecg_001_day_1['Time']<after_lunch)]\n",
        "\n",
        "\n",
        "before_lunch_2 = meal_times_002_day_1[0] - np.timedelta64(3,'m')\n",
        "after_lunch_2 = meal_times_002_day_1[0] + np.timedelta64(3,'m')\n",
        "lunch_2 = df_ecg_002_day_1[(df_ecg_002_day_1['Time']>before_lunch) & (df_ecg_002_day_1['Time']<after_lunch)]\n",
        "\n"
      ]
    },
    {
      "cell_type": "code",
      "execution_count": null,
      "metadata": {
        "id": "7SI3qdyAxgdp",
        "outputId": "a9aada64-8a97-4b51-e24e-8971730787b6"
      },
      "outputs": [
        {
          "data": {
            "text/plain": [
              "<matplotlib.axes._subplots.AxesSubplot at 0x22deedf35c8>"
            ]
          },
          "execution_count": 110,
          "metadata": {},
          "output_type": "execute_result"
        },
        {
          "data": {
            "image/png": "[encoded data removed]",
            "text/plain": [
              "<Figure size 1080x360 with 1 Axes>"
            ]
          },
          "metadata": {},
          "output_type": "display_data"
        },
        {
          "data": {
            "image/png": "[encoded data removed]",
            "text/plain": [
              "<Figure size 1080x360 with 1 Axes>"
            ]
          },
          "metadata": {},
          "output_type": "display_data"
        }
      ],
      "source": [
        "lunch.plot(x = 'Time',y='EcgWaveform')\n",
        "lunch_2.plot(x = 'Time',y='EcgWaveform')"
      ]
    },
    {
      "cell_type": "code",
      "execution_count": null,
      "metadata": {
        "id": "0LMTh7cKxgdq",
        "outputId": "883f2f17-941c-4311-f5cf-cc8cdb2d5417"
      },
      "outputs": [
        {
          "ename": "MemoryError",
          "evalue": "Unable to allocate 60.0 GiB for an array with shape (89750, 89750) and data type float64",
          "output_type": "error",
          "traceback": [
            "\u001b[1;31m---------------------------------------------------------------------------\u001b[0m",
            "\u001b[1;31mMemoryError\u001b[0m                               Traceback (most recent call last)",
            "\u001b[1;32m<ipython-input-111-d7cca5881282>\u001b[0m in \u001b[0;36m<module>\u001b[1;34m\u001b[0m\n\u001b[1;32m----> 1\u001b[1;33m \u001b[0mdtw_score\u001b[0m \u001b[1;33m=\u001b[0m \u001b[0mdtw\u001b[0m\u001b[1;33m(\u001b[0m\u001b[0mlunch\u001b[0m\u001b[1;33m[\u001b[0m\u001b[1;34m'Time'\u001b[0m\u001b[1;33m]\u001b[0m\u001b[1;33m,\u001b[0m\u001b[0mlunch\u001b[0m\u001b[1;33m[\u001b[0m\u001b[1;34m'EcgWaveform'\u001b[0m\u001b[1;33m]\u001b[0m\u001b[1;33m)\u001b[0m\u001b[1;33m\u001b[0m\u001b[1;33m\u001b[0m\u001b[0m\n\u001b[0m",
            "\u001b[1;32m~\\anaconda3\\lib\\site-packages\\tslearn\\metrics\\dtw_variants.py\u001b[0m in \u001b[0;36mdtw\u001b[1;34m(s1, s2, global_constraint, sakoe_chiba_radius, itakura_max_slope)\u001b[0m\n\u001b[0;32m    465\u001b[0m         \u001b[0mGLOBAL_CONSTRAINT_CODE\u001b[0m\u001b[1;33m[\u001b[0m\u001b[0mglobal_constraint\u001b[0m\u001b[1;33m]\u001b[0m\u001b[1;33m,\u001b[0m\u001b[1;33m\u001b[0m\u001b[1;33m\u001b[0m\u001b[0m\n\u001b[0;32m    466\u001b[0m         \u001b[0msakoe_chiba_radius\u001b[0m\u001b[1;33m=\u001b[0m\u001b[0msakoe_chiba_radius\u001b[0m\u001b[1;33m,\u001b[0m\u001b[1;33m\u001b[0m\u001b[1;33m\u001b[0m\u001b[0m\n\u001b[1;32m--> 467\u001b[1;33m         itakura_max_slope=itakura_max_slope)\n\u001b[0m\u001b[0;32m    468\u001b[0m     \u001b[1;32mreturn\u001b[0m \u001b[0mnjit_dtw\u001b[0m\u001b[1;33m(\u001b[0m\u001b[0ms1\u001b[0m\u001b[1;33m,\u001b[0m \u001b[0ms2\u001b[0m\u001b[1;33m,\u001b[0m \u001b[0mmask\u001b[0m\u001b[1;33m=\u001b[0m\u001b[0mmask\u001b[0m\u001b[1;33m)\u001b[0m\u001b[1;33m\u001b[0m\u001b[1;33m\u001b[0m\u001b[0m\n\u001b[0;32m    469\u001b[0m \u001b[1;33m\u001b[0m\u001b[0m\n",
            "\u001b[1;32m~\\anaconda3\\lib\\site-packages\\tslearn\\metrics\\dtw_variants.py\u001b[0m in \u001b[0;36mcompute_mask\u001b[1;34m(s1, s2, global_constraint, sakoe_chiba_radius, itakura_max_slope)\u001b[0m\n\u001b[0;32m   1127\u001b[0m         \u001b[0mmask\u001b[0m \u001b[1;33m=\u001b[0m \u001b[0mitakura_mask\u001b[0m\u001b[1;33m(\u001b[0m\u001b[0msz1\u001b[0m\u001b[1;33m,\u001b[0m \u001b[0msz2\u001b[0m\u001b[1;33m,\u001b[0m \u001b[0mmax_slope\u001b[0m\u001b[1;33m=\u001b[0m\u001b[0mitakura_max_slope\u001b[0m\u001b[1;33m)\u001b[0m\u001b[1;33m\u001b[0m\u001b[1;33m\u001b[0m\u001b[0m\n\u001b[0;32m   1128\u001b[0m     \u001b[1;32melse\u001b[0m\u001b[1;33m:\u001b[0m\u001b[1;33m\u001b[0m\u001b[1;33m\u001b[0m\u001b[0m\n\u001b[1;32m-> 1129\u001b[1;33m         \u001b[0mmask\u001b[0m \u001b[1;33m=\u001b[0m \u001b[0mnumpy\u001b[0m\u001b[1;33m.\u001b[0m\u001b[0mzeros\u001b[0m\u001b[1;33m(\u001b[0m\u001b[1;33m(\u001b[0m\u001b[0msz1\u001b[0m\u001b[1;33m,\u001b[0m \u001b[0msz2\u001b[0m\u001b[1;33m)\u001b[0m\u001b[1;33m)\u001b[0m\u001b[1;33m\u001b[0m\u001b[1;33m\u001b[0m\u001b[0m\n\u001b[0m\u001b[0;32m   1130\u001b[0m     \u001b[1;32mreturn\u001b[0m \u001b[0mmask\u001b[0m\u001b[1;33m\u001b[0m\u001b[1;33m\u001b[0m\u001b[0m\n\u001b[0;32m   1131\u001b[0m \u001b[1;33m\u001b[0m\u001b[0m\n",
            "\u001b[1;31mMemoryError\u001b[0m: Unable to allocate 60.0 GiB for an array with shape (89750, 89750) and data type float64"
          ]
        }
      ],
      "source": [
        "dtw_score = dtw(lunch['Time'],lunch['EcgWaveform'])"
      ]
    },
    {
      "cell_type": "code",
      "execution_count": null,
      "metadata": {
        "id": "DiYIPV8Rxgdr"
      },
      "outputs": [],
      "source": [
        "path = r'healthy_subset/001/AllECGS' # use your path\n",
        "\n",
        "all_files = glob.glob(path + \"/*.csv\")\n",
        "\n",
        "li = []\n",
        "\n",
        "for filename in all_files:\n",
        "\n",
        "    df = pd.read_csv(filename, index_col=None, header=0)\n",
        "    li.append(df)\n",
        "\n",
        "frame = pd.concat(li, axis=0, ignore_index=True)\n",
        "#frame.plot(x='Time',y='EcgWaveform')\n",
        "#df_healthy_001_food['calories'] = pd.to_numeric(df_healthy_001_food['calories'])\n",
        "#df_healthy_001_food.plot(x='date_time',y='calories')\n",
        "\n"
      ]
    },
    {
      "cell_type": "code",
      "execution_count": null,
      "metadata": {
        "id": "XhWpsuu9xgds",
        "outputId": "be1e91ea-d64a-47cd-b2d3-9b692ac8b6bd"
      },
      "outputs": [
        {
          "data": {
            "text/html": [
              "<div>\n",
              "<style scoped>\n",
              "    .dataframe tbody tr th:only-of-type {\n",
              "        vertical-align: middle;\n",
              "    }\n",
              "\n",
              "    .dataframe tbody tr th {\n",
              "        vertical-align: top;\n",
              "    }\n",
              "\n",
              "    .dataframe thead th {\n",
              "        text-align: right;\n",
              "    }\n",
              "</style>\n",
              "<table border=\"1\" class=\"dataframe\">\n",
              "  <thead>\n",
              "    <tr style=\"text-align: right;\">\n",
              "      <th></th>\n",
              "      <th>Time</th>\n",
              "      <th>EcgWaveform</th>\n",
              "    </tr>\n",
              "  </thead>\n",
              "  <tbody>\n",
              "    <tr>\n",
              "      <th>0</th>\n",
              "      <td>01/10/2014 12:50:01.447</td>\n",
              "      <td>297</td>\n",
              "    </tr>\n",
              "    <tr>\n",
              "      <th>1</th>\n",
              "      <td>01/10/2014 12:50:01.451</td>\n",
              "      <td>297</td>\n",
              "    </tr>\n",
              "    <tr>\n",
              "      <th>2</th>\n",
              "      <td>01/10/2014 12:50:01.455</td>\n",
              "      <td>297</td>\n",
              "    </tr>\n",
              "    <tr>\n",
              "      <th>3</th>\n",
              "      <td>01/10/2014 12:50:01.459</td>\n",
              "      <td>297</td>\n",
              "    </tr>\n",
              "    <tr>\n",
              "      <th>4</th>\n",
              "      <td>01/10/2014 12:50:01.463</td>\n",
              "      <td>297</td>\n",
              "    </tr>\n",
              "    <tr>\n",
              "      <th>...</th>\n",
              "      <td>...</td>\n",
              "      <td>...</td>\n",
              "    </tr>\n",
              "    <tr>\n",
              "      <th>47611495</th>\n",
              "      <td>04/10/2014 21:10:41.428</td>\n",
              "      <td>2150</td>\n",
              "    </tr>\n",
              "    <tr>\n",
              "      <th>47611496</th>\n",
              "      <td>04/10/2014 21:10:41.432</td>\n",
              "      <td>2151</td>\n",
              "    </tr>\n",
              "    <tr>\n",
              "      <th>47611497</th>\n",
              "      <td>04/10/2014 21:10:41.436</td>\n",
              "      <td>2152</td>\n",
              "    </tr>\n",
              "    <tr>\n",
              "      <th>47611498</th>\n",
              "      <td>04/10/2014 21:10:41.440</td>\n",
              "      <td>2153</td>\n",
              "    </tr>\n",
              "    <tr>\n",
              "      <th>47611499</th>\n",
              "      <td>04/10/2014 21:10:41.444</td>\n",
              "      <td>2153</td>\n",
              "    </tr>\n",
              "  </tbody>\n",
              "</table>\n",
              "<p>47611500 rows × 2 columns</p>\n",
              "</div>"
            ],
            "text/plain": [
              "                             Time  EcgWaveform\n",
              "0         01/10/2014 12:50:01.447          297\n",
              "1         01/10/2014 12:50:01.451          297\n",
              "2         01/10/2014 12:50:01.455          297\n",
              "3         01/10/2014 12:50:01.459          297\n",
              "4         01/10/2014 12:50:01.463          297\n",
              "...                           ...          ...\n",
              "47611495  04/10/2014 21:10:41.428         2150\n",
              "47611496  04/10/2014 21:10:41.432         2151\n",
              "47611497  04/10/2014 21:10:41.436         2152\n",
              "47611498  04/10/2014 21:10:41.440         2153\n",
              "47611499  04/10/2014 21:10:41.444         2153\n",
              "\n",
              "[47611500 rows x 2 columns]"
            ]
          },
          "execution_count": 16,
          "metadata": {},
          "output_type": "execute_result"
        }
      ],
      "source": []
    },
    {
      "cell_type": "code",
      "execution_count": null,
      "metadata": {
        "id": "foLUPnw_xgds",
        "outputId": "8c070183-a07a-4e6d-97c4-2800c1025a76"
      },
      "outputs": [
        {
          "data": {
            "text/plain": [
              "0           2014-10-01 12:50:01\n",
              "1           2014-10-01 12:50:01\n",
              "2           2014-10-01 12:50:01\n",
              "3           2014-10-01 12:50:01\n",
              "4           2014-10-01 12:50:01\n",
              "                   ...         \n",
              "47611495    2014-10-04 21:10:41\n",
              "47611496    2014-10-04 21:10:41\n",
              "47611497    2014-10-04 21:10:41\n",
              "47611498    2014-10-04 21:10:41\n",
              "47611499    2014-10-04 21:10:41\n",
              "Name: Time, Length: 47611500, dtype: object"
            ]
          },
          "execution_count": 17,
          "metadata": {},
          "output_type": "execute_result"
        }
      ],
      "source": [
        "\n",
        "df_healthy_001_food['date_time']\n",
        "frame['Time'] = frame['Time'].str.slice(0, -4)\n",
        "frame['Time'] = (pd.to_datetime(frame['Time'])).dt.strftime('%Y-%d-%m %H:%M:%S')\n",
        "frame['Time']"
      ]
    },
    {
      "cell_type": "code",
      "execution_count": null,
      "metadata": {
        "id": "u7D9ZHk6xgdt"
      },
      "outputs": [],
      "source": [
        "frame['Time'] = pd.to_datetime(frame['Time'])"
      ]
    },
    {
      "cell_type": "code",
      "execution_count": null,
      "metadata": {
        "id": "JzF4tJYLxgdt",
        "outputId": "35a2e1fc-8c38-4ef2-a3bd-789085fe23cc"
      },
      "outputs": [
        {
          "data": {
            "text/plain": [
              "0    2014-10-01 12:58:00\n",
              "1    2014-10-01 15:30:00\n",
              "2    2014-10-01 18:11:00\n",
              "3    2014-10-01 22:00:00\n",
              "4    2014-10-02 07:33:00\n",
              "5    2014-10-02 09:28:00\n",
              "6    2014-10-02 12:06:00\n",
              "7    2014-10-02 18:00:00\n",
              "8    2014-10-02 20:03:00\n",
              "9    2014-10-03 08:10:00\n",
              "10   2014-10-03 10:10:00\n",
              "11   2014-10-03 12:03:00\n",
              "12   2014-10-03 16:00:00\n",
              "13   2014-10-03 18:20:00\n",
              "14   2014-10-04 07:57:00\n",
              "15   2014-10-04 07:59:00\n",
              "16   2014-10-04 12:03:00\n",
              "17   2014-10-04 12:08:00\n",
              "18   2014-10-04 12:08:00\n",
              "Name: date_time, dtype: datetime64[ns]"
            ]
          },
          "execution_count": 8,
          "metadata": {},
          "output_type": "execute_result"
        }
      ],
      "source": [
        "df_healthy_001_food['date_time']"
      ]
    },
    {
      "cell_type": "code",
      "execution_count": null,
      "metadata": {
        "id": "U_kc0X3Pxgdu"
      },
      "outputs": [],
      "source": [
        "meal_times_001 = np.intersect1d(frame['Time'],df_healthy_001_food['date_time'])\n"
      ]
    },
    {
      "cell_type": "code",
      "execution_count": null,
      "metadata": {
        "id": "x1y0gvyIxgdu"
      },
      "outputs": [],
      "source": [
        "frame['meal'] = 0\n",
        "meal_times_001 = pd.to_datetime(meal_times_001)\n",
        "\n"
      ]
    },
    {
      "cell_type": "code",
      "execution_count": null,
      "metadata": {
        "id": "xwkxReSFxgdu"
      },
      "outputs": [],
      "source": [
        "frame.loc[(frame.Time.isin(meal_times_001)),'meal'] = 1"
      ]
    },
    {
      "cell_type": "code",
      "execution_count": null,
      "metadata": {
        "id": "lQJU_m36xgdv",
        "outputId": "e5606353-b259-45d1-bdcc-6252f0f5de1f"
      },
      "outputs": [
        {
          "data": {
            "text/plain": [
              "<matplotlib.axes._subplots.AxesSubplot at 0x1c4000b0348>"
            ]
          },
          "execution_count": 12,
          "metadata": {},
          "output_type": "execute_result"
        },
        {
          "data": {
            "image/png": "[encoded data removed]",
            "text/plain": [
              "<Figure size 1080x360 with 1 Axes>"
            ]
          },
          "metadata": {},
          "output_type": "display_data"
        }
      ],
      "source": [
        "frame.plot(kind='scatter',x='meal',y='EcgWaveform',c='blue')"
      ]
    },
    {
      "cell_type": "code",
      "execution_count": null,
      "metadata": {
        "id": "tw33tpSlxgdv"
      },
      "outputs": [],
      "source": [
        "#mark the graph for it's significance\n",
        "\n",
        "#significance: ECGs never occur beyond a certain range when meal is reported; allows the program to near-conclusively state when\n",
        "#              a meal has not occured."
      ]
    },
    {
      "cell_type": "code",
      "execution_count": null,
      "metadata": {
        "id": "qP4_wDbexgdv"
      },
      "outputs": [],
      "source": [
        "path = r'healthy_subset/001/AllBreathing' # use your path\n",
        "\n",
        "all_files = glob.glob(path + \"/*.csv\")\n",
        "\n",
        "lis = []\n",
        "\n",
        "for filename in all_files:\n",
        "\n",
        "    df = pd.read_csv(filename, index_col=None, header=0)\n",
        "\n",
        "    lis.append(df)\n",
        "\n",
        "frameB = pd.concat(lis, axis=0, ignore_index=True)"
      ]
    },
    {
      "cell_type": "code",
      "execution_count": null,
      "metadata": {
        "id": "wMaLfoZXxgdv"
      },
      "outputs": [],
      "source": [
        "frameB['Time'] = frameB['Time'].str.slice(0, -4)\n",
        "frameB['Time'] = (pd.to_datetime(frameB['Time'])).dt.strftime('%Y-%d-%m %H:%M:%S')\n",
        "frameB['Time'] = pd.to_datetime(frameB['Time'])"
      ]
    },
    {
      "cell_type": "code",
      "execution_count": null,
      "metadata": {
        "id": "wi9G5KsKxgdw"
      },
      "outputs": [],
      "source": [
        "meal_times_001B = np.intersect1d(frameB['Time'],df_healthy_001_food['date_time'])\n"
      ]
    },
    {
      "cell_type": "code",
      "execution_count": null,
      "metadata": {
        "id": "dNbsTNlSxgdw",
        "outputId": "a394c81a-9796-4dbb-ca56-e94d7bfe08f8"
      },
      "outputs": [
        {
          "data": {
            "text/plain": [
              "DatetimeIndex(['2014-10-01 12:58:00', '2014-10-01 15:30:00',\n",
              "               '2014-10-01 18:11:00', '2014-10-02 07:33:00',\n",
              "               '2014-10-02 09:28:00', '2014-10-02 12:06:00',\n",
              "               '2014-10-02 18:00:00', '2014-10-02 20:03:00',\n",
              "               '2014-10-03 08:10:00', '2014-10-03 10:10:00',\n",
              "               '2014-10-03 12:03:00', '2014-10-03 16:00:00',\n",
              "               '2014-10-03 18:20:00', '2014-10-04 07:57:00',\n",
              "               '2014-10-04 07:59:00', '2014-10-04 12:03:00',\n",
              "               '2014-10-04 12:08:00'],\n",
              "              dtype='datetime64[ns]', freq=None)"
            ]
          },
          "execution_count": 15,
          "metadata": {},
          "output_type": "execute_result"
        }
      ],
      "source": [
        "meal_times_001B = pd.to_datetime(meal_times_001B)\n",
        "meal_times_001B"
      ]
    },
    {
      "cell_type": "code",
      "execution_count": null,
      "metadata": {
        "id": "JDWVrD9exgdw",
        "outputId": "04b2aff0-052e-4413-ef65-555daaa38357"
      },
      "outputs": [
        {
          "data": {
            "text/html": [
              "<div>\n",
              "<style scoped>\n",
              "    .dataframe tbody tr th:only-of-type {\n",
              "        vertical-align: middle;\n",
              "    }\n",
              "\n",
              "    .dataframe tbody tr th {\n",
              "        vertical-align: top;\n",
              "    }\n",
              "\n",
              "    .dataframe thead th {\n",
              "        text-align: right;\n",
              "    }\n",
              "</style>\n",
              "<table border=\"1\" class=\"dataframe\">\n",
              "  <thead>\n",
              "    <tr style=\"text-align: right;\">\n",
              "      <th></th>\n",
              "      <th>Time</th>\n",
              "      <th>BreathingWaveform</th>\n",
              "      <th>meal</th>\n",
              "    </tr>\n",
              "  </thead>\n",
              "  <tbody>\n",
              "    <tr>\n",
              "      <th>0</th>\n",
              "      <td>2014-10-01 12:50:01</td>\n",
              "      <td>6849416</td>\n",
              "      <td>0</td>\n",
              "    </tr>\n",
              "    <tr>\n",
              "      <th>1</th>\n",
              "      <td>2014-10-01 12:50:01</td>\n",
              "      <td>6848625</td>\n",
              "      <td>0</td>\n",
              "    </tr>\n",
              "    <tr>\n",
              "      <th>2</th>\n",
              "      <td>2014-10-01 12:50:01</td>\n",
              "      <td>6844828</td>\n",
              "      <td>0</td>\n",
              "    </tr>\n",
              "    <tr>\n",
              "      <th>3</th>\n",
              "      <td>2014-10-01 12:50:01</td>\n",
              "      <td>6844828</td>\n",
              "      <td>0</td>\n",
              "    </tr>\n",
              "    <tr>\n",
              "      <th>4</th>\n",
              "      <td>2014-10-01 12:50:01</td>\n",
              "      <td>6844828</td>\n",
              "      <td>0</td>\n",
              "    </tr>\n",
              "    <tr>\n",
              "      <th>...</th>\n",
              "      <td>...</td>\n",
              "      <td>...</td>\n",
              "      <td>...</td>\n",
              "    </tr>\n",
              "    <tr>\n",
              "      <th>4761145</th>\n",
              "      <td>2014-10-04 21:10:41</td>\n",
              "      <td>7743283</td>\n",
              "      <td>0</td>\n",
              "    </tr>\n",
              "    <tr>\n",
              "      <th>4761146</th>\n",
              "      <td>2014-10-04 21:10:41</td>\n",
              "      <td>7743178</td>\n",
              "      <td>0</td>\n",
              "    </tr>\n",
              "    <tr>\n",
              "      <th>4761147</th>\n",
              "      <td>2014-10-04 21:10:41</td>\n",
              "      <td>7744707</td>\n",
              "      <td>0</td>\n",
              "    </tr>\n",
              "    <tr>\n",
              "      <th>4761148</th>\n",
              "      <td>2014-10-04 21:10:41</td>\n",
              "      <td>7746500</td>\n",
              "      <td>0</td>\n",
              "    </tr>\n",
              "    <tr>\n",
              "      <th>4761149</th>\n",
              "      <td>2014-10-04 21:10:41</td>\n",
              "      <td>7747555</td>\n",
              "      <td>0</td>\n",
              "    </tr>\n",
              "  </tbody>\n",
              "</table>\n",
              "<p>4761150 rows × 3 columns</p>\n",
              "</div>"
            ],
            "text/plain": [
              "                       Time  BreathingWaveform  meal\n",
              "0       2014-10-01 12:50:01            6849416     0\n",
              "1       2014-10-01 12:50:01            6848625     0\n",
              "2       2014-10-01 12:50:01            6844828     0\n",
              "3       2014-10-01 12:50:01            6844828     0\n",
              "4       2014-10-01 12:50:01            6844828     0\n",
              "...                     ...                ...   ...\n",
              "4761145 2014-10-04 21:10:41            7743283     0\n",
              "4761146 2014-10-04 21:10:41            7743178     0\n",
              "4761147 2014-10-04 21:10:41            7744707     0\n",
              "4761148 2014-10-04 21:10:41            7746500     0\n",
              "4761149 2014-10-04 21:10:41            7747555     0\n",
              "\n",
              "[4761150 rows x 3 columns]"
            ]
          },
          "execution_count": 16,
          "metadata": {},
          "output_type": "execute_result"
        }
      ],
      "source": [
        "frameB['meal'] = 0\n",
        "frameB"
      ]
    },
    {
      "cell_type": "code",
      "execution_count": null,
      "metadata": {
        "id": "rNsms2Cdxgd0"
      },
      "outputs": [],
      "source": [
        "frameB.loc[(frame.Time.isin(meal_times_001B)),'meal'] = 1"
      ]
    },
    {
      "cell_type": "code",
      "execution_count": null,
      "metadata": {
        "id": "X0BCwpBvxgd0",
        "outputId": "5e501c01-0e39-4cc6-88f9-6f1f42fbf3a6"
      },
      "outputs": [
        {
          "data": {
            "text/plain": [
              "<matplotlib.axes._subplots.AxesSubplot at 0x1c981f481c8>"
            ]
          },
          "execution_count": 18,
          "metadata": {},
          "output_type": "execute_result"
        },
        {
          "data": {
            "image/png": "[encoded data removed]",
            "text/plain": [
              "<Figure size 1080x360 with 1 Axes>"
            ]
          },
          "metadata": {},
          "output_type": "display_data"
        }
      ],
      "source": [
        "frameB.plot(kind='scatter',x='meal',y='BreathingWaveform',c='blue')"
      ]
    },
    {
      "cell_type": "code",
      "execution_count": null,
      "metadata": {
        "id": "DuH-AiX6xgd1",
        "outputId": "14da35a6-8846-4baa-91b3-214b88268e0a"
      },
      "outputs": [
        {
          "data": {
            "text/html": [
              "<div>\n",
              "<style scoped>\n",
              "    .dataframe tbody tr th:only-of-type {\n",
              "        vertical-align: middle;\n",
              "    }\n",
              "\n",
              "    .dataframe tbody tr th {\n",
              "        vertical-align: top;\n",
              "    }\n",
              "\n",
              "    .dataframe thead th {\n",
              "        text-align: right;\n",
              "    }\n",
              "</style>\n",
              "<table border=\"1\" class=\"dataframe\">\n",
              "  <thead>\n",
              "    <tr style=\"text-align: right;\">\n",
              "      <th></th>\n",
              "      <th>Time</th>\n",
              "      <th>BreathingWaveform</th>\n",
              "      <th>meal</th>\n",
              "    </tr>\n",
              "  </thead>\n",
              "  <tbody>\n",
              "    <tr>\n",
              "      <th>0</th>\n",
              "      <td>2014-10-01 12:50:01</td>\n",
              "      <td>6849416</td>\n",
              "      <td>0</td>\n",
              "    </tr>\n",
              "    <tr>\n",
              "      <th>1</th>\n",
              "      <td>2014-10-01 12:50:01</td>\n",
              "      <td>6848625</td>\n",
              "      <td>0</td>\n",
              "    </tr>\n",
              "    <tr>\n",
              "      <th>2</th>\n",
              "      <td>2014-10-01 12:50:01</td>\n",
              "      <td>6844828</td>\n",
              "      <td>0</td>\n",
              "    </tr>\n",
              "    <tr>\n",
              "      <th>3</th>\n",
              "      <td>2014-10-01 12:50:01</td>\n",
              "      <td>6844828</td>\n",
              "      <td>0</td>\n",
              "    </tr>\n",
              "    <tr>\n",
              "      <th>4</th>\n",
              "      <td>2014-10-01 12:50:01</td>\n",
              "      <td>6844828</td>\n",
              "      <td>0</td>\n",
              "    </tr>\n",
              "    <tr>\n",
              "      <th>...</th>\n",
              "      <td>...</td>\n",
              "      <td>...</td>\n",
              "      <td>...</td>\n",
              "    </tr>\n",
              "    <tr>\n",
              "      <th>4761145</th>\n",
              "      <td>2014-10-04 21:10:41</td>\n",
              "      <td>7743283</td>\n",
              "      <td>0</td>\n",
              "    </tr>\n",
              "    <tr>\n",
              "      <th>4761146</th>\n",
              "      <td>2014-10-04 21:10:41</td>\n",
              "      <td>7743178</td>\n",
              "      <td>0</td>\n",
              "    </tr>\n",
              "    <tr>\n",
              "      <th>4761147</th>\n",
              "      <td>2014-10-04 21:10:41</td>\n",
              "      <td>7744707</td>\n",
              "      <td>0</td>\n",
              "    </tr>\n",
              "    <tr>\n",
              "      <th>4761148</th>\n",
              "      <td>2014-10-04 21:10:41</td>\n",
              "      <td>7746500</td>\n",
              "      <td>0</td>\n",
              "    </tr>\n",
              "    <tr>\n",
              "      <th>4761149</th>\n",
              "      <td>2014-10-04 21:10:41</td>\n",
              "      <td>7747555</td>\n",
              "      <td>0</td>\n",
              "    </tr>\n",
              "  </tbody>\n",
              "</table>\n",
              "<p>4761150 rows × 3 columns</p>\n",
              "</div>"
            ],
            "text/plain": [
              "                       Time  BreathingWaveform  meal\n",
              "0       2014-10-01 12:50:01            6849416     0\n",
              "1       2014-10-01 12:50:01            6848625     0\n",
              "2       2014-10-01 12:50:01            6844828     0\n",
              "3       2014-10-01 12:50:01            6844828     0\n",
              "4       2014-10-01 12:50:01            6844828     0\n",
              "...                     ...                ...   ...\n",
              "4761145 2014-10-04 21:10:41            7743283     0\n",
              "4761146 2014-10-04 21:10:41            7743178     0\n",
              "4761147 2014-10-04 21:10:41            7744707     0\n",
              "4761148 2014-10-04 21:10:41            7746500     0\n",
              "4761149 2014-10-04 21:10:41            7747555     0\n",
              "\n",
              "[4761150 rows x 3 columns]"
            ]
          },
          "execution_count": 19,
          "metadata": {},
          "output_type": "execute_result"
        }
      ],
      "source": [
        "frameB"
      ]
    },
    {
      "cell_type": "code",
      "execution_count": null,
      "metadata": {
        "id": "DxMF9CIDxgd1",
        "outputId": "7c84272b-1e3b-4031-bb80-665b5390d530"
      },
      "outputs": [
        {
          "data": {
            "text/plain": [
              "KMeans(algorithm='auto', copy_x=True, init='k-means++', max_iter=300,\n",
              "       n_clusters=2, n_init=10, n_jobs=None, precompute_distances='auto',\n",
              "       random_state=None, tol=0.0001, verbose=0)"
            ]
          },
          "execution_count": 21,
          "metadata": {},
          "output_type": "execute_result"
        }
      ],
      "source": [
        "km = KMeans(n_clusters=2)\n",
        "km.fit(frame[['EcgWaveform','meal']].copy())"
      ]
    },
    {
      "cell_type": "code",
      "execution_count": null,
      "metadata": {
        "id": "J5DXXFFZxgd2"
      },
      "outputs": [],
      "source": [
        "cluster_table = frame[['EcgWaveform','meal']].copy()\n",
        "centers = pd.DataFrame(km.cluster_centers_, columns=cluster_table.columns)\n",
        "cluster_table['cluster'] = km.labels_"
      ]
    },
    {
      "cell_type": "code",
      "execution_count": null,
      "metadata": {
        "id": "woXjTmJWxgd2",
        "outputId": "9b35ee03-e1c4-49d8-8d22-179592bf760c"
      },
      "outputs": [
        {
          "data": {
            "text/html": [
              "<div>\n",
              "<style scoped>\n",
              "    .dataframe tbody tr th:only-of-type {\n",
              "        vertical-align: middle;\n",
              "    }\n",
              "\n",
              "    .dataframe tbody tr th {\n",
              "        vertical-align: top;\n",
              "    }\n",
              "\n",
              "    .dataframe thead th {\n",
              "        text-align: right;\n",
              "    }\n",
              "</style>\n",
              "<table border=\"1\" class=\"dataframe\">\n",
              "  <thead>\n",
              "    <tr style=\"text-align: right;\">\n",
              "      <th></th>\n",
              "      <th>EcgWaveform</th>\n",
              "      <th>meal</th>\n",
              "      <th>cluster</th>\n",
              "    </tr>\n",
              "  </thead>\n",
              "  <tbody>\n",
              "    <tr>\n",
              "      <th>0</th>\n",
              "      <td>297</td>\n",
              "      <td>0</td>\n",
              "      <td>0</td>\n",
              "    </tr>\n",
              "    <tr>\n",
              "      <th>1</th>\n",
              "      <td>297</td>\n",
              "      <td>0</td>\n",
              "      <td>0</td>\n",
              "    </tr>\n",
              "    <tr>\n",
              "      <th>2</th>\n",
              "      <td>297</td>\n",
              "      <td>0</td>\n",
              "      <td>0</td>\n",
              "    </tr>\n",
              "    <tr>\n",
              "      <th>3</th>\n",
              "      <td>297</td>\n",
              "      <td>0</td>\n",
              "      <td>0</td>\n",
              "    </tr>\n",
              "    <tr>\n",
              "      <th>4</th>\n",
              "      <td>297</td>\n",
              "      <td>0</td>\n",
              "      <td>0</td>\n",
              "    </tr>\n",
              "    <tr>\n",
              "      <th>...</th>\n",
              "      <td>...</td>\n",
              "      <td>...</td>\n",
              "      <td>...</td>\n",
              "    </tr>\n",
              "    <tr>\n",
              "      <th>47611495</th>\n",
              "      <td>2150</td>\n",
              "      <td>0</td>\n",
              "      <td>0</td>\n",
              "    </tr>\n",
              "    <tr>\n",
              "      <th>47611496</th>\n",
              "      <td>2151</td>\n",
              "      <td>0</td>\n",
              "      <td>0</td>\n",
              "    </tr>\n",
              "    <tr>\n",
              "      <th>47611497</th>\n",
              "      <td>2152</td>\n",
              "      <td>0</td>\n",
              "      <td>0</td>\n",
              "    </tr>\n",
              "    <tr>\n",
              "      <th>47611498</th>\n",
              "      <td>2153</td>\n",
              "      <td>0</td>\n",
              "      <td>0</td>\n",
              "    </tr>\n",
              "    <tr>\n",
              "      <th>47611499</th>\n",
              "      <td>2153</td>\n",
              "      <td>0</td>\n",
              "      <td>0</td>\n",
              "    </tr>\n",
              "  </tbody>\n",
              "</table>\n",
              "<p>47241646 rows × 3 columns</p>\n",
              "</div>"
            ],
            "text/plain": [
              "          EcgWaveform  meal  cluster\n",
              "0                 297     0        0\n",
              "1                 297     0        0\n",
              "2                 297     0        0\n",
              "3                 297     0        0\n",
              "4                 297     0        0\n",
              "...               ...   ...      ...\n",
              "47611495         2150     0        0\n",
              "47611496         2151     0        0\n",
              "47611497         2152     0        0\n",
              "47611498         2153     0        0\n",
              "47611499         2153     0        0\n",
              "\n",
              "[47241646 rows x 3 columns]"
            ]
          },
          "execution_count": 25,
          "metadata": {},
          "output_type": "execute_result"
        }
      ],
      "source": [
        "cluster_table[cluster_table['meal']==cluster_table['cluster']]\n",
        "#accuracy level of cluster-to-meal:99.223%;However, the innacuracies could disproportionaly occur around when meal evaluates\n",
        "#                                  to true"
      ]
    },
    {
      "cell_type": "code",
      "execution_count": null,
      "metadata": {
        "id": "pgYbGWRAxgd3",
        "outputId": "a699cf6b-ed23-4993-ec5b-ca32bc0e3f2a"
      },
      "outputs": [
        {
          "data": {
            "image/png": "[encoded data removed]",
            "text/plain": [
              "<Figure size 1080x360 with 1 Axes>"
            ]
          },
          "metadata": {},
          "output_type": "display_data"
        }
      ],
      "source": [
        "ax = cluster_table[cluster_table['cluster']==0].plot(kind='scatter', x='meal', y='EcgWaveform', s=50, c='green')\n",
        "cluster_table[cluster_table['cluster']==1].plot(kind='scatter',x='meal',y='EcgWaveform',s=50, c='orange', ax = ax)\n",
        "\n",
        "\n",
        "centers.plot(kind = 'scatter', x='meal', y='EcgWaveform', c=['green','orange'], s=50, marker='x', ax=ax);"
      ]
    },
    {
      "cell_type": "code",
      "execution_count": null,
      "metadata": {
        "id": "s1u4AJAYxgd3"
      },
      "outputs": [],
      "source": [
        "#In interval of time(2.5 minutes before and after), the meal time should not exist as 0 and 1 discrete values but instead\n",
        "#continous between the interval [0,1] ie 0.5,0.7,etc.\n",
        "#Issues with amplitude:"
      ]
    },
    {
      "cell_type": "code",
      "execution_count": null,
      "metadata": {
        "id": "WlIwCPTXxgd4",
        "outputId": "82bb240d-e3e1-4e01-dcc0-6a49cdc410e7"
      },
      "outputs": [
        {
          "ename": "MemoryError",
          "evalue": "Unable to allocate 16.1 PiB for an array with shape (47611500, 47611500) and data type float64",
          "output_type": "error",
          "traceback": [
            "\u001b[1;31m---------------------------------------------------------------------------\u001b[0m",
            "\u001b[1;31mMemoryError\u001b[0m                               Traceback (most recent call last)",
            "\u001b[1;32m<ipython-input-13-ed0822940289>\u001b[0m in \u001b[0;36m<module>\u001b[1;34m\u001b[0m\n\u001b[1;32m----> 1\u001b[1;33m \u001b[0mdtw_score\u001b[0m \u001b[1;33m=\u001b[0m \u001b[0mdtw\u001b[0m\u001b[1;33m(\u001b[0m\u001b[0mframe\u001b[0m\u001b[1;33m[\u001b[0m\u001b[1;34m'Time'\u001b[0m\u001b[1;33m]\u001b[0m\u001b[1;33m,\u001b[0m\u001b[0mframe\u001b[0m\u001b[1;33m[\u001b[0m\u001b[1;34m'EcgWaveform'\u001b[0m\u001b[1;33m]\u001b[0m\u001b[1;33m)\u001b[0m\u001b[1;33m\u001b[0m\u001b[1;33m\u001b[0m\u001b[0m\n\u001b[0m",
            "\u001b[1;32m~\\anaconda3\\lib\\site-packages\\tslearn\\metrics\\dtw_variants.py\u001b[0m in \u001b[0;36mdtw\u001b[1;34m(s1, s2, global_constraint, sakoe_chiba_radius, itakura_max_slope)\u001b[0m\n\u001b[0;32m    465\u001b[0m         \u001b[0mGLOBAL_CONSTRAINT_CODE\u001b[0m\u001b[1;33m[\u001b[0m\u001b[0mglobal_constraint\u001b[0m\u001b[1;33m]\u001b[0m\u001b[1;33m,\u001b[0m\u001b[1;33m\u001b[0m\u001b[1;33m\u001b[0m\u001b[0m\n\u001b[0;32m    466\u001b[0m         \u001b[0msakoe_chiba_radius\u001b[0m\u001b[1;33m=\u001b[0m\u001b[0msakoe_chiba_radius\u001b[0m\u001b[1;33m,\u001b[0m\u001b[1;33m\u001b[0m\u001b[1;33m\u001b[0m\u001b[0m\n\u001b[1;32m--> 467\u001b[1;33m         itakura_max_slope=itakura_max_slope)\n\u001b[0m\u001b[0;32m    468\u001b[0m     \u001b[1;32mreturn\u001b[0m \u001b[0mnjit_dtw\u001b[0m\u001b[1;33m(\u001b[0m\u001b[0ms1\u001b[0m\u001b[1;33m,\u001b[0m \u001b[0ms2\u001b[0m\u001b[1;33m,\u001b[0m \u001b[0mmask\u001b[0m\u001b[1;33m=\u001b[0m\u001b[0mmask\u001b[0m\u001b[1;33m)\u001b[0m\u001b[1;33m\u001b[0m\u001b[1;33m\u001b[0m\u001b[0m\n\u001b[0;32m    469\u001b[0m \u001b[1;33m\u001b[0m\u001b[0m\n",
            "\u001b[1;32m~\\anaconda3\\lib\\site-packages\\tslearn\\metrics\\dtw_variants.py\u001b[0m in \u001b[0;36mcompute_mask\u001b[1;34m(s1, s2, global_constraint, sakoe_chiba_radius, itakura_max_slope)\u001b[0m\n\u001b[0;32m   1127\u001b[0m         \u001b[0mmask\u001b[0m \u001b[1;33m=\u001b[0m \u001b[0mitakura_mask\u001b[0m\u001b[1;33m(\u001b[0m\u001b[0msz1\u001b[0m\u001b[1;33m,\u001b[0m \u001b[0msz2\u001b[0m\u001b[1;33m,\u001b[0m \u001b[0mmax_slope\u001b[0m\u001b[1;33m=\u001b[0m\u001b[0mitakura_max_slope\u001b[0m\u001b[1;33m)\u001b[0m\u001b[1;33m\u001b[0m\u001b[1;33m\u001b[0m\u001b[0m\n\u001b[0;32m   1128\u001b[0m     \u001b[1;32melse\u001b[0m\u001b[1;33m:\u001b[0m\u001b[1;33m\u001b[0m\u001b[1;33m\u001b[0m\u001b[0m\n\u001b[1;32m-> 1129\u001b[1;33m         \u001b[0mmask\u001b[0m \u001b[1;33m=\u001b[0m \u001b[0mnumpy\u001b[0m\u001b[1;33m.\u001b[0m\u001b[0mzeros\u001b[0m\u001b[1;33m(\u001b[0m\u001b[1;33m(\u001b[0m\u001b[0msz1\u001b[0m\u001b[1;33m,\u001b[0m \u001b[0msz2\u001b[0m\u001b[1;33m)\u001b[0m\u001b[1;33m)\u001b[0m\u001b[1;33m\u001b[0m\u001b[1;33m\u001b[0m\u001b[0m\n\u001b[0m\u001b[0;32m   1130\u001b[0m     \u001b[1;32mreturn\u001b[0m \u001b[0mmask\u001b[0m\u001b[1;33m\u001b[0m\u001b[1;33m\u001b[0m\u001b[0m\n\u001b[0;32m   1131\u001b[0m \u001b[1;33m\u001b[0m\u001b[0m\n",
            "\u001b[1;31mMemoryError\u001b[0m: Unable to allocate 16.1 PiB for an array with shape (47611500, 47611500) and data type float64"
          ]
        }
      ],
      "source": [
        "dtw_score = dtw(frame['Time'],frame['EcgWaveform'])"
      ]
    }
  ],
  "metadata": {
    "kernelspec": {
      "display_name": "Python 3",
      "language": "python",
      "name": "python3"
    },
    "language_info": {
      "codemirror_mode": {
        "name": "ipython",
        "version": 3
      },
      "file_extension": ".py",
      "mimetype": "text/x-python",
      "name": "python",
      "nbconvert_exporter": "python",
      "pygments_lexer": "ipython3",
      "version": "3.7.6"
    },
    "colab": {
      "provenance": [],
      "include_colab_link": true
    }
  },
  "nbformat": 4,
  "nbformat_minor": 0
}