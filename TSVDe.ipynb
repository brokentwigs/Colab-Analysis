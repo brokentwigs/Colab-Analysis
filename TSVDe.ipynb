{
  "nbformat": 4,
  "nbformat_minor": 0,
  "metadata": {
    "colab": {
      "provenance": [],
      "authorship_tag": "ABX9TyOYiHbZCDlqKNDFD76gvu7e",
      "include_colab_link": true
    },
    "kernelspec": {
      "name": "python3",
      "display_name": "Python 3"
    },
    "language_info": {
      "name": "python"
    }
  },
  "cells": [
    {
      "cell_type": "markdown",
      "metadata": {
        "id": "view-in-github",
        "colab_type": "text"
      },
      "source": [
        "<a href=\"https://colab.research.google.com/github/brokentwigs/Colab-Analysis/blob/main/TSVDe.ipynb\" target=\"_parent\"><img src=\"https://colab.research.google.com/assets/colab-badge.svg\" alt=\"Open In Colab\"/></a>"
      ]
    },
    {
      "cell_type": "code",
      "source": [
        "import numpy as np\n",
        "from sklearn.model_selection import train_test_split"
      ],
      "metadata": {
        "id": "RLaZSEuodge1"
      },
      "execution_count": null,
      "outputs": []
    },
    {
      "cell_type": "code",
      "execution_count": null,
      "metadata": {
        "id": "We0UhbmyddJu"
      },
      "outputs": [],
      "source": [
        "# load the bostom house data\n",
        "data = load_boston(return_X_y=False)\n",
        "\n",
        "# extract the input data matrix and the targets\n",
        "A = data.data\n",
        "b = data.target\n",
        "\n",
        "# append a columns of 1s (these are the biases)\n",
        "A = np.column_stack([np.ones(A.shape[0]), A])\n",
        "\n",
        "# split the data into train and test sets\n",
        "X_train, X_test, y_train, y_test = train_test_split(A, b, test_size=0.50, random_state=42)\n",
        "\n",
        "# calculate the economy SVD for the data matrix A\n",
        "U,S,Vt = np.linalg.svd(X_train, full_matrices=False)\n",
        "\n",
        "# solve Ax = b for the best possible approximate solution in terms of least squares\n",
        "x_hat = Vt.T @ np.linalg.inv(np.diag(S)) @ U.T @ y_train\n",
        "\n",
        "# perform train and test inference\n",
        "y_pred = X_train @ x_hat\n",
        "test_predictions = X_test @ x_hat\n",
        "\n",
        "# compute train and test MSE\n",
        "train_mse = np.mean((train_predictions - y_train)**2)\n",
        "test_mse = np.mean((test_predictions - y_test)**2)\n",
        "\n",
        "print(\"Train Mean Squared Error:\", train_mse)\n",
        "print(\"Test Mean Squared Error:\", test_mse)"
      ]
    }
  ]
}