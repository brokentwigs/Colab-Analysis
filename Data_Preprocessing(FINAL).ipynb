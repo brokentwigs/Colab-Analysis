{
  "cells": [
    {
      "cell_type": "markdown",
      "metadata": {
        "id": "view-in-github",
        "colab_type": "text"
      },
      "source": [
        "<a href=\"https://colab.research.google.com/github/brokentwigs/Colab-Analysis/blob/main/Data_Preprocessing(FINAL).ipynb\" target=\"_parent\"><img src=\"https://colab.research.google.com/assets/colab-badge.svg\" alt=\"Open In Colab\"/></a>"
      ]
    },
    {
      "cell_type": "code",
      "execution_count": null,
      "metadata": {
        "colab": {
          "base_uri": "https://localhost:8080/"
        },
        "id": "AsqlGUIVQXBY",
        "outputId": "ea1c6c59-51c0-4218-8eff-94732d7a37fd"
      },
      "outputs": [
        {
          "name": "stdout",
          "output_type": "stream",
          "text": [
            "Looking in indexes: https://pypi.org/simple, https://us-python.pkg.dev/colab-wheels/public/simple/\n",
            "Collecting category_encoders\n",
            "  Downloading category_encoders-2.6.0-py2.py3-none-any.whl (81 kB)\n",
            "\u001b[2K     \u001b[90m━━━━━━━━━━━━━━━━━━━━━━━━━━━━━━━━━━━━━━━━\u001b[0m \u001b[32m81.2/81.2 kB\u001b[0m \u001b[31m3.4 MB/s\u001b[0m eta \u001b[36m0:00:00\u001b[0m\n",
            "\u001b[?25hRequirement already satisfied: statsmodels>=0.9.0 in /usr/local/lib/python3.9/dist-packages (from category_encoders) (0.13.5)\n",
            "Requirement already satisfied: scikit-learn>=0.20.0 in /usr/local/lib/python3.9/dist-packages (from category_encoders) (1.2.2)\n",
            "Requirement already satisfied: numpy>=1.14.0 in /usr/local/lib/python3.9/dist-packages (from category_encoders) (1.22.4)\n",
            "Requirement already satisfied: pandas>=1.0.5 in /usr/local/lib/python3.9/dist-packages (from category_encoders) (1.5.3)\n",
            "Requirement already satisfied: patsy>=0.5.1 in /usr/local/lib/python3.9/dist-packages (from category_encoders) (0.5.3)\n",
            "Requirement already satisfied: scipy>=1.0.0 in /usr/local/lib/python3.9/dist-packages (from category_encoders) (1.10.1)\n",
            "Requirement already satisfied: python-dateutil>=2.8.1 in /usr/local/lib/python3.9/dist-packages (from pandas>=1.0.5->category_encoders) (2.8.2)\n",
            "Requirement already satisfied: pytz>=2020.1 in /usr/local/lib/python3.9/dist-packages (from pandas>=1.0.5->category_encoders) (2022.7.1)\n",
            "Requirement already satisfied: six in /usr/local/lib/python3.9/dist-packages (from patsy>=0.5.1->category_encoders) (1.16.0)\n",
            "Requirement already satisfied: threadpoolctl>=2.0.0 in /usr/local/lib/python3.9/dist-packages (from scikit-learn>=0.20.0->category_encoders) (3.1.0)\n",
            "Requirement already satisfied: joblib>=1.1.1 in /usr/local/lib/python3.9/dist-packages (from scikit-learn>=0.20.0->category_encoders) (1.2.0)\n",
            "Requirement already satisfied: packaging>=21.3 in /usr/local/lib/python3.9/dist-packages (from statsmodels>=0.9.0->category_encoders) (23.1)\n",
            "Installing collected packages: category_encoders\n",
            "Successfully installed category_encoders-2.6.0\n"
          ]
        }
      ],
      "source": [
        "pip install category_encoders"
      ],
      "id": "AsqlGUIVQXBY"
    },
    {
      "cell_type": "code",
      "execution_count": null,
      "metadata": {
        "id": "f70f759c"
      },
      "outputs": [],
      "source": [
        "import time\n",
        "\n",
        "# visualizatoin\n",
        "import matplotlib.pyplot as plt\n",
        "import seaborn as sns\n",
        "\n",
        "# data wrangling\n",
        "import pandas as pd\n",
        "import numpy as np\n",
        "\n",
        "# data preprocessing\n",
        "from sklearn.model_selection import train_test_split\n",
        "from sklearn.pipeline import Pipeline\n",
        "from sklearn.compose import ColumnTransformer, make_column_selector\n",
        "from sklearn.preprocessing import OneHotEncoder\n",
        "from sklearn.feature_selection import VarianceThreshold\n",
        "from sklearn.impute import SimpleImputer\n",
        "from sklearn.experimental import enable_iterative_imputer\n",
        "from sklearn.impute import IterativeImputer\n",
        "from sklearn.linear_model import LinearRegression\n",
        "from sklearn.compose import make_column_transformer\n",
        "import category_encoders as ce\n",
        "\n",
        "import warnings\n",
        "warnings.filterwarnings(\"ignore\")"
      ],
      "id": "f70f759c"
    },
    {
      "cell_type": "code",
      "execution_count": null,
      "metadata": {
        "colab": {
          "base_uri": "https://localhost:8080/",
          "height": 299
        },
        "id": "b7cb6bb2",
        "outputId": "d764f7ba-63d2-46aa-c074-b489ae2943d7"
      },
      "outputs": [
        {
          "data": {
            "text/html": [
              "\n",
              "  <div id=\"df-c1f078ea-6c06-4e56-9b7e-0ee391dd154d\">\n",
              "    <div class=\"colab-df-container\">\n",
              "      <div>\n",
              "<style scoped>\n",
              "    .dataframe tbody tr th:only-of-type {\n",
              "        vertical-align: middle;\n",
              "    }\n",
              "\n",
              "    .dataframe tbody tr th {\n",
              "        vertical-align: top;\n",
              "    }\n",
              "\n",
              "    .dataframe thead th {\n",
              "        text-align: right;\n",
              "    }\n",
              "</style>\n",
              "<table border=\"1\" class=\"dataframe\">\n",
              "  <thead>\n",
              "    <tr style=\"text-align: right;\">\n",
              "      <th></th>\n",
              "      <th>encounter_id</th>\n",
              "      <th>patient_id</th>\n",
              "      <th>hospital_id</th>\n",
              "      <th>hospital_death</th>\n",
              "      <th>age</th>\n",
              "      <th>bmi</th>\n",
              "      <th>elective_surgery</th>\n",
              "      <th>ethnicity</th>\n",
              "      <th>gender</th>\n",
              "      <th>height</th>\n",
              "      <th>...</th>\n",
              "      <th>aids</th>\n",
              "      <th>cirrhosis</th>\n",
              "      <th>diabetes_mellitus</th>\n",
              "      <th>hepatic_failure</th>\n",
              "      <th>immunosuppression</th>\n",
              "      <th>leukemia</th>\n",
              "      <th>lymphoma</th>\n",
              "      <th>solid_tumor_with_metastasis</th>\n",
              "      <th>apache_3j_bodysystem</th>\n",
              "      <th>apache_2_bodysystem</th>\n",
              "    </tr>\n",
              "  </thead>\n",
              "  <tbody>\n",
              "    <tr>\n",
              "      <th>0</th>\n",
              "      <td>66154</td>\n",
              "      <td>25312</td>\n",
              "      <td>118</td>\n",
              "      <td>0</td>\n",
              "      <td>68.0</td>\n",
              "      <td>22.73</td>\n",
              "      <td>0</td>\n",
              "      <td>Caucasian</td>\n",
              "      <td>M</td>\n",
              "      <td>180.3</td>\n",
              "      <td>...</td>\n",
              "      <td>0.0</td>\n",
              "      <td>0.0</td>\n",
              "      <td>1.0</td>\n",
              "      <td>0.0</td>\n",
              "      <td>0.0</td>\n",
              "      <td>0.0</td>\n",
              "      <td>0.0</td>\n",
              "      <td>0.0</td>\n",
              "      <td>Sepsis</td>\n",
              "      <td>Cardiovascular</td>\n",
              "    </tr>\n",
              "    <tr>\n",
              "      <th>1</th>\n",
              "      <td>114252</td>\n",
              "      <td>59342</td>\n",
              "      <td>81</td>\n",
              "      <td>0</td>\n",
              "      <td>77.0</td>\n",
              "      <td>27.42</td>\n",
              "      <td>0</td>\n",
              "      <td>Caucasian</td>\n",
              "      <td>F</td>\n",
              "      <td>160.0</td>\n",
              "      <td>...</td>\n",
              "      <td>0.0</td>\n",
              "      <td>0.0</td>\n",
              "      <td>1.0</td>\n",
              "      <td>0.0</td>\n",
              "      <td>0.0</td>\n",
              "      <td>0.0</td>\n",
              "      <td>0.0</td>\n",
              "      <td>0.0</td>\n",
              "      <td>Respiratory</td>\n",
              "      <td>Respiratory</td>\n",
              "    </tr>\n",
              "    <tr>\n",
              "      <th>2</th>\n",
              "      <td>119783</td>\n",
              "      <td>50777</td>\n",
              "      <td>118</td>\n",
              "      <td>0</td>\n",
              "      <td>25.0</td>\n",
              "      <td>31.95</td>\n",
              "      <td>0</td>\n",
              "      <td>Caucasian</td>\n",
              "      <td>F</td>\n",
              "      <td>172.7</td>\n",
              "      <td>...</td>\n",
              "      <td>0.0</td>\n",
              "      <td>0.0</td>\n",
              "      <td>0.0</td>\n",
              "      <td>0.0</td>\n",
              "      <td>0.0</td>\n",
              "      <td>0.0</td>\n",
              "      <td>0.0</td>\n",
              "      <td>0.0</td>\n",
              "      <td>Metabolic</td>\n",
              "      <td>Metabolic</td>\n",
              "    </tr>\n",
              "    <tr>\n",
              "      <th>3</th>\n",
              "      <td>79267</td>\n",
              "      <td>46918</td>\n",
              "      <td>118</td>\n",
              "      <td>0</td>\n",
              "      <td>81.0</td>\n",
              "      <td>22.64</td>\n",
              "      <td>1</td>\n",
              "      <td>Caucasian</td>\n",
              "      <td>F</td>\n",
              "      <td>165.1</td>\n",
              "      <td>...</td>\n",
              "      <td>0.0</td>\n",
              "      <td>0.0</td>\n",
              "      <td>0.0</td>\n",
              "      <td>0.0</td>\n",
              "      <td>0.0</td>\n",
              "      <td>0.0</td>\n",
              "      <td>0.0</td>\n",
              "      <td>0.0</td>\n",
              "      <td>Cardiovascular</td>\n",
              "      <td>Cardiovascular</td>\n",
              "    </tr>\n",
              "    <tr>\n",
              "      <th>4</th>\n",
              "      <td>92056</td>\n",
              "      <td>34377</td>\n",
              "      <td>33</td>\n",
              "      <td>0</td>\n",
              "      <td>19.0</td>\n",
              "      <td>NaN</td>\n",
              "      <td>0</td>\n",
              "      <td>Caucasian</td>\n",
              "      <td>M</td>\n",
              "      <td>188.0</td>\n",
              "      <td>...</td>\n",
              "      <td>0.0</td>\n",
              "      <td>0.0</td>\n",
              "      <td>0.0</td>\n",
              "      <td>0.0</td>\n",
              "      <td>0.0</td>\n",
              "      <td>0.0</td>\n",
              "      <td>0.0</td>\n",
              "      <td>0.0</td>\n",
              "      <td>Trauma</td>\n",
              "      <td>Trauma</td>\n",
              "    </tr>\n",
              "  </tbody>\n",
              "</table>\n",
              "<p>5 rows × 186 columns</p>\n",
              "</div>\n",
              "      <button class=\"colab-df-convert\" onclick=\"convertToInteractive('df-c1f078ea-6c06-4e56-9b7e-0ee391dd154d')\"\n",
              "              title=\"Convert this dataframe to an interactive table.\"\n",
              "              style=\"display:none;\">\n",
              "        \n",
              "  <svg xmlns=\"http://www.w3.org/2000/svg\" height=\"24px\"viewBox=\"0 0 24 24\"\n",
              "       width=\"24px\">\n",
              "    <path d=\"M0 0h24v24H0V0z\" fill=\"none\"/>\n",
              "    <path d=\"M18.56 5.44l.94 2.06.94-2.06 2.06-.94-2.06-.94-.94-2.06-.94 2.06-2.06.94zm-11 1L8.5 8.5l.94-2.06 2.06-.94-2.06-.94L8.5 2.5l-.94 2.06-2.06.94zm10 10l.94 2.06.94-2.06 2.06-.94-2.06-.94-.94-2.06-.94 2.06-2.06.94z\"/><path d=\"M17.41 7.96l-1.37-1.37c-.4-.4-.92-.59-1.43-.59-.52 0-1.04.2-1.43.59L10.3 9.45l-7.72 7.72c-.78.78-.78 2.05 0 2.83L4 21.41c.39.39.9.59 1.41.59.51 0 1.02-.2 1.41-.59l7.78-7.78 2.81-2.81c.8-.78.8-2.07 0-2.86zM5.41 20L4 18.59l7.72-7.72 1.47 1.35L5.41 20z\"/>\n",
              "  </svg>\n",
              "      </button>\n",
              "      \n",
              "  <style>\n",
              "    .colab-df-container {\n",
              "      display:flex;\n",
              "      flex-wrap:wrap;\n",
              "      gap: 12px;\n",
              "    }\n",
              "\n",
              "    .colab-df-convert {\n",
              "      background-color: #E8F0FE;\n",
              "      border: none;\n",
              "      border-radius: 50%;\n",
              "      cursor: pointer;\n",
              "      display: none;\n",
              "      fill: #1967D2;\n",
              "      height: 32px;\n",
              "      padding: 0 0 0 0;\n",
              "      width: 32px;\n",
              "    }\n",
              "\n",
              "    .colab-df-convert:hover {\n",
              "      background-color: #E2EBFA;\n",
              "      box-shadow: 0px 1px 2px rgba(60, 64, 67, 0.3), 0px 1px 3px 1px rgba(60, 64, 67, 0.15);\n",
              "      fill: #174EA6;\n",
              "    }\n",
              "\n",
              "    [theme=dark] .colab-df-convert {\n",
              "      background-color: #3B4455;\n",
              "      fill: #D2E3FC;\n",
              "    }\n",
              "\n",
              "    [theme=dark] .colab-df-convert:hover {\n",
              "      background-color: #434B5C;\n",
              "      box-shadow: 0px 1px 3px 1px rgba(0, 0, 0, 0.15);\n",
              "      filter: drop-shadow(0px 1px 2px rgba(0, 0, 0, 0.3));\n",
              "      fill: #FFFFFF;\n",
              "    }\n",
              "  </style>\n",
              "\n",
              "      <script>\n",
              "        const buttonEl =\n",
              "          document.querySelector('#df-c1f078ea-6c06-4e56-9b7e-0ee391dd154d button.colab-df-convert');\n",
              "        buttonEl.style.display =\n",
              "          google.colab.kernel.accessAllowed ? 'block' : 'none';\n",
              "\n",
              "        async function convertToInteractive(key) {\n",
              "          const element = document.querySelector('#df-c1f078ea-6c06-4e56-9b7e-0ee391dd154d');\n",
              "          const dataTable =\n",
              "            await google.colab.kernel.invokeFunction('convertToInteractive',\n",
              "                                                     [key], {});\n",
              "          if (!dataTable) return;\n",
              "\n",
              "          const docLinkHtml = 'Like what you see? Visit the ' +\n",
              "            '<a target=\"_blank\" href=https://colab.research.google.com/notebooks/data_table.ipynb>data table notebook</a>'\n",
              "            + ' to learn more about interactive tables.';\n",
              "          element.innerHTML = '';\n",
              "          dataTable['output_type'] = 'display_data';\n",
              "          await google.colab.output.renderOutput(dataTable, element);\n",
              "          const docLink = document.createElement('div');\n",
              "          docLink.innerHTML = docLinkHtml;\n",
              "          element.appendChild(docLink);\n",
              "        }\n",
              "      </script>\n",
              "    </div>\n",
              "  </div>\n",
              "  "
            ],
            "text/plain": [
              "   encounter_id  patient_id  hospital_id  hospital_death   age    bmi  \\\n",
              "0         66154       25312          118               0  68.0  22.73   \n",
              "1        114252       59342           81               0  77.0  27.42   \n",
              "2        119783       50777          118               0  25.0  31.95   \n",
              "3         79267       46918          118               0  81.0  22.64   \n",
              "4         92056       34377           33               0  19.0    NaN   \n",
              "\n",
              "   elective_surgery  ethnicity gender  height  ... aids cirrhosis  \\\n",
              "0                 0  Caucasian      M   180.3  ...  0.0       0.0   \n",
              "1                 0  Caucasian      F   160.0  ...  0.0       0.0   \n",
              "2                 0  Caucasian      F   172.7  ...  0.0       0.0   \n",
              "3                 1  Caucasian      F   165.1  ...  0.0       0.0   \n",
              "4                 0  Caucasian      M   188.0  ...  0.0       0.0   \n",
              "\n",
              "   diabetes_mellitus hepatic_failure immunosuppression  leukemia  lymphoma  \\\n",
              "0                1.0             0.0               0.0       0.0       0.0   \n",
              "1                1.0             0.0               0.0       0.0       0.0   \n",
              "2                0.0             0.0               0.0       0.0       0.0   \n",
              "3                0.0             0.0               0.0       0.0       0.0   \n",
              "4                0.0             0.0               0.0       0.0       0.0   \n",
              "\n",
              "   solid_tumor_with_metastasis  apache_3j_bodysystem  apache_2_bodysystem  \n",
              "0                          0.0                Sepsis       Cardiovascular  \n",
              "1                          0.0           Respiratory          Respiratory  \n",
              "2                          0.0             Metabolic            Metabolic  \n",
              "3                          0.0        Cardiovascular       Cardiovascular  \n",
              "4                          0.0                Trauma               Trauma  \n",
              "\n",
              "[5 rows x 186 columns]"
            ]
          },
          "execution_count": 9,
          "metadata": {},
          "output_type": "execute_result"
        }
      ],
      "source": [
        "# description\n",
        "description = pd.read_csv('WiDS_Datathon_2020_Dictionary.csv')\n",
        "description_dict = description.set_index('Variable Name').to_dict(orient='index')\n",
        "# data\n",
        "df = pd.read_csv('training_v2.csv')\n",
        "\n",
        "#print_full(description)\n",
        "df.head()"
      ],
      "id": "b7cb6bb2"
    },
    {
      "cell_type": "code",
      "execution_count": null,
      "metadata": {
        "id": "c51ec917"
      },
      "outputs": [],
      "source": [
        "# Returns category description\n",
        "\n",
        "def category(description, string):\n",
        "\n",
        "    return description[description.Category==string]\n",
        "\n",
        "# Returns highly correlated features\n",
        "def correlation(dataset, threshold):\n",
        "    col_corr = set()  # Set of all the names of correlated columns\n",
        "    corr_matrix = dataset.corr()\n",
        "    for i in range(len(corr_matrix.columns)):\n",
        "        for j in range(i):\n",
        "            if abs(corr_matrix.iloc[i, j]) > threshold: # we are interested in absolute coeff value\n",
        "                colname = corr_matrix.columns[i]  # getting the name of column\n",
        "                col_corr.add(colname)\n",
        "    return col_corr"
      ],
      "id": "c51ec917"
    },
    {
      "cell_type": "code",
      "execution_count": null,
      "metadata": {
        "id": "83b209b2"
      },
      "outputs": [],
      "source": [
        "# Parameter definitions\n",
        "test_size = 0.2 # proportion for train versus test+val split\n",
        "val_size = 0.5 # proportion for test versus val split\n",
        "random_state = 42  # random state is used to set a seed for randomness, which is only relevant for reproducibility purposes\n",
        "max_missing = 0.8  # maximum percentage of missing values for a column to be dropped"
      ],
      "id": "83b209b2"
    },
    {
      "cell_type": "code",
      "execution_count": null,
      "metadata": {
        "id": "bf4bca4c"
      },
      "outputs": [],
      "source": [
        "X = df.copy().drop(['hospital_death'], axis=1)\n",
        "y = df['hospital_death'].copy()\n",
        "y_apache = df['apache_4a_hospital_death_prob'].copy()\n",
        "\n",
        "\"\"\" SPLIT DATA SET \"\"\"\n",
        "# split the dataset into train and test+validation set\n",
        "(\n",
        "    X_train,\n",
        "    X_test,\n",
        "    y_train,\n",
        "    y_test,\n",
        "    y_apache_train,\n",
        "    y_apache_test,\n",
        "    ) = train_test_split(X, y, y_apache,\n",
        "                         test_size=test_size, # used for testing and validation\n",
        "                         random_state=random_state # for reproducibility\n",
        "                        )\n",
        "# split the test set into test + validation set\n",
        "(\n",
        "    X_val,\n",
        "    X_test,\n",
        "    y_val,\n",
        "    y_test,\n",
        "    y_apache_val,\n",
        "    y_apache_test,\n",
        "    ) = train_test_split(X_test, y_test, y_apache_test,\n",
        "                         test_size=val_size, # used for testing and validation\n",
        "                         random_state=random_state # for reproducibility\n",
        "                        )"
      ],
      "id": "bf4bca4c"
    },
    {
      "cell_type": "code",
      "execution_count": null,
      "metadata": {
        "id": "d1ec1869"
      },
      "outputs": [],
      "source": [
        "apache_cov = category(description,\"APACHE covariate\")\n",
        "vitals = category(description,\"vitals\")\n",
        "labs = category(description,\"labs\")\n",
        "\n",
        "corr_features_apache_cov = correlation(X_train[apache_cov[\"Variable Name\"]], 0.85)\n",
        "corr_features_vitals = correlation(X_train[vitals[\"Variable Name\"]], 0.85)\n",
        "corr_features_labs = correlation(X_train[labs[\"Variable Name\"]], 0.85)"
      ],
      "id": "d1ec1869"
    },
    {
      "cell_type": "code",
      "execution_count": null,
      "metadata": {
        "id": "1c77a13c"
      },
      "outputs": [],
      "source": [
        "# DROP THESE COLUMNS\n",
        "to_drop = set()\n",
        "to_drop.update(['apache_2_bodysystem', 'apache_4a_icu_death_prob', 'encounter_id', 'patient_id', 'weight', 'height',\n",
        "                'icu_stay_type', 'readmission_status', 'hospital_id', 'icu_id',\n",
        "                'apache_4a_hospital_death_prob', 'apache_4a_icu_death_prob'])\n",
        "to_drop.update(corr_features_apache_cov)\n",
        "to_drop.update(corr_features_vitals)\n",
        "to_drop.update(corr_features_labs)"
      ],
      "id": "1c77a13c"
    },
    {
      "cell_type": "code",
      "execution_count": null,
      "metadata": {
        "id": "6f4878ca"
      },
      "outputs": [],
      "source": [
        "X_train = X_train.drop(to_drop, axis=1)\n",
        "X_val = X_val.drop(to_drop, axis=1)\n",
        "X_test = X_test.drop(to_drop, axis=1)"
      ],
      "id": "6f4878ca"
    },
    {
      "cell_type": "code",
      "execution_count": null,
      "metadata": {
        "id": "41cd641c"
      },
      "outputs": [],
      "source": [
        "\"\"\"MISSING VALUES\"\"\"\n",
        "# drop columns with many missing values\n",
        "missing = X_train.isna().sum() > max_missing * len(X_train)\n",
        "missing = missing[missing].index\n",
        "X_train = X_train.drop(missing, axis=1)\n",
        "X_val = X_val.drop(missing, axis=1)\n",
        "X_test = X_test.drop(missing, axis=1)"
      ],
      "id": "41cd641c"
    },
    {
      "cell_type": "code",
      "execution_count": null,
      "metadata": {
        "id": "85d1e7f3"
      },
      "outputs": [],
      "source": [
        "def customprocessor(X, y):\n",
        "    num = [col for col in X.columns if X[col].dtypes != 'O' and ~X[col].isin([0.0,1.0,np.nan]).all()]\n",
        "    cat = [col for col in X.columns if X[col].dtypes == 'O' or X[col].isin([0.0,1.0,np.nan]).all()]\n",
        "\n",
        "    # Imputing numerical values\n",
        "    linearreg = LinearRegression()\n",
        "    imp = IterativeImputer(estimator=linearreg, missing_values=np.nan, max_iter=5, imputation_order='roman', verbose=2, random_state=42)\n",
        "    X[num] = imp.fit_transform(X[num])\n",
        "\n",
        "    # Imputing categorical values\n",
        "    impcat = SimpleImputer(strategy=\"most_frequent\")\n",
        "    X[cat] = impcat.fit_transform(X[cat])\n",
        "\n",
        "    # Turn 'gender' column into a binary column\n",
        "    gender = {'M': 1,'F': 0}\n",
        "    X.gender = [gender[item] for item in X.gender]\n",
        "\n",
        "    # Target encoding with additive smoothing\n",
        "    def calc_smooth_mean(X, y, by, on, m):\n",
        "        df = pd.concat([X, y], axis=1)\n",
        "\n",
        "        # Compute the global mean\n",
        "        mean = df[on].mean()\n",
        "\n",
        "        # Compute the number of values and the mean of each group\n",
        "        agg = df.groupby(by)[on].agg(['count', 'mean'])\n",
        "        counts = agg['count']\n",
        "        means = agg['mean']\n",
        "\n",
        "        # Compute the \"smoothed\" means\n",
        "        smooth = (counts * means + m * mean) / (counts + m)\n",
        "\n",
        "        # Replace each value by the according smoothed mean\n",
        "        return X[by].map(smooth)\n",
        "\n",
        "    X['ethnicity'] = calc_smooth_mean(X, y, by='ethnicity', on='hospital_death', m=10)\n",
        "    X['hospital_admit_source'] = calc_smooth_mean(X, y, by='hospital_admit_source', on='hospital_death', m=10)\n",
        "    X['icu_admit_source'] = calc_smooth_mean(X, y, by='icu_admit_source', on='hospital_death', m=10)\n",
        "    X['icu_type'] = calc_smooth_mean(X, y, by='icu_type', on='hospital_death', m=10)\n",
        "    X['apache_3j_bodysystem'] = calc_smooth_mean(X, y, by='apache_3j_bodysystem', on='hospital_death', m=10)\n",
        "\n",
        "    return X"
      ],
      "id": "85d1e7f3"
    },
    {
      "cell_type": "code",
      "execution_count": null,
      "metadata": {
        "colab": {
          "base_uri": "https://localhost:8080/"
        },
        "id": "f2e7531d",
        "outputId": "6226e6d5-21d9-4250-ddae-7f13a2171f88"
      },
      "outputs": [
        {
          "name": "stdout",
          "output_type": "stream",
          "text": [
            "[IterativeImputer] Completing matrix with shape (13067, 90)\n",
            "[IterativeImputer] Ending imputation round 1/5, elapsed time 6.06\n",
            "[IterativeImputer] Change: 4995.048672367039, scaled tolerance: 8.716669631999999 \n",
            "[IterativeImputer] Ending imputation round 2/5, elapsed time 12.41\n",
            "[IterativeImputer] Change: 9826.665597342115, scaled tolerance: 8.716669631999999 \n",
            "[IterativeImputer] Ending imputation round 3/5, elapsed time 18.73\n",
            "[IterativeImputer] Change: 1696.9452336419388, scaled tolerance: 8.716669631999999 \n",
            "[IterativeImputer] Ending imputation round 4/5, elapsed time 24.61\n",
            "[IterativeImputer] Change: 1032.988215778667, scaled tolerance: 8.716669631999999 \n",
            "[IterativeImputer] Ending imputation round 5/5, elapsed time 30.79\n",
            "[IterativeImputer] Change: 658.2145252855908, scaled tolerance: 8.716669631999999 \n",
            "[IterativeImputer] Completing matrix with shape (1633, 90)\n",
            "[IterativeImputer] Ending imputation round 1/5, elapsed time 1.35\n",
            "[IterativeImputer] Change: 7106.153808494147, scaled tolerance: 8.716669631999999 \n",
            "[IterativeImputer] Ending imputation round 2/5, elapsed time 2.60\n",
            "[IterativeImputer] Change: 1248.8769570549748, scaled tolerance: 8.716669631999999 \n",
            "[IterativeImputer] Ending imputation round 3/5, elapsed time 3.74\n",
            "[IterativeImputer] Change: 93.5931284858462, scaled tolerance: 8.716669631999999 \n",
            "[IterativeImputer] Ending imputation round 4/5, elapsed time 4.85\n",
            "[IterativeImputer] Change: 19.746842067961552, scaled tolerance: 8.716669631999999 \n",
            "[IterativeImputer] Ending imputation round 5/5, elapsed time 6.05\n",
            "[IterativeImputer] Change: 6.325642868861905, scaled tolerance: 8.716669631999999 \n",
            "[IterativeImputer] Early stopping criterion reached.\n",
            "[IterativeImputer] Completing matrix with shape (1634, 90)\n",
            "[IterativeImputer] Ending imputation round 1/5, elapsed time 1.10\n",
            "[IterativeImputer] Change: 5097.441886450297, scaled tolerance: 8.716669631999999 \n",
            "[IterativeImputer] Ending imputation round 2/5, elapsed time 2.18\n",
            "[IterativeImputer] Change: 1403.2124149976844, scaled tolerance: 8.716669631999999 \n",
            "[IterativeImputer] Ending imputation round 3/5, elapsed time 3.43\n",
            "[IterativeImputer] Change: 314.01228547428036, scaled tolerance: 8.716669631999999 \n",
            "[IterativeImputer] Ending imputation round 4/5, elapsed time 4.66\n",
            "[IterativeImputer] Change: 128.47138775458006, scaled tolerance: 8.716669631999999 \n",
            "[IterativeImputer] Ending imputation round 5/5, elapsed time 7.34\n",
            "[IterativeImputer] Change: 62.01610694434346, scaled tolerance: 8.716669631999999 \n"
          ]
        }
      ],
      "source": [
        "# Applying pre-processing steps\n",
        "X_train = customprocessor(X_train, y_train)\n",
        "X_val = customprocessor(X_val, y_val)\n",
        "X_test = customprocessor(X_test, y_test)"
      ],
      "id": "f2e7531d"
    },
    {
      "cell_type": "code",
      "execution_count": null,
      "metadata": {
        "colab": {
          "base_uri": "https://localhost:8080/"
        },
        "id": "2a0d6901",
        "outputId": "cc07cad2-214d-458c-91bb-7b0d53476a82"
      },
      "outputs": [
        {
          "data": {
            "text/plain": [
              "((13067, 109), (1634, 109), (1633, 109))"
            ]
          },
          "execution_count": 19,
          "metadata": {},
          "output_type": "execute_result"
        }
      ],
      "source": [
        "X_train.shape, X_test.shape, X_val.shape"
      ],
      "id": "2a0d6901"
    },
    {
      "cell_type": "code",
      "execution_count": null,
      "metadata": {
        "colab": {
          "background_save": true
        },
        "id": "468011f3",
        "outputId": "8f1335f9-2fc6-4a55-9d8e-973f7eb7c1cb"
      },
      "outputs": [
        {
          "data": {
            "text/plain": [
              "age                            float64\n",
              "bmi                            float64\n",
              "elective_surgery                object\n",
              "ethnicity                      float64\n",
              "gender                           int64\n",
              "                                ...   \n",
              "immunosuppression               object\n",
              "leukemia                        object\n",
              "lymphoma                        object\n",
              "solid_tumor_with_metastasis     object\n",
              "apache_3j_bodysystem           float64\n",
              "Length: 109, dtype: object"
            ]
          },
          "execution_count": 25,
          "metadata": {},
          "output_type": "execute_result"
        }
      ],
      "source": [
        "X_test.dtypes"
      ],
      "id": "468011f3"
    }
  ],
  "metadata": {
    "colab": {
      "provenance": [],
      "include_colab_link": true
    },
    "kernelspec": {
      "display_name": "Python 3 (ipykernel)",
      "language": "python",
      "name": "python3"
    },
    "language_info": {
      "codemirror_mode": {
        "name": "ipython",
        "version": 3
      },
      "file_extension": ".py",
      "mimetype": "text/x-python",
      "name": "python",
      "nbconvert_exporter": "python",
      "pygments_lexer": "ipython3",
      "version": "3.9.16"
    }
  },
  "nbformat": 4,
  "nbformat_minor": 5
}