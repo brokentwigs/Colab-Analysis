{
  "nbformat": 4,
  "nbformat_minor": 0,
  "metadata": {
    "colab": {
      "provenance": [],
      "authorship_tag": "ABX9TyMpMq8jr90sUI592FXN7Cdj",
      "include_colab_link": true
    },
    "kernelspec": {
      "name": "python3",
      "display_name": "Python 3"
    },
    "language_info": {
      "name": "python"
    }
  },
  "cells": [
    {
      "cell_type": "markdown",
      "metadata": {
        "id": "view-in-github",
        "colab_type": "text"
      },
      "source": [
        "<a href=\"https://colab.research.google.com/github/brokentwigs/Colab-Analysis/blob/main/XmlConversion.ipynb\" target=\"_parent\"><img src=\"https://colab.research.google.com/assets/colab-badge.svg\" alt=\"Open In Colab\"/></a>"
      ]
    },
    {
      "cell_type": "code",
      "metadata": {
        "id": "6G-SyjkaEJHj"
      },
      "source": [
        "import os\n",
        "import sys\n",
        "import numpy as np\n",
        "import pandas as pd\n",
        "import datetime as dt\n",
        "import xml.etree.cElementTree as ET\n",
        "import matplotlib.pyplot as plt"
      ],
      "execution_count": null,
      "outputs": []
    },
    {
      "cell_type": "code",
      "metadata": {
        "id": "-LlXAxsPEiR4"
      },
      "source": [
        "#PATH to all OhioT1DM data (Change this your data path)\n",
        "PATH = \"OhioT1DM\"\n",
        "\n",
        "subset_folder = \"OhioT1DM-training\"\n",
        "patient_file = \"575-ws-training.xml\"\n",
        "\n",
        "patient_path = os.path.abspath(os.path.join(PATH,subset_folder,patient_file))\n",
        "\n",
        "\n",
        "patient_path = '/'.join(patient_path.split('\\\\'))\n",
        "patient_path"
      ],
      "execution_count": null,
      "outputs": []
    },
    {
      "cell_type": "code",
      "metadata": {
        "id": "4iAJxaRhEnOk"
      },
      "source": [
        "tree = ET.parse(patient_path)\n",
        "root = tree.getroot()\n",
        "\n",
        "#Format of datetimes in the dataset\n",
        "date_fmt = '%d-%m-%Y %H:%M:%S'\n",
        "\n",
        "#Find glucose_level in xml file\n",
        "glucose_item = root.find('glucose_level')\n",
        "glucose_dict = {'date_time':[],'glucose':[]}\n",
        "\n",
        "#Store the timestamp and glucose level of each entry in a dictionary\n",
        "for event in glucose_item:\n",
        "    glucose_dict['date_time'].append(dt.datetime.strptime(event.attrib[\"ts\"], date_fmt))\n",
        "    glucose_dict['glucose'].append(float(event.attrib['value']))\n",
        "\n",
        "#Store the glucose data in a dataframe\n",
        "glucose_data = pd.DataFrame(glucose_dict).set_index('date_time')"
      ],
      "execution_count": null,
      "outputs": []
    },
    {
      "cell_type": "code",
      "metadata": {
        "id": "2F5MuRaIEn9l"
      },
      "source": [
        "glucose_data.head()"
      ],
      "execution_count": null,
      "outputs": []
    },
    {
      "cell_type": "code",
      "metadata": {
        "id": "G75KTn9MEsak"
      },
      "source": [
        "fig,ax = plt.subplots(figsize=plt.figaspect(0.25))\n",
        "glucose_data.plot(ax=ax);"
      ],
      "execution_count": null,
      "outputs": []
    }
  ]
}