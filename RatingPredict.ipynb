{
  "nbformat": 4,
  "nbformat_minor": 0,
  "metadata": {
    "colab": {
      "provenance": [],
      "include_colab_link": true
    },
    "kernelspec": {
      "name": "python3",
      "display_name": "Python 3"
    },
    "language_info": {
      "name": "python"
    }
  },
  "cells": [
    {
      "cell_type": "markdown",
      "metadata": {
        "id": "view-in-github",
        "colab_type": "text"
      },
      "source": [
        "<a href=\"https://colab.research.google.com/github/brokentwigs/Colab-Analysis/blob/main/RatingPredict.ipynb\" target=\"_parent\"><img src=\"https://colab.research.google.com/assets/colab-badge.svg\" alt=\"Open In Colab\"/></a>"
      ]
    },
    {
      "cell_type": "code",
      "execution_count": null,
      "metadata": {
        "colab": {
          "base_uri": "https://localhost:8080/"
        },
        "id": "Y6JTpP57E2cb",
        "outputId": "eb026009-8ad6-42d0-d129-494dcd6470b7"
      },
      "outputs": [
        {
          "output_type": "stream",
          "name": "stdout",
          "text": [
            "                                  Unnamed: 0       Cem    Alexia      Koen  \\\n",
            "0                        Home alone - comedy  1.218290 -0.060283 -0.181442   \n",
            "1                        Terminator - action  0.091379  0.224265  0.151626   \n",
            "2               Sherlock Holmes - detective   1.264480 -1.158560 -0.979876   \n",
            "3                         Frozen - animation -2.302680 -0.539915 -0.129290   \n",
            "4  WW2 in color - documentary series history  1.226320  0.108981 -0.060104   \n",
            "5               Planet Earth - nature series  2.440560 -0.434878 -0.590338   \n",
            "6                        Creed - sport movie -0.014700  0.971043  0.702976   \n",
            "7                    The notebook - romantic -0.282731 -0.003167  0.029717   \n",
            "8                              Jaws - Horror  0.392589  1.032960  0.701592   \n",
            "\n",
            "      David    Prayag    Robert  \n",
            "0  1.132370 -0.516899 -0.446845  \n",
            "1 -0.032706 -0.383641 -0.171930  \n",
            "2  1.738850  1.115590  0.199281  \n",
            "3 -1.804080  1.962600  1.240150  \n",
            "4  1.052590 -0.776052 -0.552434  \n",
            "5  2.429950 -0.561992 -0.705112  \n",
            "6 -0.512591 -1.456410 -0.581642  \n",
            "7 -0.253969  0.145819  0.114080  \n",
            "8 -0.176228 -1.752930 -0.780680  \n"
          ]
        }
      ],
      "source": [
        "import pandas as pd\n",
        "import numpy as np\n",
        "ratings = pd.read_csv('Ratings.csv')\n",
        "print(ratings)"
      ]
    },
    {
      "cell_type": "markdown",
      "source": [
        "# Nieuwe sectie"
      ],
      "metadata": {
        "id": "v5ROi9DvFeAI"
      }
    },
    {
      "cell_type": "code",
      "source": [],
      "metadata": {
        "id": "4Bl0wRtKkkug"
      },
      "execution_count": null,
      "outputs": []
    },
    {
      "cell_type": "markdown",
      "source": [
        "# Method 1: Weight by Similarity"
      ],
      "metadata": {
        "id": "Wqdaadi8Y6wJ"
      }
    },
    {
      "cell_type": "code",
      "source": [
        "ratings=np.genfromtxt('Ratings.csv',delimiter=',')\n",
        "np.dot(ratings[1:, person+1],ratings[1:, person+1])"
      ],
      "metadata": {
        "colab": {
          "base_uri": "https://localhost:8080/",
          "height": 182
        },
        "id": "cvtRs5h4glX6",
        "outputId": "4af3ca07-f09a-4d74-f0a2-0f06ba1b6872"
      },
      "execution_count": null,
      "outputs": [
        {
          "output_type": "error",
          "ename": "NameError",
          "evalue": "ignored",
          "traceback": [
            "\u001b[0;31m---------------------------------------------------------------------------\u001b[0m",
            "\u001b[0;31mNameError\u001b[0m                                 Traceback (most recent call last)",
            "\u001b[0;32m<ipython-input-2-2179882b883d>\u001b[0m in \u001b[0;36m<module>\u001b[0;34m()\u001b[0m\n\u001b[1;32m      1\u001b[0m \u001b[0mratings\u001b[0m\u001b[0;34m=\u001b[0m\u001b[0mnp\u001b[0m\u001b[0;34m.\u001b[0m\u001b[0mgenfromtxt\u001b[0m\u001b[0;34m(\u001b[0m\u001b[0;34m'Ratings.csv'\u001b[0m\u001b[0;34m,\u001b[0m\u001b[0mdelimiter\u001b[0m\u001b[0;34m=\u001b[0m\u001b[0;34m','\u001b[0m\u001b[0;34m)\u001b[0m\u001b[0;34m\u001b[0m\u001b[0;34m\u001b[0m\u001b[0m\n\u001b[0;32m----> 2\u001b[0;31m \u001b[0mnp\u001b[0m\u001b[0;34m.\u001b[0m\u001b[0mdot\u001b[0m\u001b[0;34m(\u001b[0m\u001b[0mratings\u001b[0m\u001b[0;34m[\u001b[0m\u001b[0;36m1\u001b[0m\u001b[0;34m:\u001b[0m\u001b[0;34m,\u001b[0m \u001b[0mperson\u001b[0m\u001b[0;34m+\u001b[0m\u001b[0;36m1\u001b[0m\u001b[0;34m]\u001b[0m\u001b[0;34m,\u001b[0m\u001b[0mratings\u001b[0m\u001b[0;34m[\u001b[0m\u001b[0;36m1\u001b[0m\u001b[0;34m:\u001b[0m\u001b[0;34m,\u001b[0m \u001b[0mperson\u001b[0m\u001b[0;34m+\u001b[0m\u001b[0;36m1\u001b[0m\u001b[0;34m]\u001b[0m\u001b[0;34m)\u001b[0m\u001b[0;34m\u001b[0m\u001b[0;34m\u001b[0m\u001b[0m\n\u001b[0m",
            "\u001b[0;31mNameError\u001b[0m: name 'person' is not defined"
          ]
        }
      ]
    },
    {
      "cell_type": "code",
      "source": [
        "import numpy as np\n",
        "import math\n",
        "\n",
        "def find_angle(v1, v2):\n",
        "  \"\"\"returns the angle in degrees\"\"\"\n",
        "  return math.degrees(math.acos(np.dot(v1, v2)/np.linalg.norm(v1)/np.linalg.norm(v2)))\n",
        "\n",
        "ratings=np.genfromtxt('Ratings.csv',delimiter=',')\n",
        "#calculate angle between upper half of ratings of each person with last person\n",
        "angle_vector=[]\n",
        "for person in range(5):\n",
        "  angle_vector.append(180-(find_angle(ratings[1:5, person+1], ratings[1:5, 6])))\n",
        "\n",
        "#calculate angle_vector 1-norm\n",
        "angle_vector_1norm=[]\n",
        "for angle in angle_vector:\n",
        "  angle_vector_1norm.append(angle / sum(angle_vector))\n",
        "\n",
        "#predict missing lower half of last person and assign it to final vector\n",
        "final_vector = ratings[1:5, 6].tolist()\n",
        "final_vector.append(np.dot(ratings[5:, 1:6].tolist(), angle_vector_1norm))\n",
        "\n",
        "final_vector\n",
        "\n"
      ],
      "metadata": {
        "id": "U_pZIVnmXcI5",
        "colab": {
          "base_uri": "https://localhost:8080/"
        },
        "outputId": "be400ddd-9ffc-4c75-a4f9-f00b67aeaa8b"
      },
      "execution_count": null,
      "outputs": [
        {
          "output_type": "execute_result",
          "data": {
            "text/plain": [
              "[-0.446845,\n",
              " -0.17193,\n",
              " 0.199281,\n",
              " 1.24015,\n",
              " array([-0.06805603,  0.12395704, -0.3861722 ,  0.0069506 , -0.41901317])]"
            ]
          },
          "metadata": {},
          "execution_count": 3
        }
      ]
    },
    {
      "cell_type": "markdown",
      "source": [
        "# Method 2: Weight by Iterative Similarity"
      ],
      "metadata": {
        "id": "u8LyrkJ3ZAM6"
      }
    },
    {
      "cell_type": "code",
      "source": [],
      "metadata": {
        "id": "oCeVOPJfZYgE"
      },
      "execution_count": null,
      "outputs": []
    },
    {
      "cell_type": "markdown",
      "source": [
        "# Method 3: Weight by Inter Genre Similarity & Iterative Similarity"
      ],
      "metadata": {
        "id": "amQ13SBGZGrS"
      }
    },
    {
      "cell_type": "code",
      "source": [],
      "metadata": {
        "id": "M63J_mo4ZNXC"
      },
      "execution_count": null,
      "outputs": []
    }
  ]
}